{
 "cells": [
  {
   "cell_type": "code",
   "execution_count": 1,
   "id": "bd8c28df-98f8-43eb-acaa-83ff3ea5ba8d",
   "metadata": {},
   "outputs": [],
   "source": [
    "from sentinelhub import DataCollection"
   ]
  },
  {
   "cell_type": "code",
   "execution_count": 3,
   "id": "2adc99db-8838-4ce1-809f-0aebbaa7a358",
   "metadata": {},
   "outputs": [
    {
     "name": "stdout",
     "output_type": "stream",
     "text": [
      "DataCollection.SENTINEL2_L1C\n",
      "DataCollection.SENTINEL2_L2A\n",
      "DataCollection.SENTINEL1\n",
      "DataCollection.SENTINEL1_IW\n",
      "DataCollection.SENTINEL1_IW_ASC\n",
      "DataCollection.SENTINEL1_IW_DES\n",
      "DataCollection.SENTINEL1_EW\n",
      "DataCollection.SENTINEL1_EW_ASC\n",
      "DataCollection.SENTINEL1_EW_DES\n",
      "DataCollection.SENTINEL1_EW_SH\n",
      "DataCollection.SENTINEL1_EW_SH_ASC\n",
      "DataCollection.SENTINEL1_EW_SH_DES\n",
      "DataCollection.DEM\n",
      "DataCollection.DEM_MAPZEN\n",
      "DataCollection.DEM_COPERNICUS_30\n",
      "DataCollection.DEM_COPERNICUS_90\n",
      "DataCollection.MODIS\n",
      "DataCollection.LANDSAT_MSS_L1\n",
      "DataCollection.LANDSAT_TM_L1\n",
      "DataCollection.LANDSAT_TM_L2\n",
      "DataCollection.LANDSAT_ETM_L1\n",
      "DataCollection.LANDSAT_ETM_L2\n",
      "DataCollection.LANDSAT_OT_L1\n",
      "DataCollection.LANDSAT_OT_L2\n",
      "DataCollection.SENTINEL5P\n",
      "DataCollection.SENTINEL3_OLCI\n",
      "DataCollection.SENTINEL3_SLSTR\n"
     ]
    }
   ],
   "source": [
    "for collection in DataCollection.get_available_collections():\n",
    "    print(collection)"
   ]
  },
  {
   "cell_type": "code",
   "execution_count": 4,
   "id": "7d1fcb88-7b3b-495a-84fa-ac9d6e1d0780",
   "metadata": {
    "collapsed": true,
    "jupyter": {
     "outputs_hidden": true
    },
    "tags": []
   },
   "outputs": [
    {
     "data": {
      "text/plain": [
       "<DataCollection.SENTINEL2_L2A: DataCollectionDefinition(\n",
       "  api_id: sentinel-2-l2a\n",
       "  catalog_id: sentinel-2-l2a\n",
       "  wfs_id: DSS2\n",
       "  service_url: https://services.sentinel-hub.com\n",
       "  collection_type: Sentinel-2\n",
       "  sensor_type: MSI\n",
       "  processing_level: L2A\n",
       "  bands: (Band(name='B01', units=(<Unit.REFLECTANCE: 'REFLECTANCE'>, <Unit.DN: 'DN'>), output_types=(<class 'numpy.float32'>, <class 'numpy.uint16'>)), Band(name='B02', units=(<Unit.REFLECTANCE: 'REFLECTANCE'>, <Unit.DN: 'DN'>), output_types=(<class 'numpy.float32'>, <class 'numpy.uint16'>)), Band(name='B03', units=(<Unit.REFLECTANCE: 'REFLECTANCE'>, <Unit.DN: 'DN'>), output_types=(<class 'numpy.float32'>, <class 'numpy.uint16'>)), Band(name='B04', units=(<Unit.REFLECTANCE: 'REFLECTANCE'>, <Unit.DN: 'DN'>), output_types=(<class 'numpy.float32'>, <class 'numpy.uint16'>)), Band(name='B05', units=(<Unit.REFLECTANCE: 'REFLECTANCE'>, <Unit.DN: 'DN'>), output_types=(<class 'numpy.float32'>, <class 'numpy.uint16'>)), Band(name='B06', units=(<Unit.REFLECTANCE: 'REFLECTANCE'>, <Unit.DN: 'DN'>), output_types=(<class 'numpy.float32'>, <class 'numpy.uint16'>)), Band(name='B07', units=(<Unit.REFLECTANCE: 'REFLECTANCE'>, <Unit.DN: 'DN'>), output_types=(<class 'numpy.float32'>, <class 'numpy.uint16'>)), Band(name='B08', units=(<Unit.REFLECTANCE: 'REFLECTANCE'>, <Unit.DN: 'DN'>), output_types=(<class 'numpy.float32'>, <class 'numpy.uint16'>)), Band(name='B8A', units=(<Unit.REFLECTANCE: 'REFLECTANCE'>, <Unit.DN: 'DN'>), output_types=(<class 'numpy.float32'>, <class 'numpy.uint16'>)), Band(name='B09', units=(<Unit.REFLECTANCE: 'REFLECTANCE'>, <Unit.DN: 'DN'>), output_types=(<class 'numpy.float32'>, <class 'numpy.uint16'>)), Band(name='B11', units=(<Unit.REFLECTANCE: 'REFLECTANCE'>, <Unit.DN: 'DN'>), output_types=(<class 'numpy.float32'>, <class 'numpy.uint16'>)), Band(name='B12', units=(<Unit.REFLECTANCE: 'REFLECTANCE'>, <Unit.DN: 'DN'>), output_types=(<class 'numpy.float32'>, <class 'numpy.uint16'>)))\n",
       "  metabands: (Band(name='AOT', units=(<Unit.OPTICAL_DEPTH: 'OPTICAL_DEPTH'>, <Unit.DN: 'DN'>), output_types=(<class 'numpy.float32'>, <class 'numpy.uint16'>)), Band(name='sunAzimuthAngles', units=(<Unit.DEGREES: 'DEGREES'>,), output_types=(<class 'numpy.float32'>,)), Band(name='viewAzimuthMean', units=(<Unit.DEGREES: 'DEGREES'>,), output_types=(<class 'numpy.float32'>,)), Band(name='sunZenithAngles', units=(<Unit.DEGREES: 'DEGREES'>,), output_types=(<class 'numpy.float32'>,)), Band(name='viewZenithMean', units=(<Unit.DEGREES: 'DEGREES'>,), output_types=(<class 'numpy.float32'>,)), Band(name='SNW', units=(<Unit.PERCENT: 'PERCENT'>,), output_types=(<class 'numpy.uint8'>,)), Band(name='CLD', units=(<Unit.PERCENT: 'PERCENT'>,), output_types=(<class 'numpy.uint8'>,)), Band(name='SCL', units=(<Unit.DN: 'DN'>,), output_types=(<class 'numpy.uint8'>,)), Band(name='CLP', units=(<Unit.DN: 'DN'>,), output_types=(<class 'numpy.uint8'>,)), Band(name='CLM', units=(<Unit.DN: 'DN'>,), output_types=(<class 'numpy.uint8'>,)), Band(name='dataMask', units=(<Unit.DN: 'DN'>,), output_types=(<class 'bool'>,)))\n",
       "  is_timeless: False\n",
       "  has_cloud_coverage: True\n",
       ")>"
      ]
     },
     "execution_count": 4,
     "metadata": {},
     "output_type": "execute_result"
    }
   ],
   "source": [
    "DataCollection.SENTINEL2_L2A"
   ]
  },
  {
   "cell_type": "code",
   "execution_count": 9,
   "id": "390dc1a8-1e43-4490-b10f-8d0bdf5524cc",
   "metadata": {},
   "outputs": [],
   "source": [
    "from sentinelhub import SHConfig, BBox, CRS, SentinelHubRequest, MimeType\n",
    "\n",
    "# Write credentials here if not already put into config.json\n",
    "CLIENT_ID = \"b5d439d6-5562-41a3-a621-2914b4361e5b\"\n",
    "CLIENT_SECRET = \"\"\n",
    "\n",
    "config = SHConfig()\n",
    "if CLIENT_ID and CLIENT_SECRET:\n",
    "    config.sh_client_id = CLIENT_ID\n",
    "    config.sh_client_secret = CLIENT_SECRET"
   ]
  },
  {
   "cell_type": "code",
   "execution_count": null,
   "id": "66859c95-6803-4d96-b8e1-0c89b4eeb72a",
   "metadata": {},
   "outputs": [],
   "source": [
    "mangrove_bbox = BBox([48.815, -13.233, 48.932, -13.309], crs=CRS.WGS84)\n",
    "mangrove_size = (700, 466)\n",
    "time_interval = '2021-01-01', '2022-01-01'\n",
    "\n",
    "evalscript_false_color = \"\"\"\n",
    "//VERSION=3\n",
    "\n",
    "function setup() {\n",
    "    return {\n",
    "        input: [{\n",
    "            bands: [\"B11\", \"B08\", \"B03\"]\n",
    "        }],\n",
    "        output: {\n",
    "            bands: 3\n",
    "        }\n",
    "    };\n",
    "}\n",
    "\n",
    "function evaluatePixel(sample) {\n",
    "    return [sample.B11, sample.B08, sample.B03];\n",
    "}\n",
    "\"\"\"\n",
    "request = SentinelHubRequest(\n",
    "    evalscript=evalscript_false_color,\n",
    "    input_data=[\n",
    "        SentinelHubRequest.input_data(\n",
    "            data_collection=DataCollection.SENTINEL2_L2A,\n",
    "            time_interval=time_interval,\n",
    "        )\n",
    "    ],\n",
    "    responses=[SentinelHubRequest.output_response(\"default\", MimeType.PNG)],\n",
    "    bbox=mangrove_bbox,\n",
    "    size=mangrove_size,\n",
    "    config=config,\n",
    ")\n",
    "\n",
    "image = request.get_data()[0]\n"
   ]
  },
  {
   "cell_type": "code",
   "execution_count": null,
   "id": "9a86e231-587f-4b56-b05e-db31f157153b",
   "metadata": {},
   "outputs": [],
   "source": []
  }
 ],
 "metadata": {
  "kernelspec": {
   "display_name": "Python 3 (ipykernel)",
   "language": "python",
   "name": "python3"
  },
  "language_info": {
   "codemirror_mode": {
    "name": "ipython",
    "version": 3
   },
   "file_extension": ".py",
   "mimetype": "text/x-python",
   "name": "python",
   "nbconvert_exporter": "python",
   "pygments_lexer": "ipython3",
   "version": "3.9.7"
  }
 },
 "nbformat": 4,
 "nbformat_minor": 5
}
