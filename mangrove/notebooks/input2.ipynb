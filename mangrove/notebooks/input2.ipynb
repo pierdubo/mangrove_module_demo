{
 "cells": [
  {
   "cell_type": "markdown",
   "id": "a77556a0-b8a8-46e3-9747-a2af387771d7",
   "metadata": {},
   "source": [
    "# Sentinel 1 and 2, and PALSAR input data\n",
    "#### Description of content here:"
   ]
  },
  {
   "cell_type": "markdown",
   "id": "d4761ff7-1bb5-4c57-89f1-00e6288a5023",
   "metadata": {},
   "source": [
    "## Intro Section"
   ]
  },
  {
   "cell_type": "code",
   "execution_count": 1,
   "id": "ae04f4b9-e031-478c-95ce-beb68e29da45",
   "metadata": {},
   "outputs": [],
   "source": [
    "import os\n",
    "import ee\n",
    "import folium"
   ]
  },
  {
   "cell_type": "code",
   "execution_count": 2,
   "id": "4a0eb548-d579-4ee6-b0a8-eb9b59bcd3f1",
   "metadata": {},
   "outputs": [],
   "source": [
    "ee.Initialize()"
   ]
  },
  {
   "cell_type": "code",
   "execution_count": 3,
   "id": "4e24766d-a15d-499e-bec4-8c65b4ee64ba",
   "metadata": {},
   "outputs": [],
   "source": [
    "import geemap\n",
    "from geemap import ml\n",
    "import pandas as pd\n",
    "from sklearn import ensemble"
   ]
  },
  {
   "cell_type": "code",
   "execution_count": 4,
   "id": "2bddaf68-a439-4804-a636-a37890bddbce",
   "metadata": {},
   "outputs": [],
   "source": [
    "geemap.ee_initialize()"
   ]
  },
  {
   "cell_type": "code",
   "execution_count": 5,
   "id": "0cf41176-85ca-4d1b-9d11-e751f3bd3a2b",
   "metadata": {},
   "outputs": [],
   "source": [
    "import ipywidgets as widgets"
   ]
  },
  {
   "cell_type": "code",
   "execution_count": 6,
   "id": "e57523ef-f156-4e62-8318-c11857f2e26b",
   "metadata": {},
   "outputs": [],
   "source": [
    "from ipynb.fs.full.indices1 import *\n",
    "# from ipynb.fs.full.mapclient import *"
   ]
  },
  {
   "cell_type": "code",
   "execution_count": 7,
   "id": "08c5e629-5a44-4818-8204-b68336ec6602",
   "metadata": {},
   "outputs": [],
   "source": [
    "iDate = '2015-01-01'\n",
    "fDate = '2022-01-01'"
   ]
  },
  {
   "cell_type": "code",
   "execution_count": 8,
   "id": "5bec68e8-58f2-4fba-a1b4-5a07a33fafca",
   "metadata": {},
   "outputs": [],
   "source": [
    "start = ee.Date.fromYMD(2021,1,1)\n",
    "end = ee.Date.fromYMD(2022,1,1)"
   ]
  },
  {
   "cell_type": "code",
   "execution_count": 9,
   "id": "ed9278b8-ae52-4fcf-9ba7-a19d20c1058b",
   "metadata": {},
   "outputs": [],
   "source": [
    "# Sentinel-1 half-year medium composites:\n",
    "#\n",
    "start1_S1 = ee.Date.fromYMD(2021,1,1);\n",
    "end1_S1 = ee.Date.fromYMD(2021,6,30);\n",
    "\n",
    "start2_S1 = ee.Date.fromYMD(2021,7,1);\n",
    "end2_S1 = ee.Date.fromYMD(2021,12,31);\n"
   ]
  },
  {
   "cell_type": "code",
   "execution_count": 10,
   "id": "5932f246-68c4-42e5-a067-0a05077ea277",
   "metadata": {},
   "outputs": [],
   "source": [
    "nw_2box = ee.FeatureCollection('projects/ee-pierdubo/assets/nw_2box')\n",
    "nw1 = (nw_2box\n",
    "       .filter(ee.Filter.eq('sel', 1)))"
   ]
  },
  {
   "cell_type": "code",
   "execution_count": 11,
   "id": "fc3aa5de-be6c-40ec-8e77-f2903b9536db",
   "metadata": {},
   "outputs": [],
   "source": [
    "# geom = ee.Geometry.Polygon(nw1)\n",
    "geom = nw1.geometry()"
   ]
  },
  {
   "cell_type": "code",
   "execution_count": 12,
   "id": "f977775f-cc77-4db1-9696-786fbaa71bb6",
   "metadata": {},
   "outputs": [],
   "source": [
    "dTrain = ee.FeatureCollection('projects/ee-pierdubo/assets/dTrain_44bds_vJan27')"
   ]
  },
  {
   "cell_type": "code",
   "execution_count": null,
   "id": "b56eaba2-6c0c-4adb-aa9e-4a07d6e81a02",
   "metadata": {},
   "outputs": [],
   "source": [
    "# cst = ee.FeatureCollection('users/yanchojo/gadm36_mmr_0_shore')"
   ]
  },
  {
   "cell_type": "code",
   "execution_count": 13,
   "id": "0c8ab898-2853-46ab-884c-29d470ababad",
   "metadata": {
    "tags": []
   },
   "outputs": [],
   "source": [
    "topo = ee.ImageCollection('users/yanchojo/topo')"
   ]
  },
  {
   "cell_type": "code",
   "execution_count": null,
   "id": "a8430379-1ff2-41d4-bec7-c1450736c423",
   "metadata": {
    "tags": []
   },
   "outputs": [],
   "source": [
    "# pp.pprint(dTrain.limit(10).getInfo())"
   ]
  },
  {
   "cell_type": "code",
   "execution_count": 14,
   "id": "6a1926fa-ca2a-4a64-8b47-a807c23c7785",
   "metadata": {},
   "outputs": [],
   "source": [
    "Mangr = ee.FeatureCollection(\"projects/ee-pierdubo/assets/gmw2016_sel1\")\n",
    "openW = ee.FeatureCollection('projects/ee-pierdubo/assets/OW_12months_sample_north_sel2')\n",
    "lc7 = ee.FeatureCollection('projects/ee-pierdubo/assets/lc_7class_v02')"
   ]
  },
  {
   "cell_type": "code",
   "execution_count": null,
   "id": "b35e80ca-2836-4ed2-b076-50d97c19ec01",
   "metadata": {},
   "outputs": [],
   "source": [
    "nfc = Mangr.merge(openW).merge(lc7)"
   ]
  },
  {
   "cell_type": "code",
   "execution_count": null,
   "id": "ab98422e-3f71-45f9-8420-e272d0861b0b",
   "metadata": {},
   "outputs": [],
   "source": [
    "print(nfc.size().getInfo())"
   ]
  },
  {
   "cell_type": "code",
   "execution_count": null,
   "id": "91d7f922-0208-4f00-9111-823aaedf5d7b",
   "metadata": {
    "tags": []
   },
   "outputs": [],
   "source": [
    "# geom"
   ]
  },
  {
   "cell_type": "code",
   "execution_count": 15,
   "id": "8561fff8-5f9d-436e-94ce-02bcb5b264a3",
   "metadata": {},
   "outputs": [],
   "source": [
    "import pprint\n",
    "pp = pprint.PrettyPrinter(depth=6, compact=True)"
   ]
  },
  {
   "cell_type": "code",
   "execution_count": null,
   "id": "62df4771-d6ff-4916-a577-67086dd27962",
   "metadata": {
    "tags": []
   },
   "outputs": [],
   "source": [
    "# pprint.pprint(nfc.limit(10).getInfo())"
   ]
  },
  {
   "cell_type": "code",
   "execution_count": 26,
   "id": "a6c728ad-f190-4ce0-8545-a43580898f11",
   "metadata": {},
   "outputs": [],
   "source": [
    "# AOI for NWestern area, using a polyline\n",
    "aoi = ee.Geometry.LineString(\n",
    "    [[49.09178474992574, -11.924273142945154],\n",
    "     [48.66331795305074, -13.275179628809104],\n",
    "     [47.818428215464124, -14.41247011042455],\n",
    "     [48.179964869881715, -14.846057452723358],\n",
    "     [48.08998151060017, -15.275048458710872],\n",
    "     [47.753046040851736, -14.483073303752759],\n",
    "     [46.60887459367574, -15.668473695347696],\n",
    "     [44.40062264055074, -16.196686141581498]])"
   ]
  },
  {
   "cell_type": "code",
   "execution_count": 27,
   "id": "62a511af-0784-4b5d-90c4-b3642c5e593d",
   "metadata": {},
   "outputs": [],
   "source": [
    "geom = aoi"
   ]
  },
  {
   "cell_type": "code",
   "execution_count": 28,
   "id": "2c9e7329-381c-4762-9903-ff4779292603",
   "metadata": {},
   "outputs": [],
   "source": [
    "geom = ee.Geometry.Rectangle([[48.815, -13.233], [48.932, -13.309]])"
   ]
  },
  {
   "cell_type": "code",
   "execution_count": 53,
   "id": "d83e8762-2ed1-45b2-8ea4-9f6a22d304fa",
   "metadata": {},
   "outputs": [],
   "source": [
    "# Set visualization parameters for MVI\n",
    "mvi_vis_params = {\n",
    "    'min': -3, 'max': 5,\n",
    "    'palette': ['04fffe','CE7E45','DF923D','F1B555','FCD163','99B718','74A901','66A000',\n",
    "                '529400','3E8601','207401','056201','004C00','023B01','012E01','011D01','011301']    \n",
    "}"
   ]
  },
  {
   "cell_type": "markdown",
   "id": "dd01c02c-69af-4f04-a0ac-60503c848f83",
   "metadata": {
    "tags": []
   },
   "source": [
    "## Main Functions: Cloud Masking, doIndices, PrepareS2, etc."
   ]
  },
  {
   "cell_type": "code",
   "execution_count": 16,
   "id": "1ea8709a-be2a-4a52-a59e-4e9e5d219c2f",
   "metadata": {},
   "outputs": [],
   "source": [
    "# Function to cloud mask from the QA60 (Sentinel-2) and from the pixel_qa band of Landsat 8 SR data\n",
    "def maskS2clouds(image):\n",
    "    QA60 = image.select(['QA60'])\n",
    "    clouds = QA60.bitwiseAnd(1 << 10).Or(QA60.bitwiseAnd(1 << 11))\n",
    "    return image.updateMask(clouds.Not())"
   ]
  },
  {
   "cell_type": "code",
   "execution_count": 35,
   "id": "9442446a-d506-459e-8b77-309521c2f740",
   "metadata": {
    "tags": []
   },
   "outputs": [],
   "source": [
    "# Calculate spectral indices for all bands in collection\n",
    "# @param {ee.ImageCollection} collection Landsat image collection\n",
    "# @returns {ee.ImageCollection} Landsat image with spectral indices\n",
    "#\n",
    "def doIndS2(image):\n",
    "    def func_gev(image):\n",
    "        NDVI = calcNDVI(image)\n",
    "        gNDVI = addGNDVI(image)\n",
    "        NBR = calcNBR(image)\n",
    "        EVI = calcEVI(image)\n",
    "        EVI2 = calcEVI2(image)\n",
    "        NDMI = addNDMI(image)\n",
    "        NDWI = addNDWI(image)\n",
    "        MNDWI = addMNDWI(image)\n",
    "        MVI = addMVI(image)\n",
    "        CMRI = addCMRI(image)\n",
    "        # MMRI = addMMRI(image)\n",
    "        EBBI = addEBBI(image)\n",
    "        ARI2 = addARI2(image)\n",
    "        ChlR = addChlR(image)\n",
    "        BSI = addBSI(image)\n",
    "        IBI = addIBI(image)\n",
    "        SAVI = addSAVI(image)        \n",
    "        # TC = tcTrans(image)\n",
    "        # NDFI function requires surface reflectance bands only\n",
    "        # BANDS = ['BLUE','GREEN','RED','NIR','SWIR1','SWIR2']\n",
    "        # NDFI = calcNDFI(image.select(BANDS))\n",
    "        return image.addBands([NDVI, gNDVI, NBR, EVI, EVI2, NDMI, NDWI, MNDWI, ARI2, ChlR, MVI, CMRI, SAVI, BSI, IBI, EBBI]) #\n",
    "    return image.map(func_gev)"
   ]
  },
  {
   "cell_type": "code",
   "execution_count": 18,
   "id": "3ab78c7f-7320-4d05-84d8-72fce9302cca",
   "metadata": {},
   "outputs": [],
   "source": [
    "# Prepare Sentinel-2 \n",
    "#\n",
    "def prepareS2(image):\n",
    "    bandList = ['B2', 'B3', 'B4', 'B5','B6','B7', 'B8', 'B8A','B11', 'B12', 'QA60']\n",
    "    nameList = ['BLUE','GREEN','RED', 'Redg1', 'Redg2', 'Redg3','NIR','NIRa','SWIR1','SWIR2','QA60']\n",
    "    scaling = 10000\n",
    "    # scaling = 1\n",
    "    scaled = ee.Image(image).select(bandList).rename(nameList).divide(ee.Image.constant(scaling))\n",
    "    return ee.Image(image).addBands(scaled)"
   ]
  },
  {
   "cell_type": "markdown",
   "id": "f2b136cc-8d4b-4614-928a-b08d249686c2",
   "metadata": {},
   "source": [
    "## Apply Functions to Collect Satellite Images, Sentinel-2 and Sentinel-1"
   ]
  },
  {
   "cell_type": "code",
   "execution_count": 36,
   "id": "5db90d31-9f83-401c-87ed-c1d41576f6d7",
   "metadata": {},
   "outputs": [],
   "source": [
    "# Generate filtered (date and cloud masks) collection of Sentinel-2 images\n",
    " # @param {ee.Image} geom Geometry used to filter the collection\n",
    " # @param {String} startDate Initial date to filter the collection\n",
    " # @param {String} endDate Final date to filter the collection\n",
    " # @param {number} cpp stands for 'Cloudy Pixel Percentage'\n",
    " # @returns {ee.ImageCollection} Filtered Sentinel-2 collection\n",
    "#\n",
    "def genCollS2(aoi, iDate, fDate, cpp):\n",
    "    collect_S2 = (ee.ImageCollection('COPERNICUS/S2')\n",
    "                  .filterDate(iDate, fDate)\n",
    "                  .filterBounds(geom)\n",
    "                  .filter(ee.Filter.lt('CLOUDY_PIXEL_PERCENTAGE', cpp))\n",
    "                  .map(maskS2clouds))\n",
    "    prep_S2 = collect_S2.map(prepareS2)\n",
    "    indices = doIndS2(prep_S2).select(['BLUE','GREEN','RED','NIR', 'NIRa','SWIR1','SWIR2',\n",
    "                                       'Redg1', 'Redg2', 'Redg3','NDVI','gNDVI','NBR','EVI','EVI2',\n",
    "                                       'NDMI','NDWI','MNDWI','ARI2','ChlR','MVI','CMRI','SAVI','BSI','IBI','EBBI'])  # 'MMRI',\n",
    "    return ee.ImageCollection(indices)    "
   ]
  },
  {
   "cell_type": "code",
   "execution_count": null,
   "id": "34631de4-21e0-4d0f-9cb4-a36d024465fe",
   "metadata": {},
   "outputs": [],
   "source": [
    "# Extra codes that were part of 'genCollS2' JS version\n",
    "# def func_ren(image):\n",
    "    #     img = image.select(['B2','B3','B4','B8','B11','B12','QA60'])\n",
    "    #     .rename(['BLUE','GREEN','RED','NIR','SWIR1','SWIR2','QA60']).divide(10000)\n",
    "    #     return img\n",
    "    # .map(func_ren)\n",
    "    # .filterMetadata('CLOUD_COVERAGE_ASSESSMENT', 'less_than', 75)\n",
    "    # return ee.ImageCollection(indices) #collect_S2; #.select('B2','B3','B4','B8','B11','B12') #ee.ImageCollection("
   ]
  },
  {
   "cell_type": "code",
   "execution_count": 30,
   "id": "ad473f0a-809c-4030-a670-955429becec4",
   "metadata": {},
   "outputs": [],
   "source": [
    "def genCollS1(aoi, iDate, fDate, orbit, smoothing_radius, kernelType):\n",
    "    img = (ee.ImageCollection('COPERNICUS/S1_GRD')\n",
    "           .filterDate(iDate, fDate)\n",
    "           .filter(ee.Filter.eq('instrumentMode', 'IW'))\n",
    "           .filter(ee.Filter.listContains('transmitterReceiverPolarisation', 'VV'))\n",
    "           .filter(ee.Filter.listContains('transmitterReceiverPolarisation', 'VH'))\n",
    "           .filter(ee.Filter.eq('orbitProperties_pass', orbit))\n",
    "           .filterMetadata('resolution_meters', 'equals', 10)\n",
    "           .filterBounds(geom)\n",
    "           .select(['V.','angle']))\n",
    "    \n",
    "    def fun_a(img):\n",
    "        geom = img.geometry()\n",
    "        angle = img.select('angle')\n",
    "        edge = img.select('VV').lt(-30.0)\n",
    "        maskedImg = img.mask().And(edge.Not())\n",
    "        return img.updateMask(maskedImg)\n",
    "    \n",
    "    def fun_b(img):\n",
    "        fmean = img.select('V.').focal_mean(smoothing_radius, kernelType, 'meters')\n",
    "        ratio = fmean.select('VH').subtract(fmean.select('VV')).rename('VHrVV')\n",
    "        sigma0Pow = ee.Image.constant(10).pow(fmean.divide(10.0))\n",
    "        ndsar = sigma0Pow.normalizedDifference(['VH', 'VV']).float().rename('NDS1')\n",
    "        return img.select().addBands(fmean).addBands(ratio).addBands(ndsar)\n",
    "    \n",
    "    return img.map(fun_b).map(fun_a)"
   ]
  },
  {
   "cell_type": "code",
   "execution_count": null,
   "id": "28a90132-b181-4a90-b597-89229a398aae",
   "metadata": {},
   "outputs": [],
   "source": [
    "def getS2(geom, iDate, fDate, cpp):\n",
    "    s2 = ee.ImageCollection('COPERNICUS/S2')\n",
    "    s2c = ee.ImageCollection('COPERNICUS/S2_CLOUD_PROBABILITY')\n",
    "    s2Sr = ee.ImageCollection('COPERNICUS/S2_SR')\n",
    "    \n",
    "    start = ee.Date(iDate)\n",
    "    end = ee.Date(fDate)\n",
    "    s2 = (s2.filterDate(start, end)\n",
    "          .filter(ee.Filter.lt('CLOUDY_PIXEL_PERCENTAGE', cpp))\n",
    "          .select(['B7', 'B8', 'B8A', 'B10']))\n",
    "    s2c = s2c.filterDate(start, end)\n",
    "    s2Sr= (s2Sr.filterDate(start, end)\n",
    "           .filter(ee.Filter.lt('CLOUDY_PIXEL_PERCENTAGE', cpp))\n",
    "           .select(['B2', 'B3', 'B4', 'B5','B6','B7','B8','B8A','B11','B12']))\n",
    "    if (geom):\n",
    "        s2 = s2.filterBounds(geom)\n",
    "        s2c = s2c.filterBounds(geom)\n",
    "        s2Sr = s2Sr.filterBounds(geom)\n",
    "    def indexJoin(collectionA, collectionB, propertyName):\n",
    "        joined = (ee.ImageCollection(ee.Join.saveFirst(propertyName).apply(**{\n",
    "            'primary': collectionA,\n",
    "            'secondary': collectionB,\n",
    "            'condition': ee.Filter.equals(**{\n",
    "                'leftField': 'system:index',\n",
    "                'rightField': 'system:index',\n",
    "            })\n",
    "        })))\n",
    "        def fun_zyp(image):\n",
    "            return image.addBands(ee.Image(image.get(propertyName)))\n",
    "        return joined.map(fun_zyp)\n",
    "     \n",
    "    def maskImage(image):\n",
    "        cdi = ee.Algorithms.Sentinel2.CDI(image)\n",
    "        s2c = image.select('probability')\n",
    "        cirrus = image.select('B10').multiply(0.0001)\n",
    "        \n",
    "        isCloud = s2c.gt(65).And(cdi.lt(-0.5)).Or(cirrus.gt(0.01))\n",
    "        \n",
    "        isCloud = isCloud.focal_min(3).focal_max(16)\n",
    "        isCloud = isCloud.reproject(**{'crs': cdi.projection(), 'scale': 20})\n",
    "        \n",
    "        shadowAzimuth = (ee.Number(90)\n",
    "                         .subtract(ee.Number(image.get('MEAN_SOLAR_AZIMUTH_ANGLE'))))\n",
    "        \n",
    "        isCloud = isCloud.directionalDistanceTransform(shadowAzimuth, 10)\n",
    "        isCloud = isCloud.reproject(**{'crs': cdi.projection(), 'scale': 100})\n",
    "        \n",
    "        isCloud = isCloud.select('distance').mask()\n",
    "        return (image.select(['B2','B3','B4','B5','B6','B7','B8','B8A','B11','B12'])\n",
    "         .rename(['BLUE','GREEN','RED','Redg1', 'Redg2', 'Redg3','NIR','NIRa','SWIR1','SWIR2'])\n",
    "         .divide(10000).updateMask(isCloud.Not())\n",
    "         .set('system:time_start', ee.Image(image.get('l1c')).get('system:time_start')))\n",
    "         \n",
    "    withCloudProbability = indexJoin(s2Sr, s2c, 'cloud_probability')\n",
    "    withS2L1C = indexJoin(withCloudProbability, s2, 'l1c')\n",
    "    \n",
    "    coll = ee.ImageCollection(withS2L1C.map(maskImage))\n",
    "    indices = doIndS2(coll).select(['BLUE','GREEN','RED','NIR', 'NIRa','SWIR1','SWIR2',\n",
    "                                       'Redg1', 'Redg2', 'Redg3','NDVI','gNDVI','NBR','EVI','EVI2',\n",
    "                                       'NDMI','NDWI','MNDWI','ARI2','ChlR','MVI','CMRI','MMRI','SAVI','BSI','IBI','EBBI']) \n",
    "    return ee.ImageCollection(indices) "
   ]
  },
  {
   "cell_type": "code",
   "execution_count": null,
   "id": "c85a5813-e001-4cd8-9f83-052f0ad5d834",
   "metadata": {},
   "outputs": [],
   "source": [
    "s2Get = getS2(aoi, start, end, 25)"
   ]
  },
  {
   "cell_type": "markdown",
   "id": "85365a16-4154-4288-b306-7345902ee22e",
   "metadata": {},
   "source": [
    "### Collect Sentinel-1 "
   ]
  },
  {
   "cell_type": "code",
   "execution_count": 31,
   "id": "18c1e885-5f3d-450b-a281-0a0b32e657b6",
   "metadata": {},
   "outputs": [],
   "source": [
    "s1Coll = genCollS1(aoi, iDate, fDate, 'DESCENDING', 30, 'circle')"
   ]
  },
  {
   "cell_type": "code",
   "execution_count": 32,
   "id": "5b4c36d8-093d-473e-b789-72da751353f2",
   "metadata": {},
   "outputs": [],
   "source": [
    "SARV_1 = (s1Coll.select(['VH','VV','VHrVV','NDS1'])\n",
    "          .filterDate(start1_S1, end1_S1).median()\n",
    "          .rename('VH_1', 'VV_1', 'VHrVV_1', 'NDS1_1'))"
   ]
  },
  {
   "cell_type": "code",
   "execution_count": 33,
   "id": "0b4e72c5-432c-4946-adcd-a2af5cfc88ae",
   "metadata": {},
   "outputs": [],
   "source": [
    "SARV_2 = (s1Coll.select(['VH','VV','VHrVV','NDS1'])\n",
    "          .filterDate(start2_S1, end2_S1).median()\n",
    "          .rename('VH_2', 'VV_2', 'VHrVV_2', 'NDS1_2'))"
   ]
  },
  {
   "cell_type": "markdown",
   "id": "0345c3ee-7525-4a51-b1bd-3687111ae188",
   "metadata": {},
   "source": [
    "### Collect Sentinel-2"
   ]
  },
  {
   "cell_type": "code",
   "execution_count": 37,
   "id": "a3d1734b-2f60-4b58-aae1-02a82c770339",
   "metadata": {},
   "outputs": [],
   "source": [
    "s2Coll = genCollS2(aoi, start, end, 25)"
   ]
  },
  {
   "cell_type": "code",
   "execution_count": 38,
   "id": "c4d4cd17-aac3-4f03-ae31-41c29b0502a6",
   "metadata": {
    "collapsed": true,
    "jupyter": {
     "outputs_hidden": true
    },
    "tags": []
   },
   "outputs": [
    {
     "data": {
      "text/plain": [
       "['BLUE',\n",
       " 'GREEN',\n",
       " 'RED',\n",
       " 'NIR',\n",
       " 'NIRa',\n",
       " 'SWIR1',\n",
       " 'SWIR2',\n",
       " 'Redg1',\n",
       " 'Redg2',\n",
       " 'Redg3',\n",
       " 'NDVI',\n",
       " 'gNDVI',\n",
       " 'NBR',\n",
       " 'EVI',\n",
       " 'EVI2',\n",
       " 'NDMI',\n",
       " 'NDWI',\n",
       " 'MNDWI',\n",
       " 'ARI2',\n",
       " 'ChlR',\n",
       " 'MVI',\n",
       " 'CMRI',\n",
       " 'SAVI',\n",
       " 'BSI',\n",
       " 'IBI',\n",
       " 'EBBI']"
      ]
     },
     "execution_count": 38,
     "metadata": {},
     "output_type": "execute_result"
    }
   ],
   "source": [
    "s2Coll.median().bandNames().getInfo()"
   ]
  },
  {
   "cell_type": "code",
   "execution_count": null,
   "id": "da027f5a-21e9-40dd-9b5b-a5434f9908b5",
   "metadata": {},
   "outputs": [],
   "source": [
    "# An array of 'dates' from an ee Image Collection\n",
    "def func_dateProp(img):\n",
    "    return ee.Feature(None, {'date': img.date().format('YYYY-MM-dd')})"
   ]
  },
  {
   "cell_type": "code",
   "execution_count": null,
   "id": "b2a935f8-79df-4a33-bc61-cb4ec74942a7",
   "metadata": {},
   "outputs": [],
   "source": [
    "### JavaScript version:\n",
    "# var dates = S1coll\n",
    "#     .map(function(image) {\n",
    "#       return ee.Feature(null, {'date': image.date().format('YYYY-MM-dd')});\n",
    "#     })\n",
    "#     .aggregate_array('date');"
   ]
  },
  {
   "cell_type": "code",
   "execution_count": null,
   "id": "25f0cb0b-d165-4b4e-a7e5-09de0f2cfa90",
   "metadata": {},
   "outputs": [],
   "source": []
  },
  {
   "cell_type": "code",
   "execution_count": null,
   "id": "c2ef163d-738d-4e47-ac84-f7258120d892",
   "metadata": {},
   "outputs": [],
   "source": [
    "dateS2 = s2Coll.map(func_dateProp).aggregate_array('date')"
   ]
  },
  {
   "cell_type": "code",
   "execution_count": null,
   "id": "b7f8b042-1002-4b12-a0a2-e184ad70384f",
   "metadata": {
    "tags": []
   },
   "outputs": [],
   "source": [
    "dateS2.getInfo()"
   ]
  },
  {
   "cell_type": "code",
   "execution_count": null,
   "id": "7bd8e0e6-49c5-40f3-abc7-6d9ed97eaae0",
   "metadata": {},
   "outputs": [],
   "source": []
  },
  {
   "cell_type": "code",
   "execution_count": null,
   "id": "099a9fc2-3362-4931-931e-188e651b4ebb",
   "metadata": {},
   "outputs": [],
   "source": [
    "s1Coll_f = s1Coll.first()"
   ]
  },
  {
   "cell_type": "code",
   "execution_count": null,
   "id": "74f5e1ea-3e3e-43ea-a1fc-6d923966f18b",
   "metadata": {},
   "outputs": [],
   "source": [
    "s2Coll_f = s2Coll.first()"
   ]
  },
  {
   "cell_type": "code",
   "execution_count": null,
   "id": "b5cbc380-8db9-4c1e-af37-a7035a7cd4a8",
   "metadata": {},
   "outputs": [],
   "source": [
    "ee.Date(s2Coll_f.get('system:time_start')).format('YYYY-MM-dd').getInfo()"
   ]
  },
  {
   "cell_type": "code",
   "execution_count": null,
   "id": "01d5e5b0-859b-4487-ad6f-7a7416b8c037",
   "metadata": {},
   "outputs": [],
   "source": [
    "s2Coll_fProps = geemap.image_props(s2Coll_f)"
   ]
  },
  {
   "cell_type": "code",
   "execution_count": null,
   "id": "ab44ff56-f81c-4f45-902b-816368462836",
   "metadata": {
    "tags": []
   },
   "outputs": [],
   "source": [
    "s1Coll_fStats = geemap.image_stats(s1Coll_f, scale=30)\n",
    "s1Coll_fStats.getInfo()"
   ]
  },
  {
   "cell_type": "code",
   "execution_count": null,
   "id": "ac8aafc2-3cda-46cc-86e8-8a02d0076ca5",
   "metadata": {
    "tags": []
   },
   "outputs": [],
   "source": [
    "s2Coll_fProps.getInfo()"
   ]
  },
  {
   "cell_type": "code",
   "execution_count": null,
   "id": "5c55d0c0-f5be-4c8c-9211-6f5d3c4b9bbb",
   "metadata": {},
   "outputs": [],
   "source": [
    "def getCloudScores(img):\n",
    "    value = ee.Image(img).get('CLOUDY_PIXEL_PERCENTAGE')\n",
    "    return ee.Feature(None, {'score': value})"
   ]
  },
  {
   "cell_type": "code",
   "execution_count": null,
   "id": "36da5762-08a2-460d-9196-5a51a11579aa",
   "metadata": {},
   "outputs": [],
   "source": [
    "cloudS2 = s2Coll.map(getCloudScores).aggregate_array('score')"
   ]
  },
  {
   "cell_type": "code",
   "execution_count": null,
   "id": "fa053fc4-bd31-4bed-8da8-df69c77aace9",
   "metadata": {},
   "outputs": [],
   "source": [
    "cloudS2.getInfo()"
   ]
  },
  {
   "cell_type": "code",
   "execution_count": null,
   "id": "539ce677-bfc0-41f8-904d-4b1fbc1e8d29",
   "metadata": {},
   "outputs": [],
   "source": [
    "## Just testing a simplified version for S2 image coll\n",
    "#\n",
    "coll_S2 = (ee.ImageCollection('COPERNICUS/S2')\n",
    "              .filterDate(iDate, fDate)\n",
    "              .filterBounds(geom)\n",
    "              .filter(ee.Filter.lt('CLOUDY_PIXEL_PERCENTAGE', 25))\n",
    "              .map(maskS2clouds)\n",
    "              .map(prepareS2).select(['BLUE','GREEN','RED','NIR','SWIR1','SWIR2','QA60']))\n"
   ]
  },
  {
   "cell_type": "markdown",
   "id": "1189d49a-6b4f-4ced-b90b-aebc155603e6",
   "metadata": {},
   "source": [
    "### Display Results for S1 and S2"
   ]
  },
  {
   "cell_type": "code",
   "execution_count": 39,
   "id": "fe2b88ec-fbfe-4c4b-9e33-eb0af53fc0d6",
   "metadata": {},
   "outputs": [],
   "source": [
    "image = s2Coll.median()"
   ]
  },
  {
   "cell_type": "code",
   "execution_count": 40,
   "id": "b24faa66-34b6-434a-9707-a8cd61697af1",
   "metadata": {
    "collapsed": true,
    "jupyter": {
     "outputs_hidden": true
    },
    "tags": []
   },
   "outputs": [
    {
     "data": {
      "text/plain": [
       "['BLUE',\n",
       " 'GREEN',\n",
       " 'RED',\n",
       " 'NIR',\n",
       " 'NIRa',\n",
       " 'SWIR1',\n",
       " 'SWIR2',\n",
       " 'Redg1',\n",
       " 'Redg2',\n",
       " 'Redg3',\n",
       " 'NDVI',\n",
       " 'gNDVI',\n",
       " 'NBR',\n",
       " 'EVI',\n",
       " 'EVI2',\n",
       " 'NDMI',\n",
       " 'NDWI',\n",
       " 'MNDWI',\n",
       " 'ARI2',\n",
       " 'ChlR',\n",
       " 'MVI',\n",
       " 'CMRI',\n",
       " 'SAVI',\n",
       " 'BSI',\n",
       " 'IBI',\n",
       " 'EBBI']"
      ]
     },
     "execution_count": 40,
     "metadata": {},
     "output_type": "execute_result"
    }
   ],
   "source": [
    "image.bandNames().getInfo()"
   ]
  },
  {
   "cell_type": "code",
   "execution_count": 41,
   "id": "3c3fefa3-5def-4e26-8e38-0dca4fc7e237",
   "metadata": {},
   "outputs": [],
   "source": [
    "# ndviSD = s2Coll.map(addNDVIsd).median() # Returned '0' Hmmm!!\n",
    "ndviSD = s2Coll.select('NDVI').reduce(ee.Reducer.stdDev()).rename('ndviSD')"
   ]
  },
  {
   "cell_type": "code",
   "execution_count": 42,
   "id": "640509d8-190a-4435-b7e5-d869ebc37186",
   "metadata": {},
   "outputs": [],
   "source": [
    "image = image.addBands(ndviSD)"
   ]
  },
  {
   "cell_type": "code",
   "execution_count": 43,
   "id": "ac2069bc-318e-4d5e-940b-34c1175b67f1",
   "metadata": {},
   "outputs": [],
   "source": [
    "image = image.addBands(SARV_1)\n",
    "image = image.addBands(SARV_2)"
   ]
  },
  {
   "cell_type": "code",
   "execution_count": null,
   "id": "ef6cfef6-5a46-4588-871b-c294f0302ee2",
   "metadata": {},
   "outputs": [],
   "source": [
    "geom1 = ee.Geometry.Rectangle([[48.1227, -13.2193], [48.9772, -13.7135]])"
   ]
  },
  {
   "cell_type": "code",
   "execution_count": null,
   "id": "62b7d507-f84c-440f-8017-11c890cbd2f0",
   "metadata": {},
   "outputs": [],
   "source": [
    "Map.addLayer(nw_2box, {'color': 'blue'}, 'nfc')"
   ]
  },
  {
   "cell_type": "code",
   "execution_count": null,
   "id": "fff4c0af-298b-43c6-ba1d-029c97c383db",
   "metadata": {},
   "outputs": [],
   "source": [
    "Map.addLayer(nfc+, {'color': 'yellow'}, 'nfc+')"
   ]
  },
  {
   "cell_type": "code",
   "execution_count": null,
   "id": "60f6c7b5-6d93-430a-a8bf-0501d1effb82",
   "metadata": {
    "tags": []
   },
   "outputs": [],
   "source": [
    "chlr2 = s2Coll.map(addChlR).median()\n",
    "image = image.addBands(chlr2)"
   ]
  },
  {
   "cell_type": "code",
   "execution_count": null,
   "id": "c36b58f4-a9a4-40ad-bb68-82c39b61da64",
   "metadata": {
    "tags": []
   },
   "outputs": [],
   "source": [
    "Map.addLayer(mmrix, mvi_vis_params , 'mmrix')"
   ]
  },
  {
   "cell_type": "code",
   "execution_count": 45,
   "id": "804120fe-1c0a-49d7-ab72-e88576cf0565",
   "metadata": {
    "collapsed": true,
    "jupyter": {
     "outputs_hidden": true
    },
    "tags": []
   },
   "outputs": [
    {
     "ename": "NameError",
     "evalue": "name 'coll_S2' is not defined",
     "output_type": "error",
     "traceback": [
      "\u001b[1;31m---------------------------------------------------------------------------\u001b[0m",
      "\u001b[1;31mNameError\u001b[0m                                 Traceback (most recent call last)",
      "Input \u001b[1;32mIn [45]\u001b[0m, in \u001b[0;36m<cell line: 1>\u001b[1;34m()\u001b[0m\n\u001b[1;32m----> 1\u001b[0m Map\u001b[38;5;241m.\u001b[39maddLayer(\u001b[43mcoll_S2\u001b[49m\u001b[38;5;241m.\u001b[39mselect([\u001b[38;5;124m'\u001b[39m\u001b[38;5;124mSWIR1\u001b[39m\u001b[38;5;124m'\u001b[39m,\u001b[38;5;124m'\u001b[39m\u001b[38;5;124mNIR\u001b[39m\u001b[38;5;124m'\u001b[39m,\u001b[38;5;124m'\u001b[39m\u001b[38;5;124mGREEN\u001b[39m\u001b[38;5;124m'\u001b[39m])\u001b[38;5;241m.\u001b[39mmedian(), {\u001b[38;5;124m'\u001b[39m\u001b[38;5;124mbands\u001b[39m\u001b[38;5;124m'\u001b[39m: [\u001b[38;5;124m'\u001b[39m\u001b[38;5;124mSWIR1\u001b[39m\u001b[38;5;124m'\u001b[39m,\u001b[38;5;124m'\u001b[39m\u001b[38;5;124mNIR\u001b[39m\u001b[38;5;124m'\u001b[39m,\u001b[38;5;124m'\u001b[39m\u001b[38;5;124mGREEN\u001b[39m\u001b[38;5;124m'\u001b[39m], \u001b[38;5;124m'\u001b[39m\u001b[38;5;124mmin\u001b[39m\u001b[38;5;124m'\u001b[39m:\u001b[38;5;241m0.020\u001b[39m, \u001b[38;5;124m'\u001b[39m\u001b[38;5;124mmax\u001b[39m\u001b[38;5;124m'\u001b[39m:\u001b[38;5;241m0.400\u001b[39m, \u001b[38;5;124m'\u001b[39m\u001b[38;5;124mgamma\u001b[39m\u001b[38;5;124m'\u001b[39m: \u001b[38;5;241m0.85\u001b[39m}, \u001b[38;5;124m'\u001b[39m\u001b[38;5;124mSentinel-2 Coll\u001b[39m\u001b[38;5;124m'\u001b[39m)\n",
      "\u001b[1;31mNameError\u001b[0m: name 'coll_S2' is not defined"
     ]
    }
   ],
   "source": [
    "Map.addLayer(coll_S2.select(['SWIR1','NIR','GREEN']).median(), {'bands': ['SWIR1','NIR','GREEN'], 'min':0.020, 'max':0.400, 'gamma': 0.85}, 'Sentinel-2 Coll')"
   ]
  },
  {
   "cell_type": "code",
   "execution_count": null,
   "id": "6965efd2-8443-41b2-b142-a0740d1245c1",
   "metadata": {},
   "outputs": [],
   "source": [
    "Map.addLayer(s2Coll.median(), {}, 'S2 Collection_all')"
   ]
  },
  {
   "cell_type": "code",
   "execution_count": 46,
   "id": "d3c2bcb0-eeb7-410d-8b5e-109245c2c499",
   "metadata": {},
   "outputs": [],
   "source": [
    "Map.addLayer(s2Coll.select(['SWIR1','NIR','GREEN']).median(), {'bands': ['SWIR1','NIR','GREEN'], 'min':0.020, 'max':0.400, 'gamma': 0.85}, 'Sentinel-2 Coll')"
   ]
  },
  {
   "cell_type": "code",
   "execution_count": 55,
   "id": "7cf79469-c93b-497f-ac8d-6d6774c2df9a",
   "metadata": {},
   "outputs": [],
   "source": [
    "Map.addLayer(SARV_1.select(['VV_1','VH_1','VHrVV_1']), {'bands': ['VV_1','VH_1','VHrVV_1'], 'min':-16, 'max':-5, 'gamma': 0.90}, 'S1 Jan-Jul')\n",
    "Map.addLayer(SARV_2.select(['VV_2','VH_2','VHrVV_2']), {'bands': ['VV_2','VH_2','VHrVV_2'], 'min':-16, 'max':-5, 'gamma': 0.90}, 'S1 Jul-Dec')"
   ]
  },
  {
   "cell_type": "code",
   "execution_count": 54,
   "id": "149e920d-08d0-4f27-a862-7f84b207d3a4",
   "metadata": {},
   "outputs": [],
   "source": [
    "Map.addLayer(image.select('MVI').clip(nw1), mvi_vis_params, 'Image')"
   ]
  },
  {
   "cell_type": "code",
   "execution_count": null,
   "id": "0b7b994b-803c-493d-b3de-3e6b6c94b04f",
   "metadata": {},
   "outputs": [],
   "source": [
    "Map.addLayer(img_rfClass.randomVisualizer(), {}, 'classified')"
   ]
  },
  {
   "cell_type": "code",
   "execution_count": null,
   "id": "474462d2-fdc0-4892-9298-425a01d76df4",
   "metadata": {},
   "outputs": [],
   "source": [
    "Map.addLayer(s2Get.select(['SWIR1','NIR','GREEN']).median().clip(geom1), {'bands': ['SWIR1','NIR','GREEN'], 'min':0.020, 'max':0.400, 'gamma': 0.85}, 'S2 get', 1, 0.8)"
   ]
  },
  {
   "cell_type": "code",
   "execution_count": 44,
   "id": "f82d7232-1c16-45f6-825a-7bc0ce5aa871",
   "metadata": {
    "tags": []
   },
   "outputs": [
    {
     "data": {
      "application/vnd.jupyter.widget-view+json": {
       "model_id": "e5f41542acf74c6fa72086595069f6ff",
       "version_major": 2,
       "version_minor": 0
      },
      "text/plain": [
       "Map(center=[-13.5, 48.4], controls=(WidgetControl(options=['position', 'transparent_bg'], widget=HBox(children…"
      ]
     },
     "metadata": {},
     "output_type": "display_data"
    }
   ],
   "source": [
    "Map = geemap.Map(center=(-13.5, 48.4), zoom=8)\n",
    "Map"
   ]
  },
  {
   "cell_type": "code",
   "execution_count": null,
   "id": "7c08c788-3652-4c0f-a45b-bddfcb70f2d3",
   "metadata": {
    "tags": []
   },
   "outputs": [],
   "source": [
    "mmrix = s2Coll.map(addMMRIx).median()"
   ]
  },
  {
   "cell_type": "code",
   "execution_count": null,
   "id": "e38b7475-8d45-42f1-a435-24459b8391c1",
   "metadata": {
    "tags": []
   },
   "outputs": [],
   "source": [
    "mmrix.bandNames().getInfo()"
   ]
  },
  {
   "cell_type": "code",
   "execution_count": null,
   "id": "dd5f5f06-25cc-49e5-a967-22114025fa35",
   "metadata": {},
   "outputs": [],
   "source": [
    "# 17. Calculate/addBands: MMRI Modular Mangrove Recognition Index (MNDWI-NDVI)(MNDWI+NDVI); Diniz et al. 2018\n",
    "#\n",
    "def addMMRIx(image):\n",
    "    ndvi = ee.Image(image).normalizedDifference(['NIR', 'RED']).abs()\n",
    "    mndwi = ee.Image(image).normalizedDifference(['GREEN','SWIR1']).abs()\n",
    "    mmri = ee.Image(mndwi.subtract(ndvi)).divide(ee.Image(mndwi.add(ndvi))).rename(['MMRIx'])\n",
    "    return mmri    "
   ]
  },
  {
   "cell_type": "code",
   "execution_count": null,
   "id": "1ecc3aaf-92b1-47fa-8dae-30032d79f5a2",
   "metadata": {
    "tags": []
   },
   "outputs": [],
   "source": [
    "chlr2 = s2Coll.map(addChlR).median()\n",
    "image = image.addBands(chlr2)"
   ]
  },
  {
   "cell_type": "code",
   "execution_count": null,
   "id": "2f5386d2-950e-4151-99ca-a0db18c2717f",
   "metadata": {},
   "outputs": [],
   "source": [
    "# 12. Calculate/addBands: ChlR [Sentinel-2 only]\n",
    "#\n",
    "def addChlR(image):\n",
    "    chlRedg = ee.Image(image).expression(\n",
    "        'pow((Redg3 / Redg1), -1.0)',\n",
    "        {\n",
    "            'Redg1': image.select(['Redg1']),\n",
    "            'Redg3': image.select(['Redg3'])\n",
    "        }).float().rename('ChlR2')\n",
    "    return image.addBands(chlRedg)"
   ]
  },
  {
   "cell_type": "code",
   "execution_count": null,
   "id": "9fdf3ce2-de40-4982-8cd1-100b6940bb12",
   "metadata": {},
   "outputs": [],
   "source": []
  },
  {
   "cell_type": "markdown",
   "id": "fa6279f8-2e27-4401-acd5-057fa5cda552",
   "metadata": {},
   "source": [
    "## PALSAR"
   ]
  },
  {
   "cell_type": "code",
   "execution_count": null,
   "id": "31c6de09-627e-4963-9b76-5d69bdfa1f83",
   "metadata": {},
   "outputs": [],
   "source": [
    "def getPALSAR(year):\n",
    "    smoothing_radius = 30\n",
    "    kernelType = 'circle'\n",
    "    img = ee.Image(\"JAXA/ALOS/PALSAR/YEARLY/SAR/\" + year)\n",
    "    fmean = img.select('H.').focal_mean(smoothing_radius, kernelType, 'meters')\n",
    "    dB = fmean.select('H.').pow(2).log10().multiply(10).add(-83.0)\n",
    "    ratio = dB.select('HV').subtract(dB.select('HH')).rename('HVrHH').float()\n",
    "    return dB.addBands(ratio).float()"
   ]
  },
  {
   "cell_type": "code",
   "execution_count": null,
   "id": "bcaf4db7-3de9-4feb-9f7f-2caa8084302b",
   "metadata": {},
   "outputs": [],
   "source": [
    "palsar20 = getPALSAR('2020')"
   ]
  },
  {
   "cell_type": "code",
   "execution_count": null,
   "id": "95d2aaf5-fe24-48f5-865d-1fde970fb1ce",
   "metadata": {},
   "outputs": [],
   "source": [
    "print(palsar20.getInfo())"
   ]
  },
  {
   "cell_type": "code",
   "execution_count": null,
   "id": "b9cd9ffb-481b-4392-8555-d121b81dd8ab",
   "metadata": {},
   "outputs": [],
   "source": [
    "image = image.addBands(palsar20)"
   ]
  },
  {
   "cell_type": "code",
   "execution_count": null,
   "id": "74ccb059-181a-4669-bdab-57b901be38b1",
   "metadata": {},
   "outputs": [],
   "source": [
    "Map.addLayer(palsar20.select(['HH','HV','HVrHH']), {'bands': ['HH','HV','HVrHH'], 'min':-16, 'max':-5, 'gamma': 0.90}, 'PALSAR 2020')"
   ]
  },
  {
   "cell_type": "code",
   "execution_count": null,
   "id": "e27e5bee-0954-4aa8-b099-55fd0c0fb416",
   "metadata": {},
   "outputs": [],
   "source": [
    "Map.addLayer(img, {}, 'Image...')"
   ]
  },
  {
   "cell_type": "code",
   "execution_count": null,
   "id": "0f4d3ea0-91db-44d3-9fc8-b419cc3c3ec1",
   "metadata": {
    "tags": []
   },
   "outputs": [],
   "source": [
    "Map.addLayer(train_dat, {'colour': 'yellow'}, 'train data s2Coll')"
   ]
  },
  {
   "cell_type": "code",
   "execution_count": null,
   "id": "19822d1d-895c-4f8c-ab23-7563d0616203",
   "metadata": {
    "tags": []
   },
   "outputs": [],
   "source": [
    "Map = geemap.Map(center=(-13.5, 48.4), zoom=8)\n",
    "Map"
   ]
  },
  {
   "cell_type": "code",
   "execution_count": null,
   "id": "ccafeda2-b676-4fb9-a2ac-b746200d71af",
   "metadata": {},
   "outputs": [],
   "source": [
    "# del(image)"
   ]
  },
  {
   "cell_type": "markdown",
   "id": "8da6c778-6b27-4e88-bc5f-ce4ee11b14f0",
   "metadata": {},
   "source": [
    "## JRC Global Surface Water"
   ]
  },
  {
   "cell_type": "code",
   "execution_count": null,
   "id": "bc6186e0-8edc-4d87-bc7f-71f0cb93e7e7",
   "metadata": {},
   "outputs": [],
   "source": [
    "# xx. Direct outputs from JRC's GSW1_3 Global Surface Water:\n",
    "#\n",
    "jrcImage = ee.Image(\"JRC/GSW1_3/GlobalSurfaceWater\")"
   ]
  },
  {
   "cell_type": "code",
   "execution_count": null,
   "id": "4dc1bf88-b107-42ab-979d-a8042bd39ba2",
   "metadata": {
    "tags": []
   },
   "outputs": [],
   "source": [
    "# Add the 6 standard JRC Bands to the image stack, or (see next):\n",
    "#\n",
    "image = image.addBands(jrcImage.unmask(0).select(['occurrence','change_abs','change_norm','seasonality','transition','max_extent'])\n",
    "                     .rename(['occurrence','change_abs','change_norm','seasonality','transition','max_extent']))"
   ]
  },
  {
   "cell_type": "code",
   "execution_count": null,
   "id": "0f371243-c381-4b14-bf2a-a45f3d7a141c",
   "metadata": {
    "tags": []
   },
   "outputs": [],
   "source": [
    "# xx. Retrieve JRC / addBands and rename (rename: 'change_norm' & 'seasonality' —> 'seasonalit', 10-char max.):  \n",
    "#\n",
    "def addJRC(image):\n",
    "    # Update the mask (??)\n",
    "    image = image.unmask(0)\n",
    "    image = image.addBands(jrcImage.select(['occurrence']).rename(['occurrence']))\n",
    "    image = image.addBands(jrcImage.select(['change_abs']).rename(['change_abs']))\n",
    "    image = image.addBands(jrcImage.select(['change_norm']).rename(['change_nor']))\n",
    "    image = image.addBands(jrcImage.select(['seasonality']).rename(['seasonalit']))\n",
    "    image = image.addBands(jrcImage.select(['transition']).rename(['transition']))\n",
    "    image = image.addBands(jrcImage.select(['max_extent']).rename(['max_extent']))\n",
    "    return image #.select(['occurrence','change_abs','change_nor','seasonalit','transition','max_extent'])"
   ]
  },
  {
   "cell_type": "code",
   "execution_count": null,
   "id": "45ff938b-d1c8-43ae-8b1e-92fb15574669",
   "metadata": {},
   "outputs": [],
   "source": [
    "del(jrc)\n",
    "jrc = addJRC(jrcImage)"
   ]
  },
  {
   "cell_type": "markdown",
   "id": "b6aa8289-acdc-437a-ac4f-6554030cda6b",
   "metadata": {},
   "source": [
    "## DEM: SRTM, NASADEM, and ALOS 'AW3D30' DSM"
   ]
  },
  {
   "cell_type": "code",
   "execution_count": null,
   "id": "ed9f644d-ec9e-4294-8162-657ba6a77ad1",
   "metadata": {},
   "outputs": [],
   "source": [
    "# Three DEM versions, NASADEM should be an improvement ... need to check the band contents, as it differs between versions ***\n",
    "#\n",
    "srtm = ee.Image(\"USGS/SRTMGL1_003\")\n",
    "srtm1 = ee.Image(\"NASA/NASADEM_HGT/001\")\n",
    "aDem = ee.Image(\"JAXA/ALOS/AW3D30/V3_2\").select('DSM')"
   ]
  },
  {
   "cell_type": "code",
   "execution_count": null,
   "id": "a35c5802-8ca6-46c0-855c-d97de96f6f11",
   "metadata": {},
   "outputs": [],
   "source": [
    "import math"
   ]
  },
  {
   "cell_type": "code",
   "execution_count": null,
   "id": "079da074-c7c7-40db-9fd9-ac92371393fd",
   "metadata": {
    "tags": []
   },
   "outputs": [],
   "source": [
    "# xx. Calculate/addBands Topographic Indices: (i) slope and aspect; (ii) east- and northness\n",
    "#\n",
    "import math\n",
    "def addTopo(image):\n",
    "    topo = ee.Algorithms.Terrain(image)\n",
    "  # From aspect (a), calculate 'eastness (sin a), northness (cos a)\n",
    "    deg2rad = ee.Number(math.pi).divide(180)\n",
    "    aspect = topo.select('aspect')\n",
    "    aspect_rad = aspect.multiply(deg2rad)\n",
    "    eastness = aspect_rad.sin().rename('eastness').float()\n",
    "    northness = aspect_rad.cos().rename('northness').float()\n",
    "    \n",
    "    topo = topo.select(['slope', 'aspect']).addBands(eastness).addBands(northness)\n",
    "    image = image.addBands(topo)\n",
    "    return image"
   ]
  },
  {
   "cell_type": "code",
   "execution_count": null,
   "id": "dfa6f6fb-33e2-417d-bf4d-6394f757a864",
   "metadata": {},
   "outputs": [],
   "source": [
    "image = image.addBands(addTopo(srtm))"
   ]
  },
  {
   "cell_type": "code",
   "execution_count": null,
   "id": "9fac9dd1-9838-4474-a242-9662eff86ddb",
   "metadata": {},
   "outputs": [],
   "source": [
    "# Testing outpus from 'ee.Algorithms.Terrain':\n",
    "#\n",
    "topo = ee.Algorithms.Terrain(srtm)"
   ]
  },
  {
   "cell_type": "markdown",
   "id": "93b38557-050a-4168-959f-4a0cc1292e47",
   "metadata": {},
   "source": [
    "## Training "
   ]
  },
  {
   "cell_type": "code",
   "execution_count": null,
   "id": "370c7e6f-6706-42b9-954a-4e684d66a743",
   "metadata": {},
   "outputs": [],
   "source": [
    "dTrain_df = pd.read_csv('C:/Users/pierd/OneDrive/GIS/Madagascar/mangrove/_train/dTrain_S2sr_vJun08.csv')"
   ]
  },
  {
   "cell_type": "code",
   "execution_count": null,
   "id": "4b803511-595b-4ba9-9f22-f384a6fe9f18",
   "metadata": {
    "tags": []
   },
   "outputs": [],
   "source": [
    "dTrain_df"
   ]
  },
  {
   "cell_type": "code",
   "execution_count": null,
   "id": "7b54a11f-2108-4a0b-8881-f46a0a147ec5",
   "metadata": {},
   "outputs": [],
   "source": [
    "feature_names = ['BLUE','GREEN','RED','NIR','SWIR1','SWIR2','NDVI','ndviSD','gNDVI','NBR','EVI','EVI2','IBI','NDWI','MNDWI','SAVI','NDBI',\n",
    "'VH','VV','VHrVV','elevation','slope','aspect','eastness','northness',\n",
    "'occurrence','seasonality','max_extent','change_abs','change_norm','transition','recurrence']\n",
    "\n",
    "lc = 'lc'"
   ]
  },
  {
   "cell_type": "code",
   "execution_count": null,
   "id": "876d15c4-7f39-4b58-92dd-36762ac95b7c",
   "metadata": {},
   "outputs": [],
   "source": [
    "x = dTrain_df[feature_names]\n",
    "y = dTrain_df[lc]"
   ]
  },
  {
   "cell_type": "code",
   "execution_count": null,
   "id": "cb85c8fc-42a2-406e-9dfb-c547da3f37be",
   "metadata": {
    "tags": []
   },
   "outputs": [],
   "source": [
    "x"
   ]
  },
  {
   "cell_type": "code",
   "execution_count": null,
   "id": "fb25aa95-9638-4248-a923-998a2b082554",
   "metadata": {},
   "outputs": [],
   "source": [
    "n_trees = 500\n",
    "rf_1 = ensemble.RandomForestClassifier(n_trees).fit(x,y)"
   ]
  },
  {
   "cell_type": "code",
   "execution_count": null,
   "id": "0b63e4f2-f72e-488b-b72c-e4f097ebed43",
   "metadata": {},
   "outputs": [],
   "source": [
    "rf_1"
   ]
  },
  {
   "cell_type": "code",
   "execution_count": null,
   "id": "c4da2bbc-cafe-48f7-a37b-b1987938cab2",
   "metadata": {},
   "outputs": [],
   "source": [
    "trees = ml.rf_to_strings(rf_1, feature_names)"
   ]
  },
  {
   "cell_type": "code",
   "execution_count": null,
   "id": "b4a18a75-0fbf-4cb7-8141-13558bb123ff",
   "metadata": {},
   "outputs": [],
   "source": [
    "# print(trees[2])\n",
    "len(trees) == n_trees"
   ]
  },
  {
   "cell_type": "code",
   "execution_count": null,
   "id": "decbe9a5-7999-430a-b08c-68e184c202f5",
   "metadata": {},
   "outputs": [],
   "source": [
    "ee_classifier = ml.strings_to_classifier(trees)"
   ]
  },
  {
   "cell_type": "markdown",
   "id": "6a6122e4-cd2e-453f-ba53-b7a7a6f2398d",
   "metadata": {},
   "source": [
    "#### Insert new image stack here:"
   ]
  },
  {
   "cell_type": "code",
   "execution_count": null,
   "id": "8377bb6e-ca22-457b-8c94-c50e42f2fb6f",
   "metadata": {},
   "outputs": [],
   "source": [
    "img_classified = image.select(bandSel).classify(ee_classifier) ## should match 'feature_names' with 'bandSel'"
   ]
  },
  {
   "cell_type": "markdown",
   "id": "a47c3112-d256-49c8-a0a9-51d82b65d990",
   "metadata": {},
   "source": [
    "#### Saving 'trees' to ee.FeatureCollection"
   ]
  },
  {
   "cell_type": "code",
   "execution_count": null,
   "id": "3d13bee1-ce1f-462b-9ae6-48624d81cd4c",
   "metadata": {},
   "outputs": [],
   "source": [
    "# Specify an Asset id where to save the 'trees':\n",
    "#\n",
    "asset_id = \"projects/ee-pierdubo/assets/rf_1v01_fc_str\""
   ]
  },
  {
   "cell_type": "code",
   "execution_count": null,
   "id": "262ab165-d5a4-40f8-9117-34a3d05c6497",
   "metadata": {},
   "outputs": [],
   "source": [
    "ml.export_trees_to_fc(trees, asset_id)"
   ]
  },
  {
   "cell_type": "code",
   "execution_count": null,
   "id": "13382c6a-944e-4328-9e01-73ffdfed236b",
   "metadata": {},
   "outputs": [],
   "source": [
    "# Read the exported 'tree' feature collection\n",
    "rf_1v01_fc = ee.FeatureCollection(\"projects/ee-pierdubo/assets/rf_1v01_fc_str\")\n",
    "\n",
    "# Convert it to a classifier, similar to the one usin function 'ml.trees_to_classifier'\n",
    "rf_1v01_ = ml.fc_to_classifier(rf_1v01_fc)"
   ]
  },
  {
   "cell_type": "code",
   "execution_count": null,
   "id": "d2f35549-c3a0-4d07-b141-0ae728a481bd",
   "metadata": {},
   "outputs": [],
   "source": [
    "dTrain.size().getInfo()"
   ]
  },
  {
   "cell_type": "code",
   "execution_count": null,
   "id": "1280772e-a0c4-4543-9457-b2d9c58ab1e4",
   "metadata": {},
   "outputs": [],
   "source": [
    "# dTrain2_df = pd.read_fc(dTrain)"
   ]
  },
  {
   "cell_type": "code",
   "execution_count": null,
   "id": "7f5d20eb-74a7-4ce2-8c1a-3c64dde97cd5",
   "metadata": {},
   "outputs": [],
   "source": [
    "out_file"
   ]
  },
  {
   "cell_type": "code",
   "execution_count": null,
   "id": "62f5efd8-f312-40e1-8697-6f95b2903d87",
   "metadata": {},
   "outputs": [],
   "source": []
  },
  {
   "cell_type": "code",
   "execution_count": null,
   "id": "d9c70fde-7d15-4cb8-8c45-6fa19df3fa53",
   "metadata": {
    "tags": []
   },
   "outputs": [],
   "source": [
    "geemap.extract_values_to_points(dTrain, image, out_file, scale=30, crs='EPSG:32738')"
   ]
  },
  {
   "cell_type": "code",
   "execution_count": null,
   "id": "c02bdf4f-a900-4ca3-a0ef-2651fcd2f463",
   "metadata": {
    "tags": []
   },
   "outputs": [],
   "source": [
    "bandSel = (['BLUE','GREEN','RED','Redg1','Redg2','Redg3','NIR','NIRa','SWIR1','SWIR2',\n",
    "            'NDVI','ndviSD','gNDVI','NBR','EVI','EVI2','NDMI','NDWI','MNDWI','MVI','ARI2','ChlR','BSI','IBI','SAVI',\n",
    "            'VV_1','VH_1','VHrVV_1','NDS1_1','VV_2','VH_2','VHrVV_2','NDS1_2','HH','HV','HVrHH',\n",
    "            'change_abs','change_norm','max_extent','occurrence','seasonality','transition',\n",
    "            'aspect','eastness','elevation','northness','slope'])  # "
   ]
  },
  {
   "cell_type": "code",
   "execution_count": null,
   "id": "1e5f6ee5-aea8-4e42-9daa-08c3d6a94ef9",
   "metadata": {
    "tags": []
   },
   "outputs": [],
   "source": [
    "bandSel1 = (['BLUE','GREEN','RED','Redg1','Redg2','Redg3','NIR','SWIR1','SWIR2']) # NIRa',\n",
    "            # 'NDVI','ndviSD','NBR','EVI','NDMI','NDWI','MNDWI','ARI2','ChlR','MVI','BSI','IBI','SAVI']) # ''gNDVI','EVI2'\n",
    "            # 'VV_1','VH_1','VHrVV_1','NDS1_1','VV_2','VH_2','VHrVV_2','NDS1_2','HH','HV','HVrHH',\n",
    "            # 'change_abs','change_nor','max_extent','occurrence','seasonalit','transition',\n",
    "            # 'aspect','eastness','elevation','northness','slope'])"
   ]
  },
  {
   "cell_type": "code",
   "execution_count": null,
   "id": "c929bdb6-d1c3-49bb-b2ed-f35392f817f6",
   "metadata": {
    "tags": []
   },
   "outputs": [],
   "source": [
    "bandSel2 = (['NDVI','ndviSD','NBR','EVI','NDMI','NDWI','MNDWI','ARI2','ChlR','MVI','BSI','IBI','SAVI']) # 'gNDVI','EVI2'\n",
    "            # 'VV_1','VH_1','VHrVV_1','NDS1_1','VV_2','VH_2','VHrVV_2','NDS1_2','HH','HV','HVrHH',\n",
    "            # 'change_abs','change_nor','max_extent','occurrence','seasonalit','transition',\n",
    "            # 'aspect','eastness','elevation','northness','slope'])"
   ]
  },
  {
   "cell_type": "code",
   "execution_count": null,
   "id": "6606d189-f670-4da4-8f43-55fb92647c94",
   "metadata": {
    "tags": []
   },
   "outputs": [],
   "source": [
    "bandSel3 = (['VV_1','VH_1','VHrVV_1','NDS1_1','VV_2','VH_2','VHrVV_2','NDS1_2','HH','HV','HVrHH'])\n",
    "            # 'change_abs','change_nor','max_extent','occurrence','seasonalit','transition',\n",
    "            # 'aspect','eastness','elevation','northness','slope'])"
   ]
  },
  {
   "cell_type": "code",
   "execution_count": null,
   "id": "a1bff323-d0ad-4154-b569-73df9b200601",
   "metadata": {
    "tags": []
   },
   "outputs": [],
   "source": [
    "bandSel4 = (['change_abs','change_nor','max_extent','occurrence','seasonalit','transition',\n",
    "            'aspect','eastness','elevation','northness','slope'])"
   ]
  },
  {
   "cell_type": "code",
   "execution_count": null,
   "id": "5bfd8196-de5e-4eba-b45f-0ee5a591c7f1",
   "metadata": {
    "tags": []
   },
   "outputs": [],
   "source": [
    "props = geemap.image_props(s2Coll.first())\n",
    "props.getInfo()"
   ]
  },
  {
   "cell_type": "code",
   "execution_count": null,
   "id": "f2355d14-1a5f-4ed0-88eb-7b90db10a8c9",
   "metadata": {
    "tags": []
   },
   "outputs": [],
   "source": [
    "# Training data, random selection\n",
    "#\n",
    "train_rnd = image.sample(**{\n",
    "    'region': region,\n",
    "    'scale': 30,\n",
    "    'numPixels': 5000,\n",
    "    'seed': 0,\n",
    "    'geometries': True\n",
    "})"
   ]
  },
  {
   "cell_type": "code",
   "execution_count": null,
   "id": "f2f906bd-dccc-4e50-b5a2-7c037f2cbadb",
   "metadata": {
    "tags": []
   },
   "outputs": [],
   "source": [
    "var train_dat = image.sample(\n",
    "    collection = nfc\n",
    "    properties = ['lc']\n",
    "    scale: 10\n",
    "    projection: 'EPSG:32649'\n",
    "    tileScale: 4\n",
    "    geometries: True\n",
    ")"
   ]
  },
  {
   "cell_type": "code",
   "execution_count": null,
   "id": "821f0e7d-111f-404f-ab69-cb1eb72c6b8d",
   "metadata": {
    "tags": []
   },
   "outputs": [],
   "source": [
    "train_dat = s2Coll.median().clip(geom).select(bandSel1).sampleRegions(\n",
    "    **{'collection': nfc, 'properties': ['lc'], 'scale': 10, 'geometries': True}\n",
    ")  # 'tileScale': 8,"
   ]
  },
  {
   "cell_type": "code",
   "execution_count": null,
   "id": "57fda8ee-cefb-4f5e-b5a8-e541d698fc2d",
   "metadata": {
    "tags": []
   },
   "outputs": [],
   "source": [
    "train_dat = image.clip(geom).select(bandSel).sampleRegions(\n",
    "    **{'collection': nfc, 'properties': ['lc'], 'scale': 10, 'geometries': False}\n",
    ")"
   ]
  },
  {
   "cell_type": "code",
   "execution_count": null,
   "id": "4fd4304d-1e01-4268-ad0c-e93009003396",
   "metadata": {
    "tags": []
   },
   "outputs": [],
   "source": [
    "train_dat1 = image.clip(geom).select(bandSel1).sampleRegions(\n",
    "    **{'collection': nfc, 'properties': ['lc'], 'scale': 10, 'geometries': False}\n",
    ")"
   ]
  },
  {
   "cell_type": "code",
   "execution_count": null,
   "id": "03278f89-a273-44b8-b466-09b3b4fa387d",
   "metadata": {
    "tags": []
   },
   "outputs": [],
   "source": [
    "train_dat2 = image.select(bandSel2).sampleRegions(\n",
    "    **{'collection': nfc, 'properties': ['lc'], 'scale': 10, 'geometries': False}\n",
    ")"
   ]
  },
  {
   "cell_type": "code",
   "execution_count": null,
   "id": "199a0da2-3cee-4f97-a07c-713afd2b5ac9",
   "metadata": {
    "tags": []
   },
   "outputs": [],
   "source": [
    "train_dat3 = image.select(bandSel3).sampleRegions(\n",
    "    **{'collection': nfc, 'properties': ['lc'], 'scale': 10, 'geometries': False}\n",
    ")"
   ]
  },
  {
   "cell_type": "code",
   "execution_count": null,
   "id": "4a0aab67-fef1-47f0-a143-fbb3ae95e3d0",
   "metadata": {
    "tags": []
   },
   "outputs": [],
   "source": [
    "train_dat4 = image.select(bandSel4).sampleRegions(\n",
    "    **{'collection': nfc, 'properties': ['lc'], 'scale': 10, 'geometries': False}\n",
    ")"
   ]
  },
  {
   "cell_type": "code",
   "execution_count": null,
   "id": "f6d109ff-0fb3-4e85-a11f-3f2927617b9e",
   "metadata": {
    "tags": []
   },
   "outputs": [],
   "source": []
  },
  {
   "cell_type": "code",
   "execution_count": null,
   "id": "b856d865-fc37-4b1a-a210-765e3a6735fa",
   "metadata": {
    "tags": []
   },
   "outputs": [],
   "source": [
    "rf_1 = ee.Classifier.smileRandomForest(100).setOutputMode('CLASSIFICATION').train(train_dat, 'lc', bandSel1)"
   ]
  },
  {
   "cell_type": "code",
   "execution_count": null,
   "id": "ba8ccce1-ecd0-4c2d-bb19-923cb44f2830",
   "metadata": {},
   "outputs": [],
   "source": [
    "dict_dict = rf_1.explain()"
   ]
  },
  {
   "cell_type": "code",
   "execution_count": null,
   "id": "6c270347-f52d-4550-856f-abb919f95855",
   "metadata": {},
   "outputs": [],
   "source": [
    "var_imp = ee.Feature(None, ee.Dictionary(dict_dict).get('importance'))\n",
    "oob_error = ee.Feature(None, ee.Dictionary(dict_dict).get('outOfBagErrorEstimate'))"
   ]
  },
  {
   "cell_type": "code",
   "execution_count": null,
   "id": "57b29852-6a20-46e6-ba58-39c9d9986a87",
   "metadata": {
    "tags": []
   },
   "outputs": [],
   "source": [
    "print('Var Imp:', var_imp.getInfo())"
   ]
  },
  {
   "cell_type": "code",
   "execution_count": null,
   "id": "f0329050-f732-407b-8e78-639d76307d48",
   "metadata": {
    "tags": []
   },
   "outputs": [],
   "source": [
    "dict_dict.get('importance').getInfo()"
   ]
  },
  {
   "cell_type": "code",
   "execution_count": null,
   "id": "1161fb4d-df24-489e-bc0f-a39e1444dd41",
   "metadata": {},
   "outputs": [],
   "source": [
    "dict_dict.get('outOfBagErrorEstimate').getInfo()"
   ]
  },
  {
   "cell_type": "code",
   "execution_count": null,
   "id": "02f7c598-1116-4ba0-bbc2-63276507a442",
   "metadata": {},
   "outputs": [],
   "source": [
    "img_rfClass = image.select(bandSel).classify(rf_1)"
   ]
  },
  {
   "cell_type": "code",
   "execution_count": null,
   "id": "bdd43c1f-fca2-4668-9a1a-18056ba5e699",
   "metadata": {},
   "outputs": [],
   "source": []
  },
  {
   "cell_type": "code",
   "execution_count": null,
   "id": "9e476bb6-c344-4da8-80d5-cb5404319502",
   "metadata": {},
   "outputs": [],
   "source": []
  },
  {
   "cell_type": "code",
   "execution_count": null,
   "id": "dbae0c82-bd27-46c7-92f9-aaafdb1c011c",
   "metadata": {},
   "outputs": [],
   "source": [
    "task = ee.batch.Export.table.toAsset(\n",
    "    collection = train_dat1,\n",
    "    description = 'train_dat1',\n",
    "    assetId = 'users/projects/ee-pierdubo')"
   ]
  },
  {
   "cell_type": "code",
   "execution_count": null,
   "id": "35d8f4ac-54c4-4448-83c7-d43315b6d5e6",
   "metadata": {},
   "outputs": [],
   "source": [
    "task.start()"
   ]
  },
  {
   "cell_type": "code",
   "execution_count": null,
   "id": "9591fa1b-ac24-42b6-a362-f8c8742184ba",
   "metadata": {},
   "outputs": [],
   "source": [
    "out_dir = os.path.join(os.path.expanduser('~'), 'Downloads')\n",
    "out_file = os.path.join(out_dir, 'train_dat1.csv')"
   ]
  },
  {
   "cell_type": "code",
   "execution_count": null,
   "id": "453b6be8-ef15-44c7-942a-7b777468bb4d",
   "metadata": {},
   "outputs": [],
   "source": [
    "out_dir"
   ]
  },
  {
   "cell_type": "code",
   "execution_count": null,
   "id": "be476b9e-a9b9-45b6-8e4e-72090f31bc8e",
   "metadata": {
    "tags": []
   },
   "outputs": [],
   "source": [
    "print(train_dat1.size().getInfo())"
   ]
  },
  {
   "cell_type": "code",
   "execution_count": null,
   "id": "b7008ab3-61a0-4107-94ac-4f7982024e93",
   "metadata": {
    "tags": []
   },
   "outputs": [],
   "source": [
    "geemap.ee_to_shp(train_dat, filename='C:/Users/pierd/Downloads/train_dat.shp')"
   ]
  },
  {
   "cell_type": "code",
   "execution_count": null,
   "id": "83ebecd6-6887-4a30-a0e4-4297b4bd320d",
   "metadata": {
    "tags": []
   },
   "outputs": [],
   "source": [
    "geemap.ee_to_shp(train_dat2, filename='C:/Users/pierd/Downloads/train_dat2.shp')"
   ]
  },
  {
   "cell_type": "code",
   "execution_count": null,
   "id": "2147dadc-c52d-4d8c-a1a1-d4c4e09ccfdd",
   "metadata": {
    "tags": []
   },
   "outputs": [],
   "source": [
    "geemap.ee_to_shp(train_dat3, filename='C:/Users/pierd/Downloads/train_dat3.shp')"
   ]
  },
  {
   "cell_type": "code",
   "execution_count": null,
   "id": "8f16ad1b-2b64-4caa-b354-d3bde8972691",
   "metadata": {
    "tags": []
   },
   "outputs": [],
   "source": [
    "geemap.ee_to_shp(train_dat4, filename='C:/Users/pierd/Downloads/train_dat4.shp')"
   ]
  },
  {
   "cell_type": "code",
   "execution_count": null,
   "id": "c9e1dd63-4b41-4a85-ab15-9ffe245d21fb",
   "metadata": {},
   "outputs": [],
   "source": [
    "# geemap.ee_export_vector_to_drive(\n",
    "#     train_dat, description='train_dat', folder='0_GEE', scale=10\n",
    "# )"
   ]
  },
  {
   "cell_type": "code",
   "execution_count": null,
   "id": "7f15c7c8-f991-4f8e-b4f5-1d3c73e63110",
   "metadata": {},
   "outputs": [],
   "source": [
    "# import ee.mapclient\n",
    "# ee.mapclient.centerMap(48.8450, -13.2733, 12)"
   ]
  },
  {
   "cell_type": "code",
   "execution_count": null,
   "id": "922f9a92-700d-4d18-b5a0-7da008b5d5b9",
   "metadata": {},
   "outputs": [],
   "source": []
  },
  {
   "cell_type": "code",
   "execution_count": null,
   "id": "607baac6-4824-4751-8209-86eddd469320",
   "metadata": {
    "tags": []
   },
   "outputs": [],
   "source": [
    "pprint.pprint(train_dat.limit(10).getInfo())"
   ]
  },
  {
   "cell_type": "code",
   "execution_count": null,
   "id": "24c3a8b2-7f12-4a00-87e7-ade7551d92dc",
   "metadata": {},
   "outputs": [],
   "source": [
    "nfc_buf = nfc.map(lambda f: f.buffer(100))"
   ]
  },
  {
   "cell_type": "code",
   "execution_count": null,
   "id": "951728e9-b982-41ce-b4c1-0a64cb6f148f",
   "metadata": {},
   "outputs": [],
   "source": [
    "nfc_union = nfc_buf.union(image)"
   ]
  },
  {
   "cell_type": "code",
   "execution_count": null,
   "id": "b64c42ea-51eb-445b-83e8-3439103a1203",
   "metadata": {},
   "outputs": [],
   "source": [
    "# ee.mapclient.addToMap(nfc_union, {'color': '800080'})"
   ]
  },
  {
   "cell_type": "code",
   "execution_count": null,
   "id": "e4e88846-346a-45ca-aeb8-dc065a63827c",
   "metadata": {},
   "outputs": [],
   "source": [
    "print(palsar20.getInfo())"
   ]
  },
  {
   "cell_type": "code",
   "execution_count": null,
   "id": "81fc157e-4a5b-4b60-8b8c-3bdc7cffd716",
   "metadata": {},
   "outputs": [],
   "source": [
    "pp = pprint.PrettyPrinter(depth=6)"
   ]
  },
  {
   "cell_type": "code",
   "execution_count": null,
   "id": "0a7f255a-7cb0-44f8-a656-889423e21012",
   "metadata": {},
   "outputs": [],
   "source": [
    "pp.pprint(palsar20.getInfo())"
   ]
  },
  {
   "cell_type": "code",
   "execution_count": null,
   "id": "17380524-a4c1-4e51-9487-77b8c906f2cd",
   "metadata": {},
   "outputs": [],
   "source": [
    "geom_1 = Map.user_roi"
   ]
  },
  {
   "cell_type": "code",
   "execution_count": null,
   "id": "ce14c4de-e14d-4e66-bcc7-00ecca64208b",
   "metadata": {},
   "outputs": [],
   "source": [
    "p = palsar20.sample(geom_1, 100).first().get('HH').getInfo()"
   ]
  },
  {
   "cell_type": "code",
   "execution_count": null,
   "id": "6928ccd9-5810-437e-94a3-932ad1f2700c",
   "metadata": {},
   "outputs": [],
   "source": [
    "print(p)"
   ]
  },
  {
   "cell_type": "code",
   "execution_count": null,
   "id": "6d821df3-3b9d-4020-9976-20e117ec9fd1",
   "metadata": {},
   "outputs": [],
   "source": [
    "srtm = ee.Image(\"USGS/SRTMGL1_003\")\n",
    "elev = srtm.select('elevation')"
   ]
  },
  {
   "cell_type": "code",
   "execution_count": null,
   "id": "c84ef774-9400-4bce-a127-38b24eb0cc27",
   "metadata": {},
   "outputs": [],
   "source": [
    "elv = srtm.getRegion(geom_1, 1000).getInfo()"
   ]
  },
  {
   "cell_type": "code",
   "execution_count": null,
   "id": "a2b1f4c0-ec51-4afd-aaa6-9713ce640409",
   "metadata": {},
   "outputs": [],
   "source": [
    "s1_ = s1Coll.getRegion(geom_1, 1000).getInfo()"
   ]
  },
  {
   "cell_type": "code",
   "execution_count": null,
   "id": "273a7c90-0223-4dfd-9c49-8773ad5baa6a",
   "metadata": {
    "tags": []
   },
   "outputs": [],
   "source": [
    "s1_[:5]"
   ]
  },
  {
   "cell_type": "code",
   "execution_count": null,
   "id": "2556a4eb-c4da-49cf-8e47-03e04354802a",
   "metadata": {},
   "outputs": [],
   "source": [
    "s2sub = s2Coll.select('SWIR1').getRegion(geom_1, 300).getInfo()"
   ]
  },
  {
   "cell_type": "code",
   "execution_count": null,
   "id": "ca74bef7-cee1-4518-bd1e-0546559c5051",
   "metadata": {
    "tags": []
   },
   "outputs": [],
   "source": [
    "s2sub[:6]"
   ]
  },
  {
   "cell_type": "markdown",
   "id": "a18f0f7c-cd8b-4128-93bb-d69edce69918",
   "metadata": {},
   "source": [
    "### ee to DataFrame"
   ]
  },
  {
   "cell_type": "code",
   "execution_count": null,
   "id": "ef808d19-58d4-4360-99ee-a8b6bf8b39ec",
   "metadata": {},
   "outputs": [],
   "source": [
    "import pandas as pd"
   ]
  },
  {
   "cell_type": "code",
   "execution_count": null,
   "id": "52ffe376-768a-467e-bd44-bc7a6756a020",
   "metadata": {},
   "outputs": [],
   "source": [
    "def ee_array_to_df(arr, list_of_bands):\n",
    "    df = pd.DataFrame(arr)\n",
    "    headers = df.iloc[0]\n",
    "    df = pd.DataFrame(df.values[1:], columns=headers)\n",
    "    df = df[['longitude', 'latitude', 'time', *list_of_bands]].dropna()\n",
    "    for band in list_of_bands:\n",
    "        df[band] = pd.to_numeric(df[band], errors='coerce')\n",
    "        df['datetime'] = pd.to_datetime(df['time'], unit = 'ms')\n",
    "        df = df[['time', 'datetime', *list_of_bands]]\n",
    "        \n",
    "        return df"
   ]
  },
  {
   "cell_type": "code",
   "execution_count": null,
   "id": "c8395b37-5401-49b6-a0d1-a1cedebcad7f",
   "metadata": {},
   "outputs": [],
   "source": [
    "vImp_df = ee_array_to_df(vImp, vImp(1))"
   ]
  },
  {
   "cell_type": "code",
   "execution_count": null,
   "id": "2e6d08f6-3022-43b7-b9c7-1fb4b0c9e0dc",
   "metadata": {},
   "outputs": [],
   "source": [
    "train_dat_df = ee_array_to_df(train_dat, ['SWIR1'])"
   ]
  },
  {
   "cell_type": "code",
   "execution_count": null,
   "id": "eb9a1b67-f787-44db-8642-7af092296b3c",
   "metadata": {},
   "outputs": [],
   "source": [
    "s1VH_df = ee_array_to_df(s1_, ['VH']) "
   ]
  },
  {
   "cell_type": "code",
   "execution_count": null,
   "id": "4982c534-115a-404d-9c6b-36de0582c7bf",
   "metadata": {},
   "outputs": [],
   "source": [
    "s1VH_df.head()"
   ]
  },
  {
   "cell_type": "code",
   "execution_count": null,
   "id": "205cfdb8-ffd7-466c-a081-c92a7046823c",
   "metadata": {},
   "outputs": [],
   "source": [
    "s2SWIR1_df = ee_array_to_df(s2sub, ['SWIR1'])"
   ]
  },
  {
   "cell_type": "code",
   "execution_count": null,
   "id": "a2150d8a-f7d8-4d3b-93c0-649e62150a25",
   "metadata": {},
   "outputs": [],
   "source": [
    "s2SWIR1_df.head()"
   ]
  },
  {
   "cell_type": "markdown",
   "id": "be9a24be-46ee-4a06-a19d-8b4a534d2ca6",
   "metadata": {
    "tags": []
   },
   "source": [
    "## Charts"
   ]
  },
  {
   "cell_type": "code",
   "execution_count": null,
   "id": "09a7ed67-23e3-49d5-9950-3ddcd6a4dc8f",
   "metadata": {},
   "outputs": [],
   "source": [
    "import matplotlib.pyplot as plt\n",
    "import numpy as np\n",
    "from scipy import optimize\n",
    "%matplotlib inline"
   ]
  },
  {
   "cell_type": "code",
   "execution_count": null,
   "id": "8cfd8490-cce3-43ce-b95c-a5eb22c9c625",
   "metadata": {},
   "outputs": [],
   "source": [
    "vImp = dict_dict.get('importance').getInfo()"
   ]
  },
  {
   "cell_type": "code",
   "execution_count": null,
   "id": "a65bfb9e-af3e-41e2-af66-d4166e9e75e5",
   "metadata": {
    "tags": []
   },
   "outputs": [],
   "source": [
    "print(dict_dict.limit(10).getInfo())"
   ]
  },
  {
   "cell_type": "code",
   "execution_count": null,
   "id": "b74d01e4-6fc5-4a71-8710-fa3ad97b52dd",
   "metadata": {
    "tags": []
   },
   "outputs": [],
   "source": [
    "plt.bar(var_imp)\n",
    "plt.show()"
   ]
  },
  {
   "cell_type": "code",
   "execution_count": null,
   "id": "7cc11dd4-56b9-42fd-b11a-77fd12d60031",
   "metadata": {},
   "outputs": [],
   "source": [
    "x_data_swir1 = np.asanyarray(s2SWIR1_df['time'].apply(float))"
   ]
  },
  {
   "cell_type": "code",
   "execution_count": null,
   "id": "f7f53fd4-b409-4648-9653-4cc3974b6ca1",
   "metadata": {},
   "outputs": [],
   "source": [
    "y_data_swir1 = np.asanyarray(s2SWIR1_df['SWIR1'].apply(float))"
   ]
  },
  {
   "cell_type": "code",
   "execution_count": null,
   "id": "e6ee3a8a-c2c7-42b9-923f-c84abe7dc40f",
   "metadata": {},
   "outputs": [],
   "source": [
    "def fit_fun(x, a, b, c):\n",
    "    return a*(np.sin(b*x + c) + 1)"
   ]
  },
  {
   "cell_type": "code",
   "execution_count": null,
   "id": "c5c4c931-8b5b-4edc-ace2-2027c701c528",
   "metadata": {},
   "outputs": [],
   "source": [
    "params_sw1, params_covariance_sw1 = optimize.curve_fit(\n",
    "    fit_fun, x_data_swir1, y_data_swir1, p0 = [20., 0.002*np.pi/(365.*24.*3600.), 350])"
   ]
  },
  {
   "cell_type": "code",
   "execution_count": null,
   "id": "e7c50aa9-0ba7-4e5a-a3eb-f4f3f018d677",
   "metadata": {},
   "outputs": [],
   "source": [
    "fig, ax = plt.subplots(figsize=(18, 6))\n",
    "ax.hist(s2SWIR1_df['SWIR1'], bins=200, range=(0, 0.2))\n",
    "# ax.scatter(s2SWIR1_df['datetime'], s2SWIR1_df['SWIR1'])\n",
    "# ax.plot(s2SWIR1_df['datetime'],\n",
    "#         fit_fun(x_data_swir1, params_sw1[0], params_sw1[1], params_sw1[2]),\n",
    "#         label='VH fitted', color='red', lw=1.5)\n",
    "ax.set_xlabel('Date', fontsize=10)\n",
    "ax.set_ylabel('SWIR1 SR', fontsize=12)\n",
    "ax.grid(lw=0.2)\n",
    "# ax.legend(fontsize=10, loc='lower right')\n",
    "\n",
    "plt.show()"
   ]
  },
  {
   "cell_type": "code",
   "execution_count": null,
   "id": "791a77eb-9a71-41a4-8a2c-a2bffb6580e9",
   "metadata": {},
   "outputs": [],
   "source": [
    "x_data_vh = np.asanyarray(s1VH_df['time'].apply(float))"
   ]
  },
  {
   "cell_type": "code",
   "execution_count": null,
   "id": "4a735c1f-84ae-437f-bf25-8dc02ec980c4",
   "metadata": {},
   "outputs": [],
   "source": [
    "y_data_vh = np.asanyarray(s1VH_df['VH'].apply(float))"
   ]
  },
  {
   "cell_type": "code",
   "execution_count": null,
   "id": "536a186a-d29b-431a-ab7a-c05b3e4ecbf0",
   "metadata": {},
   "outputs": [],
   "source": [
    "vh0 = -14\n",
    "delta_vh = 10\n",
    "tau = 365*24*3600*1000\n",
    "phi = 2*np.pi*4*30.5*3600*1000/tau"
   ]
  },
  {
   "cell_type": "code",
   "execution_count": null,
   "id": "becda521-479f-464a-abea-6064e3618ca5",
   "metadata": {},
   "outputs": [],
   "source": [
    "def fit_func(t, vh0, delta_vh, tau, phi):\n",
    "    return vh0 + (delta_vh/2)*np.sin(2*np.pi*t/tau + phi)"
   ]
  },
  {
   "cell_type": "code",
   "execution_count": null,
   "id": "7084461e-55f4-411e-a56e-f24b12fd9725",
   "metadata": {},
   "outputs": [],
   "source": [
    "params_vh, params_covariance_vh = optimize.curve_fit(\n",
    "    fit_func, x_data_vh, y_data_vh, p0=[vh0, delta_vh, tau, phi])"
   ]
  },
  {
   "cell_type": "code",
   "execution_count": null,
   "id": "66b419b8-2068-4944-a69d-f6f7c7e99f2e",
   "metadata": {},
   "outputs": [],
   "source": [
    "fig, ax = plt.subplots(figsize=(18, 6))\n",
    "ax.scatter(s1VH_df['datetime'], s1VH_df['VH'])\n",
    "ax.plot(s1VH_df['datetime'],\n",
    "        fit_func(x_data_vh, params_vh[0], params_vh[1], params_vh[2], params_vh[3]),\n",
    "        label='VH fitted', color='red', lw=1.5)\n",
    "ax.set_xlabel('Date', fontsize=10)\n",
    "ax.set_ylabel('VH (dB)', fontsize=12)\n",
    "ax.grid(lw=0.2)\n",
    "ax.legend(fontsize=10, loc='lower right')\n",
    "plt.show()"
   ]
  },
  {
   "cell_type": "code",
   "execution_count": null,
   "id": "e5c995c0-a5bd-4eff-8dd4-0a496aa011e6",
   "metadata": {},
   "outputs": [],
   "source": []
  },
  {
   "cell_type": "code",
   "execution_count": null,
   "id": "33fb4f0a-cd7a-49e8-a1c9-a748bf2bb3e4",
   "metadata": {},
   "outputs": [],
   "source": [
    "# No such thing/use as 'ui' in the python API\n",
    "#\n",
    "S1Chart1 = (ui.Chart.image.series(s1Coll.select('VHrVV'), geom)\n",
    "            .setChartType('ScatterChart')\n",
    "            .setOptions({\n",
    "                title: 'S1 timeseries VH/VV',\n",
    "                trendlines: {0: {color: 'CC0000'}},\n",
    "                lineWidth: 1,\n",
    "                pointSize: 3,\n",
    "            }))                "
   ]
  }
 ],
 "metadata": {
  "kernelspec": {
   "display_name": "Python 3 (ipykernel)",
   "language": "python",
   "name": "python3"
  },
  "language_info": {
   "codemirror_mode": {
    "name": "ipython",
    "version": 3
   },
   "file_extension": ".py",
   "mimetype": "text/x-python",
   "name": "python",
   "nbconvert_exporter": "python",
   "pygments_lexer": "ipython3",
   "version": "3.9.7"
  }
 },
 "nbformat": 4,
 "nbformat_minor": 5
}
