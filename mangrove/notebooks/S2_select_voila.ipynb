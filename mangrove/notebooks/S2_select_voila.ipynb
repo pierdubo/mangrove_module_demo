{
 "cells": [
  {
   "cell_type": "code",
   "execution_count": null,
   "id": "2fb47f3a-516c-4ee8-a571-cf20e14cdaa9",
   "metadata": {},
   "outputs": [],
   "source": [
    "import os\n",
    "import ee\n",
    "import folium"
   ]
  },
  {
   "cell_type": "code",
   "execution_count": null,
   "id": "1a501874-8d4e-488d-a81a-47e593e44648",
   "metadata": {},
   "outputs": [],
   "source": [
    "ee.Initialize()"
   ]
  },
  {
   "cell_type": "code",
   "execution_count": null,
   "id": "19eb214c-c46d-49c8-82e0-64f4017e8c22",
   "metadata": {},
   "outputs": [],
   "source": [
    "import geemap\n",
    "from geemap import ml\n",
    "import pandas as pd\n",
    "from sklearn import ensemble"
   ]
  },
  {
   "cell_type": "code",
   "execution_count": null,
   "id": "ce2953c0-57ed-48e3-aa2b-15e044bab9f7",
   "metadata": {},
   "outputs": [],
   "source": [
    "import ipywidgets as widgets"
   ]
  },
  {
   "cell_type": "code",
   "execution_count": null,
   "id": "0be906a4-ea0d-44b8-ae18-17fa9dd2a043",
   "metadata": {},
   "outputs": [],
   "source": [
    "import pprint"
   ]
  },
  {
   "cell_type": "markdown",
   "id": "22e971eb-0c14-4fbf-b7ae-02309ab492b8",
   "metadata": {},
   "source": [
    "## Voilà !!"
   ]
  },
  {
   "cell_type": "code",
   "execution_count": null,
   "id": "4432140f-0374-4a54-9d65-3edb3ae0fed5",
   "metadata": {},
   "outputs": [],
   "source": [
    "style = {'description_width': 'initial'}\n",
    "title = widgets.Text(\n",
    "    description='Title:', value='Sentinel-2 Median Composite', width=200, style=style\n",
    ")\n",
    "\n",
    "bands = widgets.Dropdown(\n",
    "    description='Select RGB visualization:',\n",
    "    options=[\n",
    "        'RED/GREEN/BLUE',\n",
    "        'NIR/RED/GREEN',\n",
    "        'SWIR1/NIR/GREEN',\n",
    "        'SWIR2/SWIR1/NIR',\n",
    "        'NIR/SWIR1/RED',\n",
    "        'SWIR2/NIR/RED',\n",
    "        'SWIR2/SWIR1/RED',\n",
    "        'SWIR1/NIR/BLUE',\n",
    "        'NIR/SWIR1/BLUE',        \n",
    "        'SWIR1/NIR/RED',\n",
    "        'BLUE/GREEN/RED/NIR/NIRa/SWIR1/SWIR2/Redg1/Redg2/Redg3/NDVI/gNDVI/NBR/EVI/EVI2/NDMI/NDWI/MNDWI/ARI2/ChlR/MVI/SAVI/BSI/IBI',\n",
    "    ],\n",
    "    # value='SWIR1/NIR/GREEN',\n",
    "    value='BLUE/GREEN/RED/NIR/NIRa/SWIR1/SWIR2/Redg1/Redg2/Redg3/NDVI/gNDVI/NBR/EVI/EVI2/NDMI/NDWI/MNDWI/ARI2/ChlR/MVI/SAVI/BSI/IBI',\n",
    "    style=style,\n",
    ")\n",
    "\n",
    "hbox1 = widgets.HBox([title, bands])\n",
    "hbox1"
   ]
  },
  {
   "cell_type": "code",
   "execution_count": null,
   "id": "d2db82c3-838a-4100-a6dc-65b9c572d25d",
   "metadata": {},
   "outputs": [],
   "source": [
    "# bands.value"
   ]
  },
  {
   "cell_type": "code",
   "execution_count": null,
   "id": "fdf3f668-f3ab-4661-8080-b66d53a72307",
   "metadata": {},
   "outputs": [],
   "source": [
    "# text = widgets.Text(\n",
    "#     value='Madagascar',\n",
    "#     placeholder='Enter a place name',\n",
    "#     description='Country',\n",
    "#     disabled=False,\n",
    "# )\n",
    "# text\n",
    "\n",
    "# radio_buttons = widgets.RadioButtons(\n",
    "#     options=[\n",
    "#         'SWIR1',\n",
    "#         'NIR',\n",
    "#         'GREEN'],\n",
    "#     value='SWIR1',\n",
    "#     description='Band:'\n",
    "# )\n",
    "# radio_buttons"
   ]
  },
  {
   "cell_type": "code",
   "execution_count": null,
   "id": "c46aa193-daaf-4d1d-9811-0df80882b673",
   "metadata": {},
   "outputs": [],
   "source": [
    "# radio_buttons.value"
   ]
  },
  {
   "cell_type": "code",
   "execution_count": null,
   "id": "195c3568-a585-49b4-941a-73cf7d9b0ab8",
   "metadata": {},
   "outputs": [],
   "source": [
    "# start_year = widgets.IntSlider(\n",
    "#     description='Start Date:',value=2015, min=2015, max=2022, style=style\n",
    "# )\n",
    "# end_year = widgets.IntSlider(\n",
    "#     description='End Date:', value=2022, min=2015, max=2022,style=style\n",
    "# )\n",
    "\n",
    "import datetime\n",
    "\n",
    "start_date = widgets.DatePicker(\n",
    "    description='Start Date:', disabled=False, value=datetime.date(2015,1,1), style=style\n",
    ")\n",
    "end_date = widgets.DatePicker(\n",
    "    description='End Date:', disabled=False, value=datetime.date.today(), style=style\n",
    ")\n",
    "\n",
    "start_month = widgets.IntSlider(\n",
    "    description='Start Month:', value=1, min=1, max=12, style=style\n",
    ")\n",
    "end_month = widgets.IntSlider(\n",
    "    description='End Month:', value=12, min=1, max=12, style=style\n",
    ")\n",
    "\n",
    "hbox2 = widgets.HBox([start_date, end_date, start_month, end_month])\n",
    "hbox2"
   ]
  },
  {
   "cell_type": "code",
   "execution_count": null,
   "id": "54c91119-bad3-4ceb-8918-9e19a6289dcb",
   "metadata": {},
   "outputs": [],
   "source": [
    "# start_date.value.strftime(\"%Y-%m-%d\")"
   ]
  },
  {
   "cell_type": "code",
   "execution_count": null,
   "id": "bc0347db-1b35-44df-a37e-b464c26df27e",
   "metadata": {},
   "outputs": [],
   "source": [
    "# start_date.value"
   ]
  },
  {
   "cell_type": "code",
   "execution_count": null,
   "id": "ffcbe789-92c1-4810-b5dd-05df9846e6c5",
   "metadata": {},
   "outputs": [],
   "source": [
    "create_composite = widgets.Button(\n",
    "    description='Create Composite',\n",
    "    button_style='primary',\n",
    "    tooltip='Click to create median composite',\n",
    "    style=style,\n",
    ")\n",
    "\n",
    "output = widgets.Output()\n",
    "\n",
    "hbox3 = widgets.HBox([create_composite])\n",
    "hbox3"
   ]
  },
  {
   "cell_type": "code",
   "execution_count": null,
   "id": "55a0650a-d65e-43fe-b6ec-d679cb5019fc",
   "metadata": {},
   "outputs": [],
   "source": []
  },
  {
   "cell_type": "code",
   "execution_count": null,
   "id": "20293dbb-b82e-448c-8708-640e4eda8d02",
   "metadata": {},
   "outputs": [],
   "source": [
    "def submit_clicked(b):\n",
    "    with output:\n",
    "        output.clear_output()\n",
    "         \n",
    "        if start_date.value > end_date.value:\n",
    "            print('The end year must be great than the start year!')\n",
    "            return\n",
    "        if start_month.value > end_month.value:\n",
    "            print('The end month must be great than the start month!')\n",
    "            return\n",
    "        if start_date.value == end_date.value:\n",
    "            add_progress_bar = False\n",
    "        else:\n",
    "            add_progress_bar = True\n",
    "            \n",
    "        iDate = start_date.value.strftime(\"%Y-%m-%d\")\n",
    "        fDate = end_date.value.strftime(\"%Y-%m-%d\")\n",
    "       \n",
    "        \n",
    "        # start_date = str(start_month.value).zfill(2) + '-01'\n",
    "        # end_date = str(end_month.value).zfill(2) + '-30'\n",
    "        \n",
    "        print('Computing...')\n",
    "        \n",
    "        coll = genCollS2(\n",
    "            geom=Map.user_roi,\n",
    "            # label=title.value,\n",
    "            iDate=iDate,\n",
    "            fDate=fDate,\n",
    "            # start_date=start_date,\n",
    "            # end_date=end_date,\n",
    "            # bands=bands.value.split('/'),\n",
    "            # font_color=font_color.value,\n",
    "            # frames_per_second=speed.value,\n",
    "            # font_size=font_size.value,\n",
    "            # add_progress_bar=add_progress_bar,\n",
    "            # progress_bar_color=progress_bar_color.value,\n",
    "            # download=True,\n",
    "            # apply_fmask=cloud.value,\n",
    "            cpp=25\n",
    "        )\n",
    "        aoi=Map.user_roi\n",
    "        Map.addLayer(\n",
    "            coll.select([\"MVI\"]).median().clip(aoi),\n",
    "            {\n",
    "                \"min\": -0.35,\n",
    "                \"max\": 5,\n",
    "                \"palette\": [\n",
    "                    \"04fffe\",\n",
    "                    \"CE7E45\",\n",
    "                    \"DF923D\",\n",
    "                    \"F1B555\",\n",
    "                    \"FCD163\",\n",
    "                    \"99B718\",\n",
    "                    \"74A901\",\n",
    "                    \"66A000\",\n",
    "                    \"529400\",\n",
    "                    \"3E8601\",\n",
    "                    \"207401\",\n",
    "                    \"056201\",\n",
    "                    \"004C00\",\n",
    "                    \"023B01\",\n",
    "                    \"012E01\",\n",
    "                    \"011D01\",\n",
    "                    \"011301\",\n",
    "                ],\n",
    "            },\n",
    "            \"MVI\",\n",
    "        )\n",
    "        Map.addLayer(coll.select(['SWIR1','NIR','GREEN']).median().clip(aoi), {'bands': ['SWIR1','NIR','GREEN'], 'min':0.020, 'max':0.400, 'gamma': 0.85}, 'Sentinel-2 Coll')\n",
    "        \n",
    "create_composite.on_click(submit_clicked)"
   ]
  },
  {
   "cell_type": "code",
   "execution_count": null,
   "id": "6c020a11-b36b-4043-95b1-753e65a8657c",
   "metadata": {},
   "outputs": [],
   "source": [
    "output"
   ]
  },
  {
   "cell_type": "code",
   "execution_count": null,
   "id": "00a4e03e-1f9d-4d29-b46c-ab273d08ccc8",
   "metadata": {
    "tags": []
   },
   "outputs": [],
   "source": [
    "Map = geemap.Map(center=(-13.5, 48.4), zoom=8)\n",
    "Map.add_basemap('HYBRID')\n",
    "Map"
   ]
  },
  {
   "cell_type": "code",
   "execution_count": null,
   "id": "e17e08a3-22b4-464d-a7c3-7ffcc4c10911",
   "metadata": {},
   "outputs": [],
   "source": [
    "# Prepare Sentinel-2 \n",
    "#\n",
    "def prepareS2(image):\n",
    "    bandList = ['B2', 'B3', 'B4', 'B5','B6','B7', 'B8', 'B8A','B11', 'B12', 'QA60']\n",
    "    nameList = ['BLUE','GREEN','RED', 'Redg1', 'Redg2', 'Redg3','NIR','NIRa','SWIR1','SWIR2','QA60']\n",
    "    scaling = 10000\n",
    "    # scaling = 1\n",
    "    scaled = ee.Image(image).select(bandList).rename(nameList).divide(ee.Image.constant(scaling))\n",
    "    return ee.Image(image).addBands(scaled)"
   ]
  },
  {
   "cell_type": "code",
   "execution_count": null,
   "id": "0aeb512c-bfa8-4c2a-862d-1aa487db7325",
   "metadata": {},
   "outputs": [],
   "source": [
    "# Calculate spectral indices for all bands in collection\n",
    "# @param {ee.ImageCollection} collection Landsat image collection\n",
    "# @returns {ee.ImageCollection} Landsat image with spectral indices\n",
    "#\n",
    "def doIndS2(image):\n",
    "    def func_gev(image):\n",
    "        NDVI = calcNDVI(image)\n",
    "        gNDVI = addGNDVI(image)\n",
    "        NBR = calcNBR(image)\n",
    "        EVI = calcEVI(image)\n",
    "        EVI2 = calcEVI2(image)\n",
    "        NDMI = addNDMI(image)\n",
    "        NDWI = addNDWI(image)\n",
    "        MNDWI = addMNDWI(image)\n",
    "        MVI = addMVI(image)\n",
    "        ARI2 = addARI2(image)\n",
    "        ChlR = addChlR(image)\n",
    "        BSI = addBSI(image)\n",
    "        IBI = addIBI(image)\n",
    "        SAVI = addSAVI(image)        \n",
    "        # TC = tcTrans(image)\n",
    "        # NDFI function requires surface reflectance bands only\n",
    "        # BANDS = ['BLUE','GREEN','RED','NIR','SWIR1','SWIR2']\n",
    "        # NDFI = calcNDFI(image.select(BANDS))\n",
    "        return image.addBands([NDVI, gNDVI, NBR, EVI, EVI2, NDMI, NDWI, MNDWI, ARI2, ChlR, MVI, BSI, IBI, SAVI]) #\n",
    "    return image.map(func_gev)"
   ]
  },
  {
   "cell_type": "code",
   "execution_count": null,
   "id": "a49d67dc-5bbc-41f4-8e88-766fbf58a9df",
   "metadata": {},
   "outputs": [],
   "source": []
  },
  {
   "cell_type": "code",
   "execution_count": null,
   "id": "13e4b457-077f-4a5a-9dd6-cff7657fd789",
   "metadata": {},
   "outputs": [],
   "source": [
    "# Function to cloud mask from the QA60 (Sentinel-2) and from the pixel_qa band of Landsat 8 SR data\n",
    "def maskS2clouds(image):\n",
    "    QA60 = image.select(['QA60'])\n",
    "    clouds = QA60.bitwiseAnd(1 << 10).Or(QA60.bitwiseAnd(1 << 11))\n",
    "    return image.updateMask(clouds.Not())"
   ]
  },
  {
   "cell_type": "code",
   "execution_count": null,
   "id": "87f8f3cc-7b5d-4639-80a9-a0d388c1f701",
   "metadata": {},
   "outputs": [],
   "source": [
    "# Generate filtered (date and cloud masks) collection of Sentinel-2 images\n",
    " # @param {ee.Image} geom Geometry used to filter the collection\n",
    " # @param {String} startDate Initial date to filter the collection\n",
    " # @param {String} endDate Final date to filter the collection\n",
    " # @param {number} cpp stands for 'Cloudy Pixel Percentage'\n",
    " # @returns {ee.ImageCollection} Filtered Sentinel-2 collection\n",
    "#\n",
    "def genCollS2(geom, iDate, fDate, cpp):\n",
    "    collect_S2 = (ee.ImageCollection('COPERNICUS/S2')\n",
    "                  .filterDate(iDate, fDate)\n",
    "                  .filterBounds(geom)\n",
    "                  .filter(ee.Filter.lt('CLOUDY_PIXEL_PERCENTAGE', cpp))\n",
    "                  .map(maskS2clouds))\n",
    "    prep_S2 = collect_S2.map(prepareS2)\n",
    "    indices = doIndS2(prep_S2).select(['BLUE','GREEN','RED','NIR', 'NIRa','SWIR1','SWIR2',\n",
    "                                       'Redg1', 'Redg2', 'Redg3','NDVI','gNDVI','NBR','EVI','EVI2',\n",
    "                                       'NDMI','NDWI','MNDWI','ARI2','ChlR','MVI','SAVI','BSI','IBI']) \n",
    "    return ee.ImageCollection(indices)    "
   ]
  },
  {
   "cell_type": "code",
   "execution_count": null,
   "id": "9cf5ba1f-c6bc-4fb4-999b-f6de6898901d",
   "metadata": {},
   "outputs": [],
   "source": []
  },
  {
   "cell_type": "code",
   "execution_count": null,
   "id": "9bf4b150-b58a-4c53-b935-83df24f07f16",
   "metadata": {
    "tags": []
   },
   "outputs": [],
   "source": [
    "# 1. Calculate/addBands NDVI for an image\n",
    "# @param {ee.Image} image,  e.g., Landsat or Sentinel-2 image with NIR and RED bands\n",
    "# @returns {ee.Image} NDVI image\n",
    "#\n",
    "def calcNDVI(image):\n",
    "    ndvi = ee.Image(image).normalizedDifference(['NIR','RED']).rename('NDVI')\n",
    "    return ndvi\n",
    "\n",
    "def addNDVI(image):\n",
    "    ndvi = ee.Image(image).normalizedDifference(['NIR','RED']).float()\n",
    "    return image.addBands(ndvi).rename('NDVI')"
   ]
  },
  {
   "cell_type": "code",
   "execution_count": null,
   "id": "eaa1960a-5c57-4db3-9bde-1c269091449a",
   "metadata": {},
   "outputs": [],
   "source": [
    "# 2. Calculate 'Green' NDVI for an image\n",
    "# @param {ee.Image} image,  e.g., Landsat image with NIR and RED bands\n",
    "# @returns {ee.Image} GNDVI image\n",
    "#\n",
    "def addGNDVI(image):\n",
    "    gndvi = ee.Image(image).normalizedDifference(['NIR','GREEN']).float()\n",
    "    return image.addBands(gndvi.rename('gNDVI'))"
   ]
  },
  {
   "cell_type": "code",
   "execution_count": null,
   "id": "50e874f2-d432-452f-985e-ddda469d7f93",
   "metadata": {},
   "outputs": [],
   "source": [
    "# 3. Calculate Standard Deviation of NDVI values over a image collection\n",
    "#\n",
    "def addNDVIsd(image):\n",
    "    ndviStd = ee.ImageCollection(image).select('NDVI').reduce(ee.Reducer.stdDev())\n",
    "    # reducer = ee.Reducer.stdDev()\n",
    "    # ndviStd = ndvi.reduce(ee.Reducer.median())\n",
    "    # return image.addBands(ndviStd.rename('ndviSD'))\n",
    "    return ndviStd.rename('ndviSD')"
   ]
  },
  {
   "cell_type": "code",
   "execution_count": null,
   "id": "c88598bd-75c2-448e-9662-7c2d6460cb8f",
   "metadata": {
    "tags": []
   },
   "outputs": [],
   "source": [
    "# 4. Calculate NBR for an image\n",
    "# @param {ee.Image} image  Landsat image with NIR and SWIR2 bands\n",
    "# @returns {ee.Image} NBR image\n",
    "#\n",
    "def calcNBR(image):\n",
    "    nbr = ee.Image(image).normalizedDifference(['NIR', 'SWIR2']).rename('NBR')\n",
    "    return nbr"
   ]
  },
  {
   "cell_type": "code",
   "execution_count": null,
   "id": "2743a6bf-9fa9-42bb-b8a2-3b4b1d8fef5d",
   "metadata": {
    "tags": []
   },
   "outputs": [],
   "source": [
    "# 5. Calculate EVI for an image\n",
    "# @param {ee.Image} image Landsat image with NIR, RED, and BLUE bands\n",
    "# @returns {ee.Image} EVI transform\n",
    "#\n",
    "def calcEVI(image):\n",
    "    evi = ee.Image(image).expression(\n",
    "          'float(2.5*(((B4) - (B3)) / ((B4) + (6 * (B3)) - (7.5 * (B1)) + 1)))',\n",
    "          {\n",
    "              'B4': ee.Image(image).select(['NIR']),\n",
    "              'B3': ee.Image(image).select(['RED']),\n",
    "              'B1': ee.Image(image).select(['BLUE'])\n",
    "          }).rename('EVI')\n",
    "    return evi"
   ]
  },
  {
   "cell_type": "code",
   "execution_count": null,
   "id": "fbade7e7-e858-4434-ac26-75e619001ca2",
   "metadata": {
    "tags": []
   },
   "outputs": [],
   "source": [
    "# 6. Calculate EVI2\n",
    "#\n",
    "def calcEVI2(image):\n",
    "    evi2 = ee.Image(image).expression(\n",
    "        'float(2.5*(((B4) - (B3)) / ((B4) + (2.4 * (B3)) + 1)))',\n",
    "        {\n",
    "            'B4': image.select('NIR'),\n",
    "            'B3': image.select('RED')\n",
    "        }).rename('EVI2')\n",
    "    return evi2"
   ]
  },
  {
   "cell_type": "code",
   "execution_count": null,
   "id": "01123c6f-c23d-4c96-be97-ce6b36500791",
   "metadata": {
    "tags": []
   },
   "outputs": [],
   "source": [
    "# 7. Calculate/addBands: NDMI\n",
    "#\n",
    "def addNDMI(image):\n",
    "    ndmi = ee.Image(image).normalizedDifference(['NIR', 'SWIR1']).float().rename('NDMI')\n",
    "    return image.addBands(ndmi)"
   ]
  },
  {
   "cell_type": "code",
   "execution_count": null,
   "id": "3c81e2f9-152c-4d65-829f-feeb194f6a47",
   "metadata": {
    "tags": []
   },
   "outputs": [],
   "source": [
    "# 8. Calculate/addBands: NDWI\n",
    "#\n",
    "def addNDWI(image):\n",
    "    ndwi = ee.Image(image).normalizedDifference(['GREEN', 'NIR']).float().rename('NDWI')\n",
    "    return image.addBands(ndwi)"
   ]
  },
  {
   "cell_type": "code",
   "execution_count": null,
   "id": "7598792a-363b-4050-a608-26faafd0ce1a",
   "metadata": {
    "tags": []
   },
   "outputs": [],
   "source": [
    "# 9. Calculate and addBands: MNDWI\n",
    "#\n",
    "def calcMNDWI(image):\n",
    "    mndwi = ee.Image(image).normalizedDifference(['GREEN','SWIR1']).float().rename('MNDWI')\n",
    "    return mndwi\n",
    "\n",
    "def addMNDWI(image):\n",
    "    mndwi = ee.Image(image).normalizedDifference(['GREEN','SWIR1']).float().rename('MNDWI')\n",
    "    return image.addBands(mndwi)"
   ]
  },
  {
   "cell_type": "code",
   "execution_count": null,
   "id": "792671e9-a2a1-4ff8-b3f7-10c931073c0d",
   "metadata": {},
   "outputs": [],
   "source": [
    "# 10. Calc/addBands: MVI (Mangrove Vegetation Index, see SEPAL)\n",
    "#\n",
    "def addMVI(image):\n",
    "    mvi = ee.Image(image).expression(\n",
    "        '(1.0 * (NIR - GREEN) / abs(SWIR1 - GREEN))',\n",
    "        {\n",
    "            'GREEN': image.select('GREEN'),\n",
    "            'NIR': image.select('NIR'),\n",
    "            'SWIR1': image.select('SWIR1')\n",
    "        }).float().rename('MVI')\n",
    "    return image.addBands(mvi)"
   ]
  },
  {
   "cell_type": "code",
   "execution_count": null,
   "id": "d82b1c94-1335-4e17-b020-f347a7172745",
   "metadata": {
    "tags": []
   },
   "outputs": [],
   "source": [
    "# 11. Calculate/addBands: ARI2 [Sentinel-2 only]\n",
    "#\n",
    "def addARI2(image):\n",
    "    ari2 = ee.Image(image).expression(\n",
    "        '((1.0 / GREEN) - (1.0 / Redg1)) * Redg3',\n",
    "        {\n",
    "            'GREEN': image.select(['GREEN']),\n",
    "            'Redg1': image.select(['Redg1']),  # 'B5'\n",
    "            'Redg3': image.select(['Redg3'])   # 'B7'\n",
    "        }).float().rename('ARI2')\n",
    "    return image.addBands(ari2.rename('ARI2'))"
   ]
  },
  {
   "cell_type": "code",
   "execution_count": null,
   "id": "e07cc9f5-e3a2-40f1-86b8-4a1ae2ca1ea6",
   "metadata": {},
   "outputs": [],
   "source": [
    "# 12. Calculate/addBands: ChlR [Sentinel-2 only]\n",
    "#\n",
    "def addChlR(image):\n",
    "    chlRedg = ee.Image(image).expression(\n",
    "        'pow((Redg3 / Redg1), -1.0)',\n",
    "        {\n",
    "            'Redg1': image.select(['Redg1']),\n",
    "            'Redg3': image.select(['Redg3'])\n",
    "        }).float().rename('ChlR')\n",
    "    return image.addBands(chlRedg)"
   ]
  },
  {
   "cell_type": "code",
   "execution_count": null,
   "id": "80ced6de-da89-4792-b735-2ed307c6de46",
   "metadata": {},
   "outputs": [],
   "source": [
    "# 13.Calculate/addBands: SAVI\n",
    "#\n",
    "def addSAVI(image):\n",
    "    savi = ee.Image(image).expression(\n",
    "        '(NIR - RED)/ (NIR + RED + 0.428) * (1.0 + 0.428)',\n",
    "        {\n",
    "            'NIR': image.select('NIR'),\n",
    "            'RED': image.select('RED')\n",
    "        }).float().rename('SAVI')\n",
    "    return image.addBands(savi)"
   ]
  },
  {
   "cell_type": "code",
   "execution_count": null,
   "id": "9061877c-d48d-48b2-9567-1ca251eb531d",
   "metadata": {},
   "outputs": [],
   "source": [
    "# 14. Calculate/addBands: BSI (bare soil index)\n",
    "#\n",
    "def addBSI(image):\n",
    "    bsi = ee.Image(image).expression(\n",
    "        '((SWIR1 + RED) - (NIR + BLUE)) / ((SWIR1 + RED) + (NIR + BLUE))',\n",
    "        {\n",
    "            'BLUE': image.select('BLUE'),\n",
    "            'RED': image.select('RED'),\n",
    "            'NIR': image.select('NIR'),\n",
    "            'SWIR1': image.select('SWIR1')\n",
    "        }).float().rename('BSI')\n",
    "    return image.addBands(bsi)"
   ]
  },
  {
   "cell_type": "code",
   "execution_count": null,
   "id": "220f8e4e-d063-4675-99e2-b5d92ca1a4ae",
   "metadata": {},
   "outputs": [],
   "source": [
    "# 15. Calculate/addBands: IBI (index-based built-up index)\n",
    "# \n",
    "def addIBI(image):\n",
    "    ibiA = ee.Image(image).expression('2 * SWIR1 / (SWIR1 + NIR)',\n",
    "                                      {\n",
    "                                          'SWIR1': image.select('SWIR1'), # S2: 'B11'\n",
    "                                          'NIR': image.select('NIR'), # S2: 'B8'\n",
    "                                      }).rename('IBI_A')\n",
    "    ibiB = ee.Image(image).expression('(NIR / (NIR + RED)) + (GREEN / (GREEN + SWIR1))',\n",
    "                                      {\n",
    "                                          'NIR': image.select('NIR'),\n",
    "                                          'RED': image.select('RED'),\n",
    "                                          'GREEN': image.select('GREEN'),\n",
    "                                          'SWIR1': image.select('SWIR1')\n",
    "                                      }).rename('IBI_B')\n",
    "    ibiAB = ibiA.addBands(ibiB)\n",
    "    ibi = ibiAB.normalizedDifference(['IBI_A', 'IBI_B'])\n",
    "    return image.addBands(ibi.rename('IBI'))"
   ]
  },
  {
   "cell_type": "code",
   "execution_count": null,
   "id": "b85f9466-637e-400b-8dae-8dd38f872465",
   "metadata": {
    "tags": []
   },
   "outputs": [],
   "source": [
    " # 16. Calculate NDFI using endmembers from Souza et al., 2005\n",
    " # @param {ee.Image} Surface reflectance image with 6 bands (i.e. not thermal)\n",
    " # @returns {ee.Image} NDFI transform\n",
    " #\n",
    "def calcNDFI(image):\n",
    "  # Do spectral unmixing #\n",
    "    gv = [.0500, .0900, .0400, .6100, .3000, .1000]\n",
    "    shade = [0, 0, 0, 0, 0, 0]\n",
    "    npv = [.1400, .1700, .2200, .3000, .5500, .3000]\n",
    "    soil = [.2000, .3000, .3400, .5800, .6000, .5800]\n",
    "    cloud = [.9000, .9600, .8000, .7800, .7200, .6500]\n",
    "    cf = .1 # Not parameterized\n",
    "    cfThreshold = ee.Image.constant(cf)\n",
    "    unmixImage = (ee.Image(image).unmix([gv, shade, npv, soil, cloud], True,True)\n",
    "                  .rename(['band_0', 'band_1', 'band_2','band_3','band_4']))\n",
    "    newImage = ee.Image(image).addBands(unmixImage)\n",
    "    mask = unmixImage.select('band_4').lt(cfThreshold) # Check that this is the right 'image'; previously 'Image'\n",
    "    ndfi = ee.Image(unmixImage).expression(\n",
    "        '((GV / (1 - SHADE)) - (NPV + SOIL)) / ((GV / (1 - SHADE)) + NPV + SOIL)', \n",
    "        {\n",
    "            'GV': ee.Image(unmixImage).select('band_0'),\n",
    "            'SHADE': ee.Image(unmixImage).select('band_1'),\n",
    "            'NPV': ee.Image(unmixImage).select('band_2'),\n",
    "            'SOIL': ee.Image(unmixImage).select('band_3')\n",
    "    })\n",
    "    return ee.Image(newImage) \\\n",
    "        .addBands(ee.Image(ndfi).rename(['NDFI'])) \\\n",
    "        .select(['band_0','band_1','band_2','band_3','NDFI']) \\\n",
    "        .rename(['GV','Shade','NPV','Soil','NDFI']) \\\n",
    "        .updateMask(mask)"
   ]
  },
  {
   "cell_type": "code",
   "execution_count": null,
   "id": "160ab046-b071-44d6-9818-91b4b10593ee",
   "metadata": {
    "tags": []
   },
   "outputs": [],
   "source": [
    "# 17. Tassel Cap coefficients from Crist 1985\n",
    "# @param {ee.Image} image, Landsat image with BLUE, GREEN, RED, NIR, SWIR1, and SWIR2\n",
    "# @returns {ee.Image} 3-band image with Brightness, Greenness, and Wetness\n",
    "#\n",
    "def tcTrans(image):\n",
    "    # Calculate tasseled cap transformation\n",
    "    brightness = image.expression(\n",
    "        '(L1 * B1) + (L2 * B2) + (L3 * B3) + (L4 * B4) + (L5 * B5) + (L6 * B6)',\n",
    "        {\n",
    "            'L1': image.select('BLUE'),\n",
    "            'B1': 0.2043,\n",
    "            'L2': image.select('GREEN'),\n",
    "            'B2': 0.4158,\n",
    "            'L3': image.select('RED'),\n",
    "            'B3': 0.5524,\n",
    "            'L4': image.select('NIR'),\n",
    "            'B4': 0.5741,\n",
    "            'L5': image.select('SWIR1'),\n",
    "            'B5': 0.3124,\n",
    "            'L6': image.select('SWIR2'),\n",
    "            'B6': 0.2303\n",
    "        })\n",
    "    greenness = image.expression(\n",
    "        '(L1 * B1) + (L2 * B2) + (L3 * B3) + (L4 * B4) + (L5 * B5) + (L6 * B6)',\n",
    "        {\n",
    "            'L1': image.select('BLUE'),\n",
    "            'B1': -0.1603,\n",
    "            'L2': image.select('GREEN'),\n",
    "            'B2': -0.2819,\n",
    "            'L3': image.select('RED'),\n",
    "            'B3': -0.4934,\n",
    "            'L4': image.select('NIR'),\n",
    "            'B4': 0.7940,\n",
    "            'L5': image.select('SWIR1'),\n",
    "            'B5': -0.0002,\n",
    "            'L6': image.select('SWIR2'),\n",
    "            'B6': -0.1446\n",
    "        })\n",
    "    wetness = image.expression(\n",
    "        '(L1 * B1) + (L2 * B2) + (L3 * B3) + (L4 * B4) + (L5 * B5) + (L6 * B6)',\n",
    "        {\n",
    "            'L1': image.select('BLUE'),\n",
    "            'B1': 0.0315,\n",
    "            'L2': image.select('GREEN'),\n",
    "            'B2': 0.2021,\n",
    "            'L3': image.select('RED'),\n",
    "            'B3': 0.3102,\n",
    "            'L4': image.select('NIR'),\n",
    "            'B4': 0.1594,\n",
    "            'L5': image.select('SWIR1'),\n",
    "            'B5': -0.6806,\n",
    "            'L6': image.select('SWIR2'),\n",
    "            'B6': -0.6109\n",
    "        })\n",
    "\n",
    "    bright =  ee.Image(brightness).rename('BRIGHTNESS')\n",
    "    green = ee.Image(greenness).rename('GREENNESS')\n",
    "    wet = ee.Image(wetness).rename('WETNESS')\n",
    "\n",
    "    tasseledCap = ee.Image([bright, green, wet])\n",
    "    return tasseledCap"
   ]
  }
 ],
 "metadata": {
  "kernelspec": {
   "display_name": "Python 3 (ipykernel)",
   "language": "python",
   "name": "python3"
  },
  "language_info": {
   "codemirror_mode": {
    "name": "ipython",
    "version": 3
   },
   "file_extension": ".py",
   "mimetype": "text/x-python",
   "name": "python",
   "nbconvert_exporter": "python",
   "pygments_lexer": "ipython3",
   "version": "3.9.7"
  }
 },
 "nbformat": 4,
 "nbformat_minor": 5
}
