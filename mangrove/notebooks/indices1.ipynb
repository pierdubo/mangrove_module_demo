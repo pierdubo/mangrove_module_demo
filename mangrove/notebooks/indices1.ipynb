{
 "cells": [
  {
   "cell_type": "markdown",
   "id": "e6bbccd1-82f6-42f6-b9df-e480a88fd65b",
   "metadata": {},
   "source": [
    "# Collection of Indices applicable to Landsat and Sentinel imageries\n",
    "### Add more details here:"
   ]
  },
  {
   "cell_type": "code",
   "execution_count": null,
   "id": "87706db3-532c-4aa4-9a4c-7aae72fa672e",
   "metadata": {},
   "outputs": [],
   "source": [
    "import os\n",
    "import ee"
   ]
  },
  {
   "cell_type": "code",
   "execution_count": null,
   "id": "42655150-90c9-41ff-875c-d9f0ee03c85c",
   "metadata": {},
   "outputs": [],
   "source": [
    "ee.Initialize()"
   ]
  },
  {
   "cell_type": "markdown",
   "id": "3f99bf49-1cb6-4706-8b9e-df611eb3ed75",
   "metadata": {},
   "source": [
    "Images need to be 'prepared' first, which consists of renaming bands to standardardized versions"
   ]
  },
  {
   "cell_type": "code",
   "execution_count": null,
   "id": "fa564ccd-2223-4761-8bfa-7252fafe5849",
   "metadata": {
    "tags": []
   },
   "outputs": [],
   "source": [
    "# 1. Calculate/addBands NDVI for an image\n",
    "# @param {ee.Image} image,  e.g., Landsat or Sentinel-2 image with NIR and RED bands\n",
    "# @returns {ee.Image} NDVI image\n",
    "#\n",
    "def calcNDVI(image):\n",
    "    ndvi = (ee.Image(image).normalizedDifference(['NIR','RED'])\n",
    "    .rename('NDVI'))\n",
    "    return ndvi\n",
    "\n",
    "def addNDVI(image):\n",
    "    ndvi = ee.Image(image).normalizedDifference(['NIR','RED']).float()\n",
    "    return image.addBands(ndvi).rename('NDVI')"
   ]
  },
  {
   "cell_type": "code",
   "execution_count": null,
   "id": "8343ca99-84e1-4a3f-9327-cad7deb89142",
   "metadata": {},
   "outputs": [],
   "source": [
    "# 2. Calculate 'Green' NDVI for an image\n",
    "# @param {ee.Image} image,  e.g., Landsat image with NIR and RED bands\n",
    "# @returns {ee.Image} GNDVI image\n",
    "#\n",
    "def addGNDVI(image):\n",
    "    gndvi = ee.Image(image).normalizedDifference(['NIR','GREEN']).float()\n",
    "    return image.addBands(gndvi.rename('gNDVI'))"
   ]
  },
  {
   "cell_type": "code",
   "execution_count": null,
   "id": "70eb603e-317a-43fc-a579-d32e0d0a911a",
   "metadata": {},
   "outputs": [],
   "source": [
    "# 3. Calculate Standard Deviation of NDVI values over a image collection\n",
    "#\n",
    "def addNDVIsd(image):\n",
    "    ndviStd = ee.ImageCollection(image).select('NDVI').reduce(ee.Reducer.stdDev())\n",
    "    # reducer = ee.Reducer.stdDev()\n",
    "    # ndviStd = ndvi.reduce(ee.Reducer.median())\n",
    "    # return image.addBands(ndviStd.rename('ndviSD'))\n",
    "    return ndviStd.rename('ndviSD')"
   ]
  },
  {
   "cell_type": "raw",
   "id": "7729b24e-ab6b-4a0e-9ff5-4558fba4e597",
   "metadata": {},
   "source": [
    "# 'addNDVIsd' needs some finessing (??); here, we run the 'reducer' directly on the LsColl:\n",
    "ndviSD = lsColl.select('NDVI').reduce(ee.Reducer.stdDev())"
   ]
  },
  {
   "cell_type": "code",
   "execution_count": null,
   "id": "9b4beeb5-c9d8-4f84-bff0-5aafc1ab22ca",
   "metadata": {
    "tags": []
   },
   "outputs": [],
   "source": [
    "# 4. Calculate NBR for an image\n",
    "# @param {ee.Image} image  Landsat image with NIR and SWIR2 bands\n",
    "# @returns {ee.Image} NBR image\n",
    "#\n",
    "def calcNBR(image):\n",
    "    nbr = ee.Image(image).normalizedDifference(['NIR', 'SWIR2']).rename('NBR')\n",
    "    return nbr"
   ]
  },
  {
   "cell_type": "code",
   "execution_count": null,
   "id": "88dd8a2c-e228-4700-a6cb-6f2289b799ed",
   "metadata": {
    "tags": []
   },
   "outputs": [],
   "source": [
    "# 5. Calculate EVI for an image\n",
    "# @param {ee.Image} image Landsat image with NIR, RED, and BLUE bands\n",
    "# @returns {ee.Image} EVI transform\n",
    "#\n",
    "def calcEVI(image):\n",
    "    evi = ee.Image(image).expression(\n",
    "          'float(2.5*(((B4) - (B3)) / ((B4) + (6 * (B3)) - (7.5 * (B1)) + 1)))',\n",
    "          {\n",
    "              'B4': ee.Image(image).select(['NIR']),\n",
    "              'B3': ee.Image(image).select(['RED']),\n",
    "              'B1': ee.Image(image).select(['BLUE'])\n",
    "          }).rename('EVI')\n",
    "    return evi"
   ]
  },
  {
   "cell_type": "code",
   "execution_count": null,
   "id": "627369c3-1e65-4f41-9887-24f2134b984c",
   "metadata": {
    "tags": []
   },
   "outputs": [],
   "source": [
    "# 6. Calculate EVI2\n",
    "#\n",
    "def calcEVI2(image):\n",
    "    evi2 = ee.Image(image).expression(\n",
    "        'float(2.5*(((B4) - (B3)) / ((B4) + (2.4 * (B3)) + 1)))',\n",
    "        {\n",
    "            'B4': image.select('NIR'),\n",
    "            'B3': image.select('RED')\n",
    "        }).rename('EVI2')\n",
    "    return evi2"
   ]
  },
  {
   "cell_type": "code",
   "execution_count": null,
   "id": "18235792-b878-464d-86f5-148bfc3c8f00",
   "metadata": {
    "tags": []
   },
   "outputs": [],
   "source": [
    "# 7. Calculate/addBands: NDMI\n",
    "#\n",
    "def addNDMI(image):\n",
    "    ndmi = ee.Image(image).normalizedDifference(['NIR', 'SWIR1']).float().rename('NDMI')\n",
    "    return image.addBands(ndmi)"
   ]
  },
  {
   "cell_type": "code",
   "execution_count": null,
   "id": "7b553d13-2660-4be5-ace3-03df20464aac",
   "metadata": {
    "tags": []
   },
   "outputs": [],
   "source": [
    "# 8. Calculate/addBands: NDWI\n",
    "#\n",
    "def addNDWI(image):\n",
    "    ndwi = ee.Image(image).normalizedDifference(['GREEN', 'NIR']).float().rename('NDWI')\n",
    "    return image.addBands(ndwi)"
   ]
  },
  {
   "cell_type": "code",
   "execution_count": null,
   "id": "9a7b0e3b-6dee-4edc-86dc-73e614b687dc",
   "metadata": {
    "tags": []
   },
   "outputs": [],
   "source": [
    "# 9. Calculate and addBands: MNDWI\n",
    "#\n",
    "def calcMNDWI(image):\n",
    "    mndwi = ee.Image(image).normalizedDifference(['GREEN','SWIR1']).float().rename('MNDWI')\n",
    "    return mndwi\n",
    "\n",
    "def addMNDWI(image):\n",
    "    mndwi = ee.Image(image).normalizedDifference(['GREEN','SWIR1']).float().rename('MNDWI')\n",
    "    return image.addBands(mndwi)"
   ]
  },
  {
   "cell_type": "code",
   "execution_count": null,
   "id": "b03bb91b-6bf5-4104-9ebf-45ee830c7f83",
   "metadata": {},
   "outputs": [],
   "source": [
    "# 10. Calc/addBands: MVI (Mangrove Vegetation Index, see SEPAL)\n",
    "#\n",
    "def addMVI(image):\n",
    "    mvi = ee.Image(image).expression(\n",
    "        '(1.0 * (NIR - GREEN) / abs(SWIR1 - GREEN))',\n",
    "        {\n",
    "            'GREEN': image.select('GREEN'),\n",
    "            'NIR': image.select('NIR'),\n",
    "            'SWIR1': image.select('SWIR1')\n",
    "        }).float().rename('MVI')\n",
    "    return image.addBands(mvi)"
   ]
  },
  {
   "cell_type": "code",
   "execution_count": null,
   "id": "bf79a2b3-038c-4897-bf3d-353f4138b36a",
   "metadata": {
    "tags": []
   },
   "outputs": [],
   "source": [
    "# 11. Calculate/addBands: ARI2 [Sentinel-2 only]\n",
    "#\n",
    "def addARI2(image):\n",
    "    ari2 = ee.Image(image).expression(\n",
    "        '((1.0 / GREEN) - (1.0 / Redg1)) * Redg3',\n",
    "        {\n",
    "            'GREEN': image.select(['GREEN']),\n",
    "            'Redg1': image.select(['Redg1']),  # 'B5'\n",
    "            'Redg3': image.select(['Redg3'])   # 'B7'\n",
    "        }).float().rename('ARI2')\n",
    "    return image.addBands(ari2.rename('ARI2'))"
   ]
  },
  {
   "cell_type": "code",
   "execution_count": null,
   "id": "526131e0-8395-40a0-abfd-e13ae689012c",
   "metadata": {},
   "outputs": [],
   "source": [
    "# 12. Calculate/addBands: ChlR [Sentinel-2 only]\n",
    "#\n",
    "def addChlR(image):\n",
    "    chlRedg = ee.Image(image).expression(\n",
    "        'pow((Redg3 / Redg1), -1.0)',\n",
    "        {\n",
    "            'Redg1': image.select(['Redg1']),\n",
    "            'Redg3': image.select(['Redg3'])\n",
    "        }).float().rename('ChlR')\n",
    "    return image.addBands(chlRedg)"
   ]
  },
  {
   "cell_type": "code",
   "execution_count": null,
   "id": "957828a8-7af2-4667-86cf-fe859f91e805",
   "metadata": {},
   "outputs": [],
   "source": [
    "# 13.Calculate/addBands: SAVI\n",
    "#\n",
    "def addSAVI(image):\n",
    "    savi = ee.Image(image).expression(\n",
    "        '(NIR - RED)/ (NIR + RED + 0.428) * (1.0 + 0.428)',\n",
    "        {\n",
    "            'NIR': image.select('NIR'),\n",
    "            'RED': image.select('RED')\n",
    "        }).float().rename('SAVI')\n",
    "    return image.addBands(savi)"
   ]
  },
  {
   "cell_type": "code",
   "execution_count": null,
   "id": "2772705d-c5c8-4b51-9ff4-b58e753ccb38",
   "metadata": {},
   "outputs": [],
   "source": [
    "# 14. Calculate/addBands: BSI (bare soil index)\n",
    "#\n",
    "def addBSI(image):\n",
    "    bsi = ee.Image(image).expression(\n",
    "        '((SWIR1 + RED) - (NIR + BLUE)) / ((SWIR1 + RED) + (NIR + BLUE))',\n",
    "        {\n",
    "            'BLUE': image.select('BLUE'),\n",
    "            'RED': image.select('RED'),\n",
    "            'NIR': image.select('NIR'),\n",
    "            'SWIR1': image.select('SWIR1')\n",
    "        }).float().rename('BSI')\n",
    "    return image.addBands(bsi)"
   ]
  },
  {
   "cell_type": "code",
   "execution_count": null,
   "id": "da4afaf2-2924-4c3c-9c8f-333b095840c8",
   "metadata": {},
   "outputs": [],
   "source": [
    "# 15. Calculate/addBands: IBI (index-based built-up index)\n",
    "# \n",
    "def addIBI(image):\n",
    "    ibiA = ee.Image(image).expression('2 * SWIR1 / (SWIR1 + NIR)',\n",
    "                                      {\n",
    "                                          'SWIR1': image.select('SWIR1'), # S2: 'B11'\n",
    "                                          'NIR': image.select('NIR'), # S2: 'B8'\n",
    "                                      }).rename('IBI_A')\n",
    "    ibiB = ee.Image(image).expression('(NIR / (NIR + RED)) + (GREEN / (GREEN + SWIR1))',\n",
    "                                      {\n",
    "                                          'NIR': image.select('NIR'),\n",
    "                                          'RED': image.select('RED'),\n",
    "                                          'GREEN': image.select('GREEN'),\n",
    "                                          'SWIR1': image.select('SWIR1')\n",
    "                                      }).rename('IBI_B')\n",
    "    ibiAB = ibiA.addBands(ibiB)\n",
    "    ibi = ibiAB.normalizedDifference(['IBI_A', 'IBI_B'])\n",
    "    return image.addBands(ibi.rename('IBI'))"
   ]
  },
  {
   "cell_type": "code",
   "execution_count": null,
   "id": "a278a437-349e-4163-8a7f-1e3933aec5db",
   "metadata": {},
   "outputs": [],
   "source": [
    "# 16. Calculate/addBands: CMRI (Combined Mangrove Recognition Index0 [(NDVI-NDWI]); Gupta et al. 2018\n",
    "#\n",
    "def addCMRI(image):\n",
    "    ndvi = ee.Image(image).normalizedDifference(['NIR', 'RED'])\n",
    "    cmri = ndvi.subtract(ee.Image(image).normalizedDifference(['GREEN', 'NIR'])).rename(['CMRI'])\n",
    "    return cmri"
   ]
  },
  {
   "cell_type": "code",
   "execution_count": null,
   "id": "cc0a51c4-7bdd-418d-a230-edec6126c206",
   "metadata": {},
   "outputs": [],
   "source": [
    "# 17. Calculate/addBands: MMRI (Modular Mangrove Recognition Index) [(MNDWI-NDVI)(MNDWI+NDVI)]; Diniz et al. 2018\n",
    "#\n",
    "def addMMRI(image):\n",
    "    ndvi = ee.Image(image).normalizedDifference(['NIR', 'RED']).abs()\n",
    "    mndwi = ee.Image(image).normalizedDifference(['GREEN','SWIR1']).abs()\n",
    "    mmri = ee.Image(image).normalizedDifference(ndvi, mndwi).rename(['MMRI'])\n",
    "    return mmri    "
   ]
  },
  {
   "cell_type": "code",
   "execution_count": null,
   "id": "d0d14124-0f37-4181-8ff4-0e03a85a1135",
   "metadata": {},
   "outputs": [],
   "source": [
    "# 16. Calculate/addBands: EBBI (Enhanced Built-up and Bareness Index)\n",
    "#\n",
    "def addEBBI(image):\n",
    "    ebbi = ee.Image(image).expression('(SWIR1 - NIR) / (10 * sqrt(SWIR1 + SWIR2))',\n",
    "                                       {\n",
    "                                           'NIR': image.select('NIR'),\n",
    "                                           'SWIR1': image.select('SWIR1'),\n",
    "                                           'SWIR2': image.select('SWIR2')\n",
    "                                       }).rename(['EBBI'])\n",
    "    return image.addBands(ebbi)"
   ]
  },
  {
   "cell_type": "code",
   "execution_count": null,
   "id": "d3c24cc7-dbd5-46e3-88d3-d360a8a485b9",
   "metadata": {
    "tags": []
   },
   "outputs": [],
   "source": [
    " # 16. Calculate NDFI using endmembers from Souza et al., 2005\n",
    " # @param {ee.Image} Surface reflectance image with 6 bands (i.e. not thermal)\n",
    " # @returns {ee.Image} NDFI transform\n",
    " #\n",
    "def calcNDFI(image):\n",
    "  # Do spectral unmixing #\n",
    "    gv = [.0500, .0900, .0400, .6100, .3000, .1000]\n",
    "    shade = [0, 0, 0, 0, 0, 0]\n",
    "    npv = [.1400, .1700, .2200, .3000, .5500, .3000]\n",
    "    soil = [.2000, .3000, .3400, .5800, .6000, .5800]\n",
    "    cloud = [.9000, .9600, .8000, .7800, .7200, .6500]\n",
    "    cf = .1 # Not parameterized\n",
    "    cfThreshold = ee.Image.constant(cf)\n",
    "    unmixImage = (ee.Image(image).unmix([gv, shade, npv, soil, cloud], True,True)\n",
    "                  .rename(['band_0', 'band_1', 'band_2','band_3','band_4']))\n",
    "    newImage = ee.Image(image).addBands(unmixImage)\n",
    "    mask = unmixImage.select('band_4').lt(cfThreshold) # Check that this is the right 'image'; previously 'Image'\n",
    "    ndfi = ee.Image(unmixImage).expression(\n",
    "        '((GV / (1 - SHADE)) - (NPV + SOIL)) / ((GV / (1 - SHADE)) + NPV + SOIL)', \n",
    "        {\n",
    "            'GV': ee.Image(unmixImage).select('band_0'),\n",
    "            'SHADE': ee.Image(unmixImage).select('band_1'),\n",
    "            'NPV': ee.Image(unmixImage).select('band_2'),\n",
    "            'SOIL': ee.Image(unmixImage).select('band_3')\n",
    "    })\n",
    "    return ee.Image(newImage) \\\n",
    "        .addBands(ee.Image(ndfi).rename(['NDFI'])) \\\n",
    "        .select(['band_0','band_1','band_2','band_3','NDFI']) \\\n",
    "        .rename(['GV','Shade','NPV','Soil','NDFI']) \\\n",
    "        .updateMask(mask)"
   ]
  },
  {
   "cell_type": "code",
   "execution_count": null,
   "id": "23dcde46-54c3-4844-98e4-218e0aa5d7e8",
   "metadata": {
    "tags": []
   },
   "outputs": [],
   "source": [
    "# 17. Tassel Cap coefficients from Crist 1985\n",
    "# @param {ee.Image} image, Landsat image with BLUE, GREEN, RED, NIR, SWIR1, and SWIR2\n",
    "# @returns {ee.Image} 3-band image with Brightness, Greenness, and Wetness\n",
    "#\n",
    "def tcTrans(image):\n",
    "    # Calculate tasseled cap transformation\n",
    "    brightness = image.expression(\n",
    "        '(L1 * B1) + (L2 * B2) + (L3 * B3) + (L4 * B4) + (L5 * B5) + (L6 * B6)',\n",
    "        {\n",
    "            'L1': image.select('BLUE'),\n",
    "            'B1': 0.2043,\n",
    "            'L2': image.select('GREEN'),\n",
    "            'B2': 0.4158,\n",
    "            'L3': image.select('RED'),\n",
    "            'B3': 0.5524,\n",
    "            'L4': image.select('NIR'),\n",
    "            'B4': 0.5741,\n",
    "            'L5': image.select('SWIR1'),\n",
    "            'B5': 0.3124,\n",
    "            'L6': image.select('SWIR2'),\n",
    "            'B6': 0.2303\n",
    "        })\n",
    "    greenness = image.expression(\n",
    "        '(L1 * B1) + (L2 * B2) + (L3 * B3) + (L4 * B4) + (L5 * B5) + (L6 * B6)',\n",
    "        {\n",
    "            'L1': image.select('BLUE'),\n",
    "            'B1': -0.1603,\n",
    "            'L2': image.select('GREEN'),\n",
    "            'B2': -0.2819,\n",
    "            'L3': image.select('RED'),\n",
    "            'B3': -0.4934,\n",
    "            'L4': image.select('NIR'),\n",
    "            'B4': 0.7940,\n",
    "            'L5': image.select('SWIR1'),\n",
    "            'B5': -0.0002,\n",
    "            'L6': image.select('SWIR2'),\n",
    "            'B6': -0.1446\n",
    "        })\n",
    "    wetness = image.expression(\n",
    "        '(L1 * B1) + (L2 * B2) + (L3 * B3) + (L4 * B4) + (L5 * B5) + (L6 * B6)',\n",
    "        {\n",
    "            'L1': image.select('BLUE'),\n",
    "            'B1': 0.0315,\n",
    "            'L2': image.select('GREEN'),\n",
    "            'B2': 0.2021,\n",
    "            'L3': image.select('RED'),\n",
    "            'B3': 0.3102,\n",
    "            'L4': image.select('NIR'),\n",
    "            'B4': 0.1594,\n",
    "            'L5': image.select('SWIR1'),\n",
    "            'B5': -0.6806,\n",
    "            'L6': image.select('SWIR2'),\n",
    "            'B6': -0.6109\n",
    "        })\n",
    "\n",
    "    bright =  ee.Image(brightness).rename('BRIGHTNESS')\n",
    "    green = ee.Image(greenness).rename('GREENNESS')\n",
    "    wet = ee.Image(wetness).rename('WETNESS')\n",
    "\n",
    "    tasseledCap = ee.Image([bright, green, wet])\n",
    "    return tasseledCap"
   ]
  }
 ],
 "metadata": {
  "kernelspec": {
   "display_name": "Python 3 (ipykernel)",
   "language": "python",
   "name": "python3"
  },
  "language_info": {
   "codemirror_mode": {
    "name": "ipython",
    "version": 3
   },
   "file_extension": ".py",
   "mimetype": "text/x-python",
   "name": "python",
   "nbconvert_exporter": "python",
   "pygments_lexer": "ipython3",
   "version": "3.9.7"
  }
 },
 "nbformat": 4,
 "nbformat_minor": 5
}
