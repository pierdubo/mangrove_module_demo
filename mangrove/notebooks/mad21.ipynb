{
 "cells": [
  {
   "cell_type": "code",
   "execution_count": 6,
   "id": "28887ea8",
   "metadata": {},
   "outputs": [],
   "source": [
    "import os\n",
    "import ee\n",
    "import folium"
   ]
  },
  {
   "cell_type": "code",
   "execution_count": 7,
   "id": "97a51c5e",
   "metadata": {},
   "outputs": [],
   "source": [
    "ee.Initialize()"
   ]
  },
  {
   "cell_type": "code",
   "execution_count": 8,
   "id": "29fa165a",
   "metadata": {},
   "outputs": [],
   "source": [
    "import geemap"
   ]
  },
  {
   "cell_type": "code",
   "execution_count": null,
   "id": "d3452581-739b-4d7f-bcd6-bd225085e7db",
   "metadata": {},
   "outputs": [],
   "source": [
    "from ipynb.fs.full.input1 import *"
   ]
  },
  {
   "cell_type": "code",
   "execution_count": 52,
   "id": "b8f78d03-e521-41c4-a6dc-6e656a1e95c2",
   "metadata": {},
   "outputs": [],
   "source": [
    "from ipynb.fs.defs.input1 import *"
   ]
  },
  {
   "cell_type": "code",
   "execution_count": null,
   "id": "524cbaf3-dc2a-411a-a890-cb4b6cef73f0",
   "metadata": {},
   "outputs": [],
   "source": [
    "# run input1.ipynb"
   ]
  },
  {
   "cell_type": "code",
   "execution_count": 9,
   "id": "23544216-3954-4adf-ac34-e24226a7a9f4",
   "metadata": {},
   "outputs": [],
   "source": [
    "iDate = '2021-01-01'\n",
    "fDate = '2022-01-01'"
   ]
  },
  {
   "cell_type": "code",
   "execution_count": null,
   "id": "395f37f8-b525-4774-9678-ada78921c559",
   "metadata": {
    "jupyter": {
     "source_hidden": true
    },
    "tags": []
   },
   "outputs": [],
   "source": [
    "geom = ee.FeatureCollection([\n",
    "    ee.Feature(\n",
    "        ee.Geometry.Polygon([[\n",
    "            [48.8143604764154, -13.233302999964707],\n",
    "            [48.8143604764154, -13.300135050067755],\n",
    "            [48.9242237576654, -13.300135050067755],\n",
    "            [48.9242237576654, -13.233302999964707]\n",
    "        ]]),\n",
    "        {'system:index': '0'}\n",
    "    )\n",
    "])"
   ]
  },
  {
   "cell_type": "code",
   "execution_count": 17,
   "id": "bf5d9c4d-84de-436e-8c87-43a6c220fd9e",
   "metadata": {},
   "outputs": [],
   "source": [
    "geom = ee.Geometry.Rectangle([[48.4684, -12.6752], [48.9465, -13.6273]])"
   ]
  },
  {
   "cell_type": "code",
   "execution_count": 23,
   "id": "00dd77f7-cd39-412b-9658-2f40e3031ea6",
   "metadata": {},
   "outputs": [],
   "source": [
    "geom2 = ee.Geometry(geom).buffer(10000)"
   ]
  },
  {
   "cell_type": "code",
   "execution_count": null,
   "id": "3f47e57a-1838-4018-84b2-1a33b946a221",
   "metadata": {},
   "outputs": [],
   "source": [
    "roi = ee.FeatureCollection(\"projects/ee-pierdubo/assets/roi_nw_smooth\")"
   ]
  },
  {
   "cell_type": "code",
   "execution_count": 44,
   "id": "8dc0681b-f7e3-4074-bb24-432758cb9438",
   "metadata": {},
   "outputs": [],
   "source": [
    "nw_2box = ee.FeatureCollection('projects/ee-pierdubo/assets/nw_2box')"
   ]
  },
  {
   "cell_type": "code",
   "execution_count": 50,
   "id": "66576111-f9ef-4aae-a0bb-00ba968f3616",
   "metadata": {},
   "outputs": [],
   "source": [
    "aoi = (nw_2box\n",
    "       .filter(ee.Filter.eq('sel', 1)))"
   ]
  },
  {
   "cell_type": "code",
   "execution_count": 9,
   "id": "56293fa1-fddb-49ff-bbac-e194767c34e8",
   "metadata": {},
   "outputs": [],
   "source": [
    "targetBands = ['BLUE','GREEN','RED','NIR','SWIR1','SWIR2','NDVI','NBR','EVI','BRIGHTNESS','GREENNESS','WETNESS']"
   ]
  },
  {
   "cell_type": "code",
   "execution_count": 12,
   "id": "479cfca2-e0b4-40db-8d1e-24fab3b308fa",
   "metadata": {},
   "outputs": [],
   "source": [
    "lsColl = getLandsat(iDate, fDate, geom, targetBands, 2)"
   ]
  },
  {
   "cell_type": "code",
   "execution_count": null,
   "id": "b1b3fa50-2e49-4369-a167-16f9897a85c6",
   "metadata": {},
   "outputs": [],
   "source": [
    "Map = geemap.Map(center=(-13.5, 48), zoom = 8)\n",
    "Map.addLayer(nw2, {}, 'Geom')\n",
    "Map"
   ]
  },
  {
   "cell_type": "code",
   "execution_count": 14,
   "id": "a2b993d1-66d5-473a-abea-e0e6dd827ebc",
   "metadata": {},
   "outputs": [],
   "source": [
    "Map.addLayer(lsColl.select(['SWIR1','NIR','GREEN']).median(), {'bands': ['SWIR1','NIR','GREEN'], 'min':0.020, 'max':0.400, 'gamma': 0.85}, 'Landsat Coll')"
   ]
  },
  {
   "cell_type": "code",
   "execution_count": null,
   "id": "a1265cdd",
   "metadata": {
    "tags": []
   },
   "outputs": [],
   "source": [
    "aoi = ee.Geometry.LineString(\n",
    "    [[49.09178474992574, -11.924273142945154],\n",
    "     [48.66331795305074, -13.275179628809104],\n",
    "     [47.818428215464124, -14.41247011042455],\n",
    "     [48.179964869881715, -14.846057452723358],\n",
    "     [48.08998151060017, -15.275048458710872],\n",
    "     [47.753046040851736, -14.483073303752759],\n",
    "     [46.60887459367574, -15.668473695347696],\n",
    "     [44.40062264055074, -16.196686141581498]])\n",
    "# AOI for upper area, using a polyline"
   ]
  },
  {
   "cell_type": "code",
   "execution_count": 6,
   "id": "4867b8cb-92d0-4bfd-9db4-1ec758f48f03",
   "metadata": {},
   "outputs": [],
   "source": [
    "geom = ee.FeatureCollection([\n",
    "    ee.Feature(\n",
    "        ee.Geometry.Polygon([[\n",
    "            [48.8143604764154, -13.233302999964707],\n",
    "            [48.8143604764154, -13.300135050067755],\n",
    "            [48.9242237576654, -13.300135050067755],\n",
    "            [48.9242237576654, -13.233302999964707]\n",
    "        ]]),\n",
    "        {'system:index': '0'}\n",
    "    )\n",
    "])"
   ]
  },
  {
   "cell_type": "code",
   "execution_count": null,
   "id": "6d174276",
   "metadata": {
    "tags": []
   },
   "outputs": [],
   "source": [
    "geometry3 = ee.Geometry.Polygon(\n",
    "        [[[48.93600246152643, -12.96147823789479],\n",
    "          [48.93600246152643, -12.979711921622673],\n",
    "          [48.957803456399475, -12.979711921622673],\n",
    "          [48.957803456399475, -12.96147823789479]]], {}, False)\n",
    "# displayProperties: [{\"type\": \"rectangle\"}] #"
   ]
  },
  {
   "cell_type": "code",
   "execution_count": 38,
   "id": "3bb4153f",
   "metadata": {},
   "outputs": [],
   "source": [
    "tccCollection = ee.ImageCollection(\"projects/servir-mekong/UMD/tree_canopy\")\n",
    "rubberData = ee.FeatureCollection(\"projects/servir-mekong/referenceData/CambodiaRubber\")\n",
    "trainingSample = ee.FeatureCollection(\"projects/servir-mekong/ReferenceData/EvergreenTraining\")"
   ]
  },
  {
   "cell_type": "code",
   "execution_count": null,
   "id": "59e02b42",
   "metadata": {},
   "outputs": [],
   "source": []
  },
  {
   "cell_type": "code",
   "execution_count": 63,
   "id": "82b3ad10",
   "metadata": {},
   "outputs": [],
   "source": [
    "collect_S2 = (ee.ImageCollection('COPERNICUS/S2')\n",
    "              .filter(ee.Filter.calendarRange(2020,2020,'YEAR'))\n",
    "              .filter(ee.Filter.calendarRange(1,12,'MONTH'))\n",
    "              .filter(ee.Filter.calendarRange(1,31, 'DAY_OF_MONTH'))\n",
    "              .filterBounds(aoi)\n",
    "              .map(maskS2clouds) \n",
    "              .filter(ee.Filter.lt('CLOUDY_PIXEL_PERCENTAGE', 25)))\n",
    "              # .filterMetadata('CLOUD_COVERAGE_ASSESSMENT', 'less_than', 75)"
   ]
  },
  {
   "cell_type": "code",
   "execution_count": null,
   "id": "6630e4c6",
   "metadata": {},
   "outputs": [],
   "source": [
    "collect_VV = ee.ImageCollection('COPERNICUS/S1_GRD') \\\n",
    "  .filter(ee.Filter.calendarRange(2020,2020,'YEAR')) \\\n",
    "  .filter(ee.Filter.calendarRange(1,12,'MONTH')) \\\n",
    "  .filter(ee.Filter.calendarRange(1,31, 'DAY_OF_MONTH')) \\\n",
    "  .filter(ee.Filter.eq('instrumentMode', 'IW')) \\\n",
    "  .filter(ee.Filter.listContains('transmitterReceiverPolarisation', 'VV')) \\\n",
    "  .filter(ee.Filter.eq('orbitProperties_pass', 'DESCENDING')) \\\n",
    "  .filterMetadata('resolution_meters', 'equals' , 10) \\\n",
    "  .filterBounds(aoi) \\\n",
    "  .select('VV')\n",
    "\n",
    "collect_VH = ee.ImageCollection('COPERNICUS/S1_GRD') \\\n",
    "  .filter(ee.Filter.calendarRange(2020,2020,'YEAR')) \\\n",
    "  .filter(ee.Filter.calendarRange(1,12,'MONTH')) \\\n",
    "  .filter(ee.Filter.calendarRange(1,31, 'DAY_OF_MONTH')) \\\n",
    "  .filter(ee.Filter.eq('instrumentMode', 'IW')) \\\n",
    "  .filter(ee.Filter.listContains('transmitterReceiverPolarisation', 'VH')) \\\n",
    "  .filter(ee.Filter.eq('orbitProperties_pass', 'DESCENDING')) \\\n",
    "  .filterMetadata('resolution_meters', 'equals' , 10) \\\n",
    "  .filterBounds(aoi) \\\n",
    "  .select('VH')"
   ]
  },
  {
   "cell_type": "code",
   "execution_count": null,
   "id": "05f077f6",
   "metadata": {},
   "outputs": [],
   "source": [
    "#print(collect_S2, 'S2 catalogue')\n",
    "#print(collect_VH, collect_VV, 'VH & VV catalogue')"
   ]
  },
  {
   "cell_type": "code",
   "execution_count": null,
   "id": "fd4bc048",
   "metadata": {},
   "outputs": [],
   "source": [
    "y1 = 2020\n",
    "start_S1 = ee.Date.fromYMD(y1,1,1)\n",
    "end_S1 = ee.Date.fromYMD(y1,12,31)"
   ]
  },
  {
   "cell_type": "markdown",
   "id": "db192722",
   "metadata": {},
   "source": [
    "Filter by date; apply speckle filter ... also see addS1 function"
   ]
  },
  {
   "cell_type": "code",
   "execution_count": null,
   "id": "7b6c4c02",
   "metadata": {},
   "outputs": [],
   "source": [
    "SARVV = collect_VV.filterDate(start_S1,end_S1).mosaic()\n",
    "SARVH = collect_VH.filterDate(start_S1,end_S1).mosaic()"
   ]
  },
  {
   "cell_type": "code",
   "execution_count": null,
   "id": "55b5a4a4",
   "metadata": {},
   "outputs": [],
   "source": [
    "SMOOTHING_RADIUS = 30\n",
    "SARVV_flt = SARVV.select('VV').focal_mean(SMOOTHING_RADIUS, 'circle', 'meters')"
   ]
  },
  {
   "cell_type": "code",
   "execution_count": null,
   "id": "283996d2",
   "metadata": {},
   "outputs": [],
   "source": [
    "timeField = 'system:time_start'"
   ]
  },
  {
   "cell_type": "code",
   "execution_count": null,
   "id": "a4db86ec",
   "metadata": {},
   "outputs": [],
   "source": [
    "y2 = 2021\n",
    "\n",
    "start = ee.Date.fromYMD(2015,1,1)\n",
    "end = ee.Date.fromYMD(y2,4,1)\n",
    "\n",
    "S2_comp = ee.ImageCollection('COPERNICUS/S2') \\\n",
    "  .filterDate(start,end) \\\n",
    "  .filterBounds(aoi) \\\n",
    "  .filter(ee.Filter.lt('CLOUDY_PIXEL_PERCENTAGE', 1)) \\\n",
    "  .map(maskS2clouds)"
   ]
  },
  {
   "cell_type": "code",
   "execution_count": 62,
   "id": "9dd31d9a-209a-4c04-94f1-bb234c3970af",
   "metadata": {},
   "outputs": [],
   "source": [
    "Map.addLayer(collect_S2.select(['B11','B8','B3']).median(), {'bands': ['B11','B8','B3'], 'min':200, 'max':4000, 'gamma': 0.85}, 'Sentinel-2 Coll')"
   ]
  },
  {
   "cell_type": "code",
   "execution_count": 61,
   "id": "fc05162c-1226-4f5a-9a3d-6216ddd1f6d0",
   "metadata": {},
   "outputs": [
    {
     "data": {
      "application/vnd.jupyter.widget-view+json": {
       "model_id": "423f16e7468045c79c2694fc8d555129",
       "version_major": 2,
       "version_minor": 0
      },
      "text/plain": [
       "Map(center=[-13.5, 48], controls=(WidgetControl(options=['position', 'transparent_bg'], widget=HBox(children=(…"
      ]
     },
     "metadata": {},
     "output_type": "display_data"
    }
   ],
   "source": [
    "Map = geemap.Map(center=(-13.5, 48), zoom = 8)\n",
    "Map"
   ]
  },
  {
   "cell_type": "code",
   "execution_count": null,
   "id": "c0c11361-e837-4109-ab50-f17a8e906e59",
   "metadata": {},
   "outputs": [],
   "source": [
    "Map.addLayer(lsColl.select(['SWIR1','NIR','GREEN']).median(), {'bands': ['SWIR1','NIR','GREEN'], 'min':0.020, 'max':0.400, 'gamma': 0.85}, 'Landsat Coll')"
   ]
  },
  {
   "cell_type": "code",
   "execution_count": null,
   "id": "1758ac40-f2ee-4121-a043-417b9b947eda",
   "metadata": {
    "tags": []
   },
   "outputs": [],
   "source": [
    "Map.draw_features\n",
    "roi = ee.FeatureCollection(Map.draw_features)\n",
    "roi"
   ]
  },
  {
   "cell_type": "code",
   "execution_count": null,
   "id": "6ebdf283-6dad-47a6-a928-0e83f4db9df0",
   "metadata": {},
   "outputs": [],
   "source": [
    "Map.addLayer(srtm, dem_vis, 'SRTM DEM', True, 0.5)\n",
    "Map.addLayer(landcover, {}, 'Land cover', 0)\n",
    "Map.addLayer(L8_collect, landsat_vis, 'Landsat 8', 0)\n",
    "Map.addLayer(SARVV, {'min':-15, 'max':0}, 'SAR VV', 0)\n",
    "Map.addLayer(SARVH, {'min':-25, 'max':0}, 'SAR VH', 0)\n",
    "Map.addLayer(collect_S2, {'bands': ['B4',  'B3',  'B2'], 'min':200, 'max': 4000}, 'S2 Catalogue', 0)\n",
    "Map.addLayer(S2_comp, {'bands': ['B4',  'B3',  'B2'], 'min':200, 'max':4000, 'gamma': 0.85}, \"S2 Comp\", 1)\n",
    "\n",
    "Map"
   ]
  },
  {
   "cell_type": "code",
   "execution_count": null,
   "id": "e19b5254",
   "metadata": {},
   "outputs": [],
   "source": [
    "def addS2var(image):\n",
    "  date = ee.Date(image.get(timeField))\n",
    "  years = date.difference(ee.Date('1970-01-01'), 'year')\n",
    "  return image.addBands(image.normalizedDifference(['B8A', 'B4']).rename('NDVI')).float() \\\n",
    "    .addBands(ee.Image(years).rename('t').float()).addBands(ee.Image.constant(1))"
   ]
  },
  {
   "cell_type": "markdown",
   "id": "6dca83a7",
   "metadata": {},
   "source": [
    "Remove clouds, add variables and filter to the area of interest"
   ]
  },
  {
   "cell_type": "code",
   "execution_count": null,
   "id": "006346a4",
   "metadata": {},
   "outputs": [],
   "source": [
    "filteredS2 = (S2_comp\n",
    "              .filterBounds(aoi)\n",
    "              .map(maskS2clouds)\n",
    "              .map(addS2var))"
   ]
  },
  {
   "cell_type": "markdown",
   "id": "4bdc1eed",
   "metadata": {},
   "source": [
    "Plot a time series of NDVI at a single location."
   ]
  },
  {
   "cell_type": "code",
   "execution_count": null,
   "id": "18826a83",
   "metadata": {},
   "outputs": [],
   "source": [
    "#S2Chart = ui.Chart.image.series(filteredS2.select('NDVI'), geometry3) \\\n",
    "#    .setChartType('ScatterChart') \\\n",
    "#    .setOptions({ \\\n",
    "#      'title': 'S2 NDVI time series at ROI', \\\n",
    "#      'lineWidth': 1, \\\n",
    "#      'pointSize': 3, \\\n",
    "#    })\n",
    "#print(S2Chart)\n",
    "\n",
    "#print(filteredS2, \"List of S2 images at loc\")"
   ]
  },
  {
   "cell_type": "code",
   "execution_count": null,
   "id": "bdd24502",
   "metadata": {},
   "outputs": [],
   "source": [
    "dayOfInterestS2 = ee.Date('2016-10-23')\n",
    "\n",
    "S2doi = ee.ImageCollection(S2_comp) \\\n",
    "    .filterDate(dayOfInterestS2, dayOfInterestS2.advance(1, 'day')) \\\n",
    "    .filterBounds(aoi) \\\n",
    "    .map(maskS2clouds)"
   ]
  },
  {
   "cell_type": "code",
   "execution_count": null,
   "id": "3205a4aa",
   "metadata": {},
   "outputs": [],
   "source": [
    "Map = geemap.Map(center=(-13, 48.8), zoom = 7)\n",
    "Map.addLayer(srtm, dem_vis, 'SRTM DEM', True, 0.5)\n",
    "\n",
    "Map.addLayer(filteredS2, {'bands': ['B4',  'B3',  'B2'], 'min':400, 'max':3000, 'gamma': 0.85}, \"S2 NDVI\", 1)\n",
    "Map.addLayer(S2doi, {'bands': ['B4',  'B3',  'B2'], 'min':400, 'max':3000, 'gamma': 0.85}, \"S2 DOI\", 1)\n",
    "Map.addLayer(magr, {'color': \"FF0000\"}, \"GMW 2016\", 0)\n",
    "Map"
   ]
  },
  {
   "cell_type": "markdown",
   "id": "9fe209e5-723a-426f-98d8-585900497c3a",
   "metadata": {},
   "source": [
    "### Folium"
   ]
  },
  {
   "cell_type": "code",
   "execution_count": 9,
   "id": "837d777b-2429-406d-8742-ef6c05d5db6e",
   "metadata": {
    "tags": []
   },
   "outputs": [],
   "source": [
    "def add_ee_layer(self, ee_image_object, vis_params, name):\n",
    "    map_id_dict = ee.Image(ee_image_object).getMapId(vis_params)\n",
    "    folium.raster_layers.TileLayer(\n",
    "        tiles=map_id_dict['tile_fetcher'].url_format,\n",
    "        attr='Map Data &copy; <a href=\"https://earthengine.google.com/\">Google Earth Engine</a>',\n",
    "        name=name,\n",
    "        overlay=True,\n",
    "        constrol=True\n",
    "    ).add_to(self)\n",
    "\n",
    "folium.map.add_ee_layer = add_ee_layer    "
   ]
  },
  {
   "cell_type": "code",
   "execution_count": 21,
   "id": "41f4e57f-a2da-41e3-8df8-d644548225d7",
   "metadata": {
    "tags": []
   },
   "outputs": [],
   "source": [
    "map = folium.Map(location=[-13.8, 48.3], tiles='OpenStreetMap', zoom_start=8)"
   ]
  },
  {
   "cell_type": "code",
   "execution_count": null,
   "id": "4c06aece-bde1-48de-a396-af65a5024169",
   "metadata": {
    "tags": []
   },
   "outputs": [],
   "source": [
    "# map.add_ee_layer(srtm.select('elevation'), {'min':0, 'max': 1200}, 'NASADEM')\n",
    "map.add_ee_layer(Mangr, {}, 'Mangrove')\n",
    "\n",
    "# map.add_ee_layer(lc_esa, lcEsa_vis_params , 'ESA Land Cover')\n",
    "# map.add_ee_layer(PALSAR_2017.select('HV'), {'min':-0, 'max': 10000}, 'Palsar 2017')\n",
    "# map.add_ee_layer(L4_coll.select('B4').median(), {}, 'L4 Coll')\n",
    "# map.add_ee_layer(collection7.select(['SWIR1','NIR','GREEN']).median(), {'bands': ['SWIR1','NIR','GREEN'], 'min':0.020, 'max':0.400, 'gamma': 0.85}, 'Landsat Coll')\n",
    "# mp.add_ee_layer(indices.select('EVI2').median(), {}, 'NDVI L8 2021')\n",
    "\n",
    "map.add_child(folium.LayerControl())\n",
    "map"
   ]
  },
  {
   "cell_type": "code",
   "execution_count": null,
   "id": "17d3386b-f266-425b-adfa-f81b27df66a0",
   "metadata": {},
   "outputs": [],
   "source": [
    "mapid = image.getMapId({'bands': ['B4', 'B3', 'B2'], 'min': 0, 'max': 0.3})"
   ]
  },
  {
   "cell_type": "code",
   "execution_count": null,
   "id": "c5de5c7c-5ebd-46ef-8bd3-57abc52cf8a9",
   "metadata": {},
   "outputs": [],
   "source": [
    "map = folium.Map(location=[-13.8, 48.3], tiles='OpenStreetMap', zoom_start=8)"
   ]
  },
  {
   "cell_type": "code",
   "execution_count": null,
   "id": "28208ffc-ff77-4179-8892-8b2d0963cf4e",
   "metadata": {},
   "outputs": [],
   "source": [
    "folium.TileLayer(\n",
    "    tiles=mapid['tile_fetcher'].url_format,\n",
    "    attr='Google Earth Engine',\n",
    "    overlay=True,\n",
    "    name='median composite',\n",
    "  ).add_to(map)"
   ]
  },
  {
   "cell_type": "code",
   "execution_count": null,
   "id": "44e516b5-f678-4b02-ab0c-dc075ade03ad",
   "metadata": {},
   "outputs": [],
   "source": [
    "mapid = image.getMapId({'bands': ['B4', 'B3', 'B2'], 'min': 0, 'max': 0.3})"
   ]
  },
  {
   "cell_type": "code",
   "execution_count": null,
   "id": "e1817fdf-ea45-4b58-a9b6-c4e0fec61d11",
   "metadata": {},
   "outputs": [],
   "source": [
    "folium.TileLayer(\n",
    "    tiles=mapid['tile_fetcher'].url_format,\n",
    "    attr='Google Earth Engine',\n",
    "    overlay=True,\n",
    "    name='predictions',\n",
    "  ).add_to(map)\n",
    "map.add_child(folium.LayerControl())\n",
    "map"
   ]
  },
  {
   "cell_type": "code",
   "execution_count": null,
   "id": "45dd77cd-f2af-4501-ad3f-df34ab3427b8",
   "metadata": {
    "tags": []
   },
   "outputs": [],
   "source": [
    "# Arrange layers inside a list (elevation, LST and land cover).\n",
    "ee_tiles = [srtm, landcover]\n",
    "\n",
    "# Arrange visualization paramaters inside a list\n",
    "ee_vis_params = [elv_vis_params, lc_vis_params]\n",
    "\n",
    "# Arrange layer names inside a list.\n",
    "ee_tiles_names = ['Elevation', 'Land Cover']"
   ]
  },
  {
   "cell_type": "code",
   "execution_count": null,
   "id": "af90c637-1b64-42f1-902d-737c673b30db",
   "metadata": {
    "tags": []
   },
   "outputs": [],
   "source": [
    "'''"
   ]
  },
  {
   "cell_type": "code",
   "execution_count": null,
   "id": "4cea3cba-7318-4198-b3d1-166ce1fd5ca4",
   "metadata": {
    "tags": []
   },
   "outputs": [],
   "source": [
    "Map = folium.Map(location=[-13.8, 48.3], tiles='OpenStreetMap', zoom_start=8)\n",
    "\n",
    "# Add Layers to the map using a loop.\n",
    "for tile, vis_param, name in zip(ee_tiles, ee_vis_params, ee_tiles_names):\n",
    "    Map.add_ee_layer(tile, vis_param, name)\n",
    "\n",
    "folium.LayerControl(collapsed = False).add_to(Map)\n",
    "Map"
   ]
  },
  {
   "cell_type": "code",
   "execution_count": null,
   "id": "69b70990-83f5-4468-9b30-3a9861d365d3",
   "metadata": {},
   "outputs": [],
   "source": [
    "# display(Map)"
   ]
  }
 ],
 "metadata": {
  "kernelspec": {
   "display_name": "Python 3 (ipykernel)",
   "language": "python",
   "name": "python3"
  },
  "language_info": {
   "codemirror_mode": {
    "name": "ipython",
    "version": 3
   },
   "file_extension": ".py",
   "mimetype": "text/x-python",
   "name": "python",
   "nbconvert_exporter": "python",
   "pygments_lexer": "ipython3",
   "version": "3.9.7"
  }
 },
 "nbformat": 4,
 "nbformat_minor": 5
}
