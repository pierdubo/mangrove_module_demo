{
 "cells": [
  {
   "cell_type": "markdown",
   "metadata": {},
   "source": [
    "# ccdc_year_stack.ipynb\n",
    "#### Dave McCaffrey — Jan 31, 2021\n",
    "\n",
    "This script reformats the output of the Google Earth Enigne implementation of the CCDC temporal change detection algorithm. The GEE CCDC scripts outputs a mutli-band raster containing temporal breaks for each pixel. A given pixel may have several breaks in a timeseries, so band 1 equals the first disturbance, band 2 is the second...  \n",
    "\n",
    "This script reformats the multi-band tBreak output from GEE and creates a multi-band geotiff wherein each band shows all disturbances within a given calendar year. For an example landsat timeseries, band 1 = all distrubances in 1985, band 2 = 1986...\n",
    "\n",
    "Date values are stored as fractions of a year. In 2021, July 1st is the 182nd day of the year. 182 /365 = 0.4986... thus a change registered on July 1, 2021 would be stored as 2021.4986 . I am unsure if the CCDC output accounts for leap years. Due to the initialization period for the CCDC having different outlier removal among pixels, these dates should be considered and approximation, and not exact. Temporal edge effects suggest that the first and last year in the timeseries should be omitted from analysis. \n",
    "\n",
    "Only the max date value in a given year is stored, however there should not be multiple disturbances in a calendar year. Each initialization period requires a 12 image series, and each disturbance requires 6 consectuive anomalous images. 18 images x 16 revisit = 288 days. The only way to get 2 disturbances in the same calendar year is if they both happen in snowy months... so these should not be considered valid disturbances. \n",
    "\n",
    "The output 'year stack' is formated to the same resoltuion, extent, and projection as the CCDC file input. \n",
    "\n",
    "Both the input and output filepath must be manually specified. "
   ]
  },
  {
   "cell_type": "code",
   "execution_count": 3,
   "metadata": {},
   "outputs": [],
   "source": [
    "import numpy as np \n",
    "# import gdal\n",
    "# import osr\n",
    "from osgeo import gdal\n",
    "from osgeo import osr"
   ]
  },
  {
   "cell_type": "code",
   "execution_count": 2,
   "metadata": {},
   "outputs": [],
   "source": []
  },
  {
   "cell_type": "markdown",
   "metadata": {},
   "source": [
    "### Enter filepath to GEE CCDC break file"
   ]
  },
  {
   "cell_type": "code",
   "execution_count": 4,
   "metadata": {},
   "outputs": [],
   "source": [
    "file = r\"C:\\Users\\owner\\Dropbox\\lc_contract\\Data\\CCDC\\ls58_allbands_20210329\\seven_band_tBreak (34).tif\" # output from GEE CCDC \n",
    "\n",
    "ds = gdal.Open(file)\n",
    "arr = ds.ReadAsArray()"
   ]
  },
  {
   "cell_type": "code",
   "execution_count": 5,
   "metadata": {},
   "outputs": [],
   "source": [
    "# apply probability treshold\n",
    "prob_file = r\"C:\\Users\\owner\\Dropbox\\lc_contract\\Data\\CCDC\\ls58_allbands_20210329\\seven_band_changeProb (23).tif\"\n",
    "data = gdal.Open(prob_file)\n",
    "arr2 = data.ReadAsArray()\n",
    "arr3 = np.where(arr2 < 0.5, 0, 1)\n",
    "arr = arr * arr3"
   ]
  },
  {
   "cell_type": "code",
   "execution_count": 6,
   "metadata": {},
   "outputs": [],
   "source": [
    "# make destination \n",
    "out_path = r\"C:\\Users\\owner\\Dropbox\\lc_contract\\Data\\CCDC\\ls58_allbands_20210329\\tbreak_prob_mask.tif\"\n",
    "\n",
    "dst_ds = gdal.GetDriverByName('GTiff').Create(out_path, \n",
    "                                              arr.shape[2], \n",
    "                                              arr.shape[1], \n",
    "                                              arr.shape[0], \n",
    "                                              gdal.GDT_Float32)\n",
    "\n",
    "# get ans set geotransform\n",
    "geo_trans = ds.GetGeoTransform() #from ds in cell 2 \n",
    "dst_ds.SetGeoTransform(geo_trans)\n",
    "\n",
    "# get and set ESPG \n",
    "proj = osr.SpatialReference(wkt=ds.GetProjection()) #from ds in cell 2 \n",
    "srs = osr.SpatialReference()            \n",
    "srs.ImportFromEPSG(int(proj.GetAttrValue('AUTHORITY',1))) # ESPG from proj \n",
    "dst_ds.SetProjection(srs.ExportToWkt()) \n",
    "\n",
    "# loop through array, new band for each year in stack \n",
    "for i in np.arange(1,arr.shape[0]+1):\n",
    "    dst_ds.GetRasterBand(int(i)).WriteArray(arr[i-1])  \n",
    "    \n",
    "# write to disk\n",
    "dst_ds.FlushCache()                     \n",
    "dst_ds = None"
   ]
  },
  {
   "cell_type": "markdown",
   "metadata": {},
   "source": [
    "This cell calculates the min and max disturbance year and creates an array of all years between, inclusive of the start and stop year."
   ]
  },
  {
   "cell_type": "code",
   "execution_count": 7,
   "metadata": {},
   "outputs": [],
   "source": [
    "year_series = np.arange(np.floor(np.nanmin(arr[np.nonzero(arr)])), np.floor(np.nanmax(arr[np.nonzero(arr)])) + 1 ).astype(int).tolist()"
   ]
  },
  {
   "cell_type": "markdown",
   "metadata": {},
   "source": [
    "This cell iterates through the years, masks invalid data in the tbreak array, removes all values less than the target year and greater than or equal to the target year plus one, then collapses all values in the year range into a single 2d array, stored in a list. The list of 2d arrays is stacked to make a 3d array. "
   ]
  },
  {
   "cell_type": "code",
   "execution_count": 8,
   "metadata": {},
   "outputs": [],
   "source": [
    "array_list = []\n",
    "\n",
    "for year in year_series:\n",
    "    \n",
    "    arr_valid = np.ma.masked_invalid(arr)\n",
    "       \n",
    "    arr_lt = np.ma.masked_where(arr_valid < year, arr_valid) \n",
    "    arr_gte = np.ma.masked_where(arr_lt >= year+1, arr_lt)\n",
    "    arr_max = arr_gte.max(axis=0)\n",
    "    \n",
    "    array_list.append(arr_max.filled(fill_value = 0.0)) \n",
    "\n",
    "array_3d = np.stack(array_list, axis=0)   "
   ]
  },
  {
   "cell_type": "markdown",
   "metadata": {},
   "source": [
    "### Enter Output filepath\n",
    "\n",
    "The geotiff parameters are copied from the input image, and the 3d array is stored in the new geotiff and exported. "
   ]
  },
  {
   "cell_type": "code",
   "execution_count": 9,
   "metadata": {},
   "outputs": [],
   "source": [
    "# make destination \n",
    "out_path =  r\"C:\\Users\\owner\\Dropbox\\lc_contract\\Data\\CCDC\\ls58_allbands_20210329\\year_prob_stack.tif\"\n",
    "\n",
    "dst_ds = gdal.GetDriverByName('GTiff').Create(out_path, \n",
    "                                              array_3d.shape[2], \n",
    "                                              array_3d.shape[1], \n",
    "                                              array_3d.shape[0], \n",
    "                                              gdal.GDT_Float32)\n",
    "\n",
    "# get ans set geotransform\n",
    "geo_trans = ds.GetGeoTransform() #from ds in cell 2 \n",
    "dst_ds.SetGeoTransform(geo_trans)\n",
    "\n",
    "# get and set ESPG \n",
    "proj = osr.SpatialReference(wkt=ds.GetProjection()) #from ds in cell 2 \n",
    "srs = osr.SpatialReference()            \n",
    "srs.ImportFromEPSG(int(proj.GetAttrValue('AUTHORITY',1))) # ESPG from proj \n",
    "dst_ds.SetProjection(srs.ExportToWkt()) \n",
    "\n",
    "# loop through array, new band for each year in stack \n",
    "for i in np.arange(1,array_3d.shape[0]+1):\n",
    "    dst_ds.GetRasterBand(int(i)).WriteArray(array_3d[i-1])  \n",
    "    \n",
    "# write to disk\n",
    "dst_ds.FlushCache()                     \n",
    "dst_ds = None"
   ]
  }
 ],
 "metadata": {
  "kernelspec": {
   "display_name": "Python 3 (ipykernel)",
   "language": "python",
   "name": "python3"
  },
  "language_info": {
   "codemirror_mode": {
    "name": "ipython",
    "version": 3
   },
   "file_extension": ".py",
   "mimetype": "text/x-python",
   "name": "python",
   "nbconvert_exporter": "python",
   "pygments_lexer": "ipython3",
   "version": "3.9.7"
  }
 },
 "nbformat": 4,
 "nbformat_minor": 4
}
