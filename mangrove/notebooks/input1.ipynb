{
 "cells": [
  {
   "cell_type": "markdown",
   "id": "aaf7afac-5b89-488e-bb10-0d3d0cb3253d",
   "metadata": {},
   "source": [
    "# Landsat Collection and ...\n",
    "#### Description of content here:"
   ]
  },
  {
   "cell_type": "markdown",
   "id": "dd53b0af-aac3-45ee-9e60-d18e3b24ff71",
   "metadata": {
    "tags": []
   },
   "source": [
    "### Intro Section"
   ]
  },
  {
   "cell_type": "code",
   "execution_count": null,
   "id": "da571cc7-6894-4351-9a43-f722e3becd9d",
   "metadata": {},
   "outputs": [],
   "source": [
    "import os\n",
    "import ee\n",
    "import folium"
   ]
  },
  {
   "cell_type": "code",
   "execution_count": null,
   "id": "9ad933f5-7fbe-45f5-be1f-5b1e6a94ee57",
   "metadata": {},
   "outputs": [],
   "source": [
    "ee.Initialize()"
   ]
  },
  {
   "cell_type": "code",
   "execution_count": null,
   "id": "9b86ec20-f098-4328-9478-10f4750b81ec",
   "metadata": {},
   "outputs": [],
   "source": [
    "import geemap"
   ]
  },
  {
   "cell_type": "code",
   "execution_count": null,
   "id": "a34a865d-81b7-49a6-99d9-ee4a1ed697c7",
   "metadata": {},
   "outputs": [],
   "source": [
    "start = ee.Date.fromYMD(2021,1,1)\n",
    "end = ee.Date.fromYMD(2022,1,1)"
   ]
  },
  {
   "cell_type": "code",
   "execution_count": null,
   "id": "f8ee4455-3259-41b1-88a5-65efd3351107",
   "metadata": {},
   "outputs": [],
   "source": [
    "iDate = '2021-01-01'\n",
    "fDate = '2022-01-01'"
   ]
  },
  {
   "cell_type": "code",
   "execution_count": 5,
   "id": "6c7b3f46-b3f5-447c-90b8-7250530d160b",
   "metadata": {},
   "outputs": [],
   "source": [
    "nw_2box = ee.FeatureCollection('projects/ee-pierdubo/assets/nw_2box')"
   ]
  },
  {
   "cell_type": "code",
   "execution_count": 6,
   "id": "325ccb05-8b05-4d61-bd80-161a6f088389",
   "metadata": {},
   "outputs": [],
   "source": [
    "gmw16z = ee.FeatureCollection(\"projects/ee-pierdubo/assets/gmw_2016_diss_zones\")\n",
    "zone = 20\n",
    "pxlval = 23\n",
    "gmw_sel = (gmw16z\n",
    "           .filter(ee.Filter.And(\n",
    "               ee.Filter.eq('pxlval', pxlval),\n",
    "               ee.Filter.gte('area_ha', 0)\n",
    "           )))"
   ]
  },
  {
   "cell_type": "code",
   "execution_count": 7,
   "id": "674d3df4-265c-4f3e-9a5e-f30d4f898502",
   "metadata": {},
   "outputs": [],
   "source": [
    "nw1 = (nw_2box\n",
    "       .filter(ee.Filter.eq('sel', 1)))"
   ]
  },
  {
   "cell_type": "code",
   "execution_count": 8,
   "id": "822e5e26-06bf-4be7-8855-6a388a233b3d",
   "metadata": {},
   "outputs": [],
   "source": [
    "# AOI for NWestern area, using a polyline\n",
    "aoi = ee.Geometry.LineString(\n",
    "    [[49.09178474992574, -11.924273142945154],\n",
    "     [48.66331795305074, -13.275179628809104],\n",
    "     [47.818428215464124, -14.41247011042455],\n",
    "     [48.179964869881715, -14.846057452723358],\n",
    "     [48.08998151060017, -15.275048458710872],\n",
    "     [47.753046040851736, -14.483073303752759],\n",
    "     [46.60887459367574, -15.668473695347696],\n",
    "     [44.40062264055074, -16.196686141581498]])"
   ]
  },
  {
   "cell_type": "code",
   "execution_count": null,
   "id": "7f3b22f6-2456-4969-b40b-49582f440672",
   "metadata": {},
   "outputs": [],
   "source": [
    "geom = ee.Geometry(nw1)"
   ]
  },
  {
   "cell_type": "code",
   "execution_count": null,
   "id": "eae52f68-507b-4ccc-bf97-686a2f3cbfa6",
   "metadata": {},
   "outputs": [],
   "source": [
    "geom = aoi"
   ]
  },
  {
   "cell_type": "code",
   "execution_count": 9,
   "id": "d2bf933a-2a44-401c-9089-1ef29d67b29c",
   "metadata": {},
   "outputs": [],
   "source": [
    "geom = ee.Geometry.Rectangle([[48.4684, -12.6752], [48.9465, -13.6273]])"
   ]
  },
  {
   "cell_type": "markdown",
   "id": "a127e7c1-210b-49e8-8a37-e8f540f492f6",
   "metadata": {
    "tags": []
   },
   "source": [
    "### Add Earth Engine dataset"
   ]
  },
  {
   "cell_type": "raw",
   "id": "9d7c2a62-f92e-4d14-bfe7-8e5d18dd63c5",
   "metadata": {},
   "source": [
    "countries = ee.FeatureCollection(\"USDOS/LSIB/2013\")\n",
    "lsib = ee.FeatureCollection(\"USDOS/LSIB_SIMPLE/2017\")"
   ]
  },
  {
   "cell_type": "raw",
   "id": "d538eded-d594-4ae3-9800-58fb0ac8755c",
   "metadata": {},
   "source": [
    "S1_coll = ee.ImageCollection(\"COPERNICUS/S1_GRD\")\n",
    "L8_coll = ee.ImageCollection(\"LANDSAT/LC08/C01/T1_SR\")\n",
    "L5_coll = ee.ImageCollection(\"LANDSAT/LT05/C01/T1_SR\")\n",
    "L4_coll = ee.ImageCollection(\"LANDSAT/LT04/C01/T1_SR\")\n",
    "# landsat7 = ee.Image('LE7_TOA_5YEAR/1999_2003')"
   ]
  },
  {
   "cell_type": "code",
   "execution_count": null,
   "id": "7e64e339-9586-4603-9d0e-382200b8cc8e",
   "metadata": {},
   "outputs": [],
   "source": [
    "PALSAR_2020 = ee.Image(\"JAXA/ALOS/PALSAR/YEARLY/SAR/2020\")"
   ]
  },
  {
   "cell_type": "code",
   "execution_count": null,
   "id": "93b1ea02-38d6-48c3-b185-d2ab8ebf1a87",
   "metadata": {
    "tags": []
   },
   "outputs": [],
   "source": [
    "jers_nw_mos = ee.Image(\"projects/ee-pierdubo/assets/Jers_madag_NW_mos\")"
   ]
  },
  {
   "cell_type": "code",
   "execution_count": null,
   "id": "a1e585c1-af9e-4d63-a9d7-6abbf3a62472",
   "metadata": {},
   "outputs": [],
   "source": [
    "srtm = ee.Image(\"USGS/SRTMGL1_003\")\n",
    "srtm1 = ee.Image(\"NASA/NASADEM_HGT/001\")\n",
    "jrcImage = ee.Image(\"JRC/GSW1_2/GlobalSurfaceWater\")\n",
    "lc_esa = ee.Image(\"ESA/GLOBCOVER_L4_200901_200912_V2_3\").select('landcover')"
   ]
  },
  {
   "cell_type": "code",
   "execution_count": null,
   "id": "d47082b6-7059-44ab-b2da-53ee0b1fe5d7",
   "metadata": {
    "tags": []
   },
   "outputs": [],
   "source": [
    "gmw1996 = ee.FeatureCollection(\"projects/ee-pierdubo/assets/GMW_001_GlobalMangroveWatch_1996\")\n",
    "Mangr = ee.FeatureCollection(\"projects/ee-pierdubo/assets/gmw2016_sel1\")"
   ]
  },
  {
   "cell_type": "code",
   "execution_count": null,
   "id": "3eb67ba9-8c6a-48e3-884a-583391d230f1",
   "metadata": {},
   "outputs": [],
   "source": []
  },
  {
   "cell_type": "markdown",
   "id": "7c6c6540-351d-4544-8f83-8ecea0286a37",
   "metadata": {
    "tags": []
   },
   "source": [
    "### Visualisations Stuff"
   ]
  },
  {
   "cell_type": "code",
   "execution_count": null,
   "id": "72078d50-ffea-405a-b7e0-cb83988d7f76",
   "metadata": {},
   "outputs": [],
   "source": [
    "# Set visualization parameters for NDVI\n",
    "ndvi_vis_params = {\n",
    "    'min': -0.1, 'max': 1,\n",
    "    'palette': ['04fffe','CE7E45','DF923D','F1B555','FCD163','99B718','74A901','66A000',\n",
    "                '529400','3E8601','207401','056201','004C00','023B01','012E01','011D01','011301']    \n",
    "}"
   ]
  },
  {
   "cell_type": "code",
   "execution_count": null,
   "id": "435f739a-3203-4ff8-b6d7-14edebfe4f1d",
   "metadata": {},
   "outputs": [],
   "source": [
    "# Set visualization parameters for MVI\n",
    "mvi_vis_params = {\n",
    "    'min': -1, 'max': 10,\n",
    "    'palette': ['04fffe','CE7E45','DF923D','F1B555','FCD163','99B718','74A901','66A000',\n",
    "                '529400','3E8601','207401','056201','004C00','023B01','012E01','011D01','011301']    \n",
    "}"
   ]
  },
  {
   "cell_type": "code",
   "execution_count": null,
   "id": "63f070f9-4b5a-4ed6-be04-be0e435ecb5c",
   "metadata": {
    "tags": []
   },
   "outputs": [],
   "source": [
    "# Set visualization parameters for land cover.\n",
    "lcEsa_vis_params = {\n",
    "    'min':11, 'max': 230,\n",
    "    'palette': ['aaefef','ffff63','dcef63','cdcd64','006300','009f00','aac700','003b00','286300',\n",
    "                '788300','8d9f00','bd9500','956300','ffb431','ffebae','00785a','009578','00dc83',\n",
    "                'c31300','fff5d6','0046c7','ffffff','743411']\n",
    "}"
   ]
  },
  {
   "cell_type": "code",
   "execution_count": null,
   "id": "44ecca82-62f7-4212-bef9-37ec35af4427",
   "metadata": {},
   "outputs": [],
   "source": [
    "# Set visualization parameters for ground elevation.\n",
    "elv_vis_params = {\n",
    "    'min': 0, 'max': 4000,\n",
    "    'palette': ['006633', 'E5FFCC', '662A00', 'D8D8D8', 'F5F5F5']\n",
    "}"
   ]
  },
  {
   "cell_type": "code",
   "execution_count": null,
   "id": "2d24c802-4a01-43b6-8dc1-93fe8fd5a4e1",
   "metadata": {},
   "outputs": [],
   "source": [
    "# Set visualization parameters for anything with a lot of classes\n",
    "idx_vis_params = {\n",
    "    'min':-1, 'max': 1,\n",
    "    'palette':[\"ffffff\",\"e2e097\",\"dfe22f\",\"fff705\",\"ffd611\",\"ffb613\",\"ff8b13\",\"ff6e08\",\"ff500d\",\"ff0000\",\"de0101\",\n",
    "               \"c21301\",\"0602ff\",\"235cb1\",\"307ef3\",\"269db1\",\"30c8e2\",\"32d3ef\",\"3be285\",\"3ff38f\",\"86e26f\"]\n",
    "}"
   ]
  },
  {
   "cell_type": "markdown",
   "id": "40eb39d1-b8a2-425e-a565-fd70762b1f5c",
   "metadata": {
    "tags": []
   },
   "source": [
    "### Cloud Masking Various Stuff"
   ]
  },
  {
   "cell_type": "code",
   "execution_count": 12,
   "id": "c758b595-cc29-4a53-8a92-bdd935b07e42",
   "metadata": {},
   "outputs": [],
   "source": [
    "def maskL8sr(image):\n",
    "    cloudShadowBitMask = 1 << 3    \n",
    "    cloudsBitMask = 1 << 5 \n",
    "    qa = image.select('pixel_qa')\n",
    "    mask = qa.bitwiseAnd(cloudShadowBitMask).eq(0) \\\n",
    "    .And(qa.bitwiseAnd(cloudsBitMask).eq(0))  \n",
    "    return image.updateMask(mask).divide(10000) \\\n",
    "    .select(\"B[0-9]*\") \\\n",
    "    .copyProperties(image, [\"system:time_start\"])"
   ]
  },
  {
   "cell_type": "code",
   "execution_count": null,
   "id": "f8f0f7ae-446f-4dca-96ee-1c4e523f3de8",
   "metadata": {},
   "outputs": [],
   "source": [
    "# Alternate vers. for cloud masking Landsat 8 imagery (source: ccdc Parevalo)\n",
    "def maskClouds(image):\n",
    "    quality = image.select('BQA')\n",
    "    cloud01 = quality.eq(61440)\n",
    "    cloud02 = quality.eq(53248)\n",
    "    cloud03 = quality.eq(28672)\n",
    "    mask = cloud01.Or(cloud02).Or(cloud03).Not()\n",
    "    return image.updateMask(mask)"
   ]
  },
  {
   "cell_type": "code",
   "execution_count": null,
   "id": "4add6e1e-35d1-4776-a514-ed1ab9fb06cd",
   "metadata": {},
   "outputs": [],
   "source": [
    "# Function to cloud mask from the QA60 (Sentinel-2) and from the pixel_qa band of Landsat 8 SR data\n",
    "def maskS2clouds(image):\n",
    "    QA60 = image.select(['QA60'])\n",
    "    clouds = QA60.bitwiseAnd(1 << 10).Or(QA60.bitwiseAnd(1 << 11))\n",
    "    return image.updateMask(clouds.Not())"
   ]
  },
  {
   "cell_type": "markdown",
   "id": "381c779e-db36-49e7-98d1-e28f8113bec7",
   "metadata": {
    "tags": []
   },
   "source": [
    "### Prepare Landsat 4 to 8, and maybe 9"
   ]
  },
  {
   "cell_type": "code",
   "execution_count": 13,
   "id": "e0afba69-8500-4864-903a-8aa92aebacd3",
   "metadata": {
    "tags": []
   },
   "outputs": [],
   "source": [
    "# Prepare Landsat 8 with strict filtering of noisy pixels\n",
    "# @param {ee.Image} image, (e.g.) Landsat SR image with pixel_qa band\n",
    "# @returns {ee.Image} Landsat image with masked noisy pixels\n",
    "#\n",
    "def prepareL8(image):\n",
    "    bandList = ['B2', 'B3', 'B4', 'B5', 'B6', 'B7', 'B10']\n",
    "    nameList = ['BLUE', 'GREEN', 'RED', 'NIR', 'SWIR1', 'SWIR2', 'TEMP']\n",
    "    scaling = [10000, 10000, 10000, 10000, 10000, 10000, 1000]\n",
    "    validTOA = [66, 68, 72, 80, 96, 100, 130, 132, 136, 144, 160, 164]\n",
    "    validQA = [322, 386, 324, 388, 836, 900]\n",
    "    scaled = ee.Image(image).select(bandList).rename(nameList).divide(ee.Image.constant(scaling))\n",
    "    mask1 = ee.Image(image).select(['pixel_qa']).remap(validQA, ee.List.repeat(1, len(validQA)), 0) # validQA.length\n",
    "    mask2 = image.select('radsat_qa').eq(0)\n",
    "    mask3 = image.select(bandList).reduce(ee.Reducer.min()).gt(0)\n",
    "    mask4 = ee.Image(image).select(['sr_aerosol']).remap(validTOA, ee.List.repeat(1, len(validTOA)), 0) # validTOA.length\n",
    "    return ee.Image(image).addBands(scaled).updateMask(mask1.And(mask2).And(mask3).And(mask4))\n",
    "\n",
    "# Prepare Landsat 7 with strict filtering of noisy pixels\n",
    "# @param {ee.Image} image Landsat SR image with pixel_qa band\n",
    "# @returns {ee.Image} Landsat image with masked noisy pixels\n",
    "#\n",
    "def prepareL7(image):\n",
    "    bandList = ['B1', 'B2','B3','B4','B5','B7','B6']\n",
    "    nameList = ['BLUE', 'GREEN', 'RED', 'NIR', 'SWIR1', 'SWIR2', 'TEMP']\n",
    "    scaling = [10000, 10000, 10000, 10000, 10000, 10000, 1000]\n",
    "    scaled = ee.Image(image).select(bandList).rename(nameList).divide(ee.Image.constant(scaling))\n",
    "    validQA = [66, 130, 68, 132]\n",
    "    mask1 = ee.Image(image).select(['pixel_qa']).remap(validQA, ee.List.repeat(1, len(validQA)), 0) # validQA.length\n",
    "    # Gat valid data mask, for pixels without band saturation\n",
    "    mask2 = image.select('radsat_qa').eq(0)\n",
    "    mask3 = image.select(bandList).reduce(ee.Reducer.min()).gt(0)\n",
    "    # Mask hazy pixels. Aggressively filters too many images in arid regions (e.g Egypt)\n",
    "    # unless we force include 'nodata' values by unmasking\n",
    "    mask4 = image.select(\"sr_atmos_opacity\").unmask().lt(300)\n",
    "    # Slightly erode bands to get rid of artifacts due to scan lines\n",
    "    mask5 = ee.Image(image).mask().reduce(ee.Reducer.min()).focal_min(2.5)\n",
    "    return ee.Image(image).addBands(scaled).updateMask(mask1.And(mask2).And(mask3).And(mask4).And(mask5))\n",
    "\n",
    "# Prepare Landsat 4 and 5 with strict filtering of noisy pixels\n",
    "# @param {ee.Image} image Landsat SR image with pixel_qa band\n",
    "# @returns {ee.Image} Landsat image with masked noisy pixels\n",
    "#\n",
    "def prepareL4L5(image):\n",
    "    bandList = ['B1', 'B2','B3','B4','B5','B7','B6']\n",
    "    nameList = ['BLUE', 'GREEN', 'RED', 'NIR', 'SWIR1', 'SWIR2', 'TEMP']\n",
    "    scaling = [10000, 10000, 10000, 10000, 10000, 10000, 1000]\n",
    "    scaled = ee.Image(image).select(bandList).rename(nameList).divide(ee.Image.constant(scaling))\n",
    "    validQA = [66, 130, 68, 132]\n",
    "    mask1 = ee.Image(image).select(['pixel_qa']).remap(validQA, ee.List.repeat(1, len(validQA)), 0) #\n",
    "  # Gat valid data mask, for pixels without band saturation\n",
    "    mask2 = image.select('radsat_qa').eq(0)\n",
    "    mask3 = image.select(bandList).reduce(ee.Reducer.min()).gt(0)\n",
    "  # Mask hazy pixels. Aggressively filters too many images in arid regions (e.g Egypt)\n",
    "  # unless we force include 'nodata' values by unmasking\n",
    "    mask4 = image.select(\"sr_atmos_opacity\").unmask().lt(300)\n",
    "    return ee.Image(image).addBands(scaled).updateMask(mask1.And(mask2).And(mask3).And(mask4))\n",
    "\n",
    "# Prepare Collection 2 Landsat 4, 5, and 7 with strict filtering of noisy pixels\n",
    "# @param {ee.Image} image Landsat SR image with pixel_qa band\n",
    "# @returns {ee.Image} Landsat image with masked noisy pixels\n",
    "#\n",
    "def prepareL4L5L7Col2(image):\n",
    "    bandList = ['SR_B1','SR_B2','SR_B3','SR_B4','SR_B5','SR_B7','ST_B6']\n",
    "    nameList = ['BLUE', 'GREEN', 'RED', 'NIR', 'SWIR1', 'SWIR2', 'TEMP']\n",
    "    subBand = ['BLUE', 'GREEN', 'RED', 'NIR', 'SWIR1', 'SWIR2']\n",
    "    \n",
    "    opticalBands = image.select('SR_B.').multiply(0.0000275).add(-0.2);\n",
    "    thermalBand = image.select('ST_B6').multiply(0.00341802).add(149.0);\n",
    "    scaled = opticalBands.addBands(thermalBand, None, True).select(bandList).rename(nameList);\n",
    "    validQA = [5440, 5504]  # 5442，5506\n",
    "    mask1 = ee.Image(image).select(['QA_PIXEL']).remap(validQA, ee.List.repeat(1, len(validQA)), 0)\n",
    "    # Gat valid data mask, for pixels without band saturation\n",
    "    mask2 = image.select('QA_RADSAT').eq(0)\n",
    "    mask3 = scaled.select(subBand).reduce(ee.Reducer.min()).gt(0)\n",
    "    mask4 = scaled.select(subBand).reduce(ee.Reducer.max()).lt(1)\n",
    "    # Mask hazy pixels using AOD threshold\n",
    "    mask5 = (image.select(\"SR_ATMOS_OPACITY\").unmask(-1)).lt(300)\n",
    "    return ee.Image(image).addBands(scaled).updateMask(mask1.And(mask2).And(mask3).And(mask4).And(mask5))\n",
    "\n",
    "# Prepare Collection 2 Landsat 8 with strict filtering of noisy pixels\n",
    "# @param {ee.Image} image Landsat SR image with pixel_qa band\n",
    "# @param {Boolean} switch between with/without mask\n",
    "# @returns {ee.Image} Landsat image with masked noisy pixels\n",
    "#\n",
    "def prepareL8Col2(image):\n",
    "    bandList = ['SR_B2', 'SR_B3', 'SR_B4', 'SR_B5', 'SR_B6', 'SR_B7', 'ST_B10']\n",
    "    nameList = ['BLUE', 'GREEN', 'RED', 'NIR', 'SWIR1', 'SWIR2', 'TEMP']\n",
    "    subBand = ['BLUE', 'GREEN', 'RED', 'NIR', 'SWIR1', 'SWIR2']\n",
    "    opticalBands = image.select('SR_B.').multiply(0.0000275).add(-0.2)\n",
    "    thermalBand = image.select('ST_B10').multiply(0.00341802).add(149.0)\n",
    "    scaled = opticalBands.addBands(thermalBand, None, True).select(bandList).rename(nameList)\n",
    "    validTOA = [2, 4, 32, 66, 68, 96, 100, 130, 132, 160, 164]\n",
    "    validQA = [21824, 21888] # 21826, 21890\n",
    "    mask1 = ee.Image(image).select(['QA_PIXEL']).remap(validQA, ee.List.repeat(1, len(validQA)), 0)\n",
    "    mask2 = image.select('QA_RADSAT').eq(0)\n",
    "  # Assume that all saturated pixels equal to 20000\n",
    "    mask3 = scaled.select(subBand).reduce(ee.Reducer.min()).gt(0)\n",
    "    mask4 = scaled.select(subBand).reduce(ee.Reducer.max()).lt(1)\n",
    "    mask5 = ee.Image(image).select(['SR_QA_AEROSOL']).remap(validTOA, ee.List.repeat(1, len(validTOA)), 0)\n",
    "    return ee.Image(image).addBands(scaled).updateMask(mask1.And(mask2).And(mask3).And(mask4).And(mask5))    "
   ]
  },
  {
   "cell_type": "markdown",
   "id": "328c5422-c175-4a8d-8ced-7ee18c251155",
   "metadata": {
    "jp-MarkdownHeadingCollapsed": true,
    "tags": []
   },
   "source": [
    "### Calculate / Add Indices individually (same as in 'indices1.ipynb')"
   ]
  },
  {
   "cell_type": "markdown",
   "id": "b1474919-50bb-40f1-8a18-df4aff348c2a",
   "metadata": {},
   "source": [
    "Images need to be 'prepared' first, which consists of renaming bands to standardardized versions"
   ]
  },
  {
   "cell_type": "code",
   "execution_count": null,
   "id": "f5533732-4dad-4881-b042-4122e8990c6c",
   "metadata": {
    "tags": []
   },
   "outputs": [],
   "source": [
    "# 1. Calculate/addBands NDVI for an image\n",
    "# @param {ee.Image} image,  e.g., Landsat image with NIR and RED bands\n",
    "# @returns {ee.Image} NDVI image\n",
    "#\n",
    "def calcNDVI(image):\n",
    "    ndvi = ee.Image(image).normalizedDifference(['NIR','RED']).rename('NDVI')\n",
    "    return ndvi\n",
    "\n",
    "def addNDVI(image):\n",
    "    ndvi = ee.Image(image).normalizedDifference(['NIR','RED']).float().rename('NDVI')\n",
    "    return image.addBands(ndvi)"
   ]
  },
  {
   "cell_type": "code",
   "execution_count": null,
   "id": "1e949ad5-907d-4a9a-9898-6ff94cdc253a",
   "metadata": {},
   "outputs": [],
   "source": [
    "# 2. Calculate 'Green' NDVI for an image\n",
    "# @param {ee.Image} image,  e.g., Landsat image with NIR and RED bands\n",
    "# @returns {ee.Image} GNDVI image\n",
    "#\n",
    "def addGNDVI(image):\n",
    "    gndvi = ee.Image(image).normalizedDifference(['NIR','GREEN']).float()\n",
    "    return image.addBands(gndvi.rename('gNDVI'))"
   ]
  },
  {
   "cell_type": "code",
   "execution_count": null,
   "id": "bbe15a52-84ae-4cb1-9793-40b96e5efbed",
   "metadata": {},
   "outputs": [],
   "source": [
    "# 3. Calculate Standard Deviation of NDVI values over an image collection\n",
    "#\n",
    "def addNDVIsd(image):\n",
    "    ndviStd = ee.ImageCollection(image).select('NDVI').reduce(ee.Reducer.stdDev())\n",
    "    # reducer = ee.Reducer.stdDev()\n",
    "    # ndviStd = ndvi.reduce(ee.Reducer.median())\n",
    "    # return image.addBands(ndviStd.rename('ndviSD'))\n",
    "    return ndviStd.rename('ndviSD')"
   ]
  },
  {
   "cell_type": "code",
   "execution_count": null,
   "id": "f1d5e7ad-cbd6-4ba5-9185-8533a684855d",
   "metadata": {},
   "outputs": [],
   "source": [
    "# 'addNDVIsd' needs some finessing (??); here, we run the 'reducer' directly on the LsColl:\n",
    "ndviSD = lsColl.select('NDVI').reduce(ee.Reducer.stdDev())"
   ]
  },
  {
   "cell_type": "code",
   "execution_count": null,
   "id": "a86d3156-c190-4e5b-b145-6762eacced0c",
   "metadata": {
    "tags": []
   },
   "outputs": [],
   "source": [
    "# 4. Calculate NBR for an image\n",
    "# @param {ee.Image} image  Landsat image with NIR and SWIR2 bands\n",
    "# @returns {ee.Image} NBR image\n",
    "#\n",
    "def calcNBR(image):\n",
    "    nbr = ee.Image(image).normalizedDifference(['NIR', 'SWIR2']).rename('NBR')\n",
    "    return nbr"
   ]
  },
  {
   "cell_type": "code",
   "execution_count": null,
   "id": "99117bd5-0698-4847-95e6-70273c036f38",
   "metadata": {
    "tags": []
   },
   "outputs": [],
   "source": [
    "# 5. Calculate EVI for an image\n",
    "# @param {ee.Image} image Landsat image with NIR, RED, and BLUE bands\n",
    "# @returns {ee.Image} EVI transform\n",
    "#\n",
    "def calcEVI(image):\n",
    "    evi = ee.Image(image).expression(\n",
    "          'float(2.5*(((B4) - (B3)) / ((B4) + (6 * (B3)) - (7.5 * (B1)) + 1)))',\n",
    "          {\n",
    "              'B4': ee.Image(image).select(['NIR']),\n",
    "              'B3': ee.Image(image).select(['RED']),\n",
    "              'B1': ee.Image(image).select(['BLUE'])\n",
    "          }).rename('EVI')\n",
    "    return evi"
   ]
  },
  {
   "cell_type": "code",
   "execution_count": null,
   "id": "3b6527b0-fdb1-4b27-bd2b-b58eee79cd80",
   "metadata": {
    "tags": []
   },
   "outputs": [],
   "source": [
    "# 6. Calculate EVI2\n",
    "#\n",
    "def calcEVI2(image):\n",
    "    evi2 = ee.Image(image).expression(\n",
    "        'float(2.5*(((B4) - (B3)) / ((B4) + (2.4 * (B3)) + 1)))',\n",
    "        {\n",
    "            'B4': image.select('NIR'),\n",
    "            'B3': image.select('RED')\n",
    "        }).rename('EVI2')\n",
    "    return evi2"
   ]
  },
  {
   "cell_type": "code",
   "execution_count": null,
   "id": "23159534-8bc6-4a28-bd46-fd6d040cbe1b",
   "metadata": {
    "tags": []
   },
   "outputs": [],
   "source": [
    "# 7. Calculate/addBands: NDMI\n",
    "#\n",
    "def addNDMI(image):\n",
    "    ndmi = ee.Image(image).normalizedDifference(['NIR', 'SWIR1']).float().rename('NDMI')\n",
    "    return image.addBands(ndmi)"
   ]
  },
  {
   "cell_type": "code",
   "execution_count": null,
   "id": "5daabf65-26a0-49f1-822a-9e065dee1aca",
   "metadata": {
    "tags": []
   },
   "outputs": [],
   "source": [
    "# 8. Calculate/addBands: NDWI\n",
    "#\n",
    "def addNDWI(image):\n",
    "    ndwi = ee.Image(image).normalizedDifference(['GREEN', 'NIR']).float().rename('NDWI')\n",
    "    return image.addBands(ndwi)"
   ]
  },
  {
   "cell_type": "code",
   "execution_count": null,
   "id": "6c764ae2-f17f-4613-8163-c7a750424766",
   "metadata": {
    "tags": []
   },
   "outputs": [],
   "source": [
    "# 9. Calculate and addBands: MNDWI\n",
    "#\n",
    "def calcMNDWI(image):\n",
    "    mndwi = ee.Image(image).normalizedDifference(['GREEN','SWIR1']).float().rename('MNDWI')\n",
    "    return mndwi\n",
    "\n",
    "def addMNDWI(image):\n",
    "    mndwi = ee.Image(image).normalizedDifference(['GREEN','SWIR1']).float().rename('MNDWI')\n",
    "    return image.addBands(mndwi)"
   ]
  },
  {
   "cell_type": "code",
   "execution_count": null,
   "id": "f8913c66-2e19-4971-8933-e51d50fb369b",
   "metadata": {},
   "outputs": [],
   "source": [
    "# 10. Calc/addBands: MVI (Mangrove Vegetation Index, see SEPAL)\n",
    "#\n",
    "def addMVI(image):\n",
    "    mvi = ee.Image(image).expression(\n",
    "        '(1.0 * (NIR - GREEN) / abs(SWIR1 - GREEN))',\n",
    "        {\n",
    "            'GREEN': image.select('GREEN'),\n",
    "            'NIR': image.select('NIR'),\n",
    "            'SWIR1': image.select('SWIR1')\n",
    "        }).float().rename('MVI')\n",
    "    return image.addBands(mvi)"
   ]
  },
  {
   "cell_type": "code",
   "execution_count": null,
   "id": "4b6737b0-a125-411d-8af2-e0b924f7e58e",
   "metadata": {
    "tags": []
   },
   "outputs": [],
   "source": [
    "# 11. Calculate/addBands: ARI2 [Sentinel-2 only]\n",
    "#\n",
    "def addARI2(image):\n",
    "    ari2 = ee.Image(image).expression(\n",
    "        '((1.0 / GREEN) - (1.0 / Redg1)) * Redg3',\n",
    "        {\n",
    "            'GREEN': image.select(['GREEN']),\n",
    "            'Redg1': image.select(['Redg1']),  # 'B5'\n",
    "            'Redg3': image.select(['Redg3'])   # 'B7'\n",
    "        }).float().rename('ARI2')\n",
    "    return image.addBands(ari2.rename('ARI2'))"
   ]
  },
  {
   "cell_type": "code",
   "execution_count": null,
   "id": "fc402f78-892f-4e7f-9146-5135bfe3fef3",
   "metadata": {},
   "outputs": [],
   "source": [
    "# 12. Calculate/addBands: ChlR [Sentinel-2 only]\n",
    "#\n",
    "def addchlR(image):\n",
    "    chlRedg = ee.Image(image).expression(\n",
    "        'pow((Redg3 / Redg1), -1.0)',\n",
    "        {\n",
    "            'Redg1': image.select(['Redg1']),\n",
    "            'Redg3': image.select(['Redg3'])\n",
    "        }).float().rename('ChlR')\n",
    "    return image.addBands(chlRedg)"
   ]
  },
  {
   "cell_type": "code",
   "execution_count": null,
   "id": "1aa9bb36-9d4a-42ea-8c8f-71d056f8abd0",
   "metadata": {},
   "outputs": [],
   "source": [
    "# 13. Calculate/addBands: SAVI\n",
    "#\n",
    "def addSAVI(image):\n",
    "    savi = ee.Image(image).expression(\n",
    "        '(NIR - RED)/ (NIR + RED + 0.428) * (1.0 + 0.428)',\n",
    "        {\n",
    "            'NIR': image.select('NIR'),\n",
    "            'RED': image.select('RED')\n",
    "        }).float().rename('SAVI')\n",
    "    return image.addBands(savi)"
   ]
  },
  {
   "cell_type": "code",
   "execution_count": null,
   "id": "20852b31-f3b5-4a5b-af20-bf3354a003db",
   "metadata": {},
   "outputs": [],
   "source": [
    "# 14. Calculate/addBands: BSI (bare soil index)\n",
    "#\n",
    "def addBSI(image):\n",
    "    bsi = ee.Image(image).expression(\n",
    "        '((SWIR1 + RED) - (NIR + BLUE)) / ((SWIR1 + RED) + (NIR + BLUE))',\n",
    "        {\n",
    "            'BLUE': image.select('BLUE'),\n",
    "            'RED': image.select('RED'),\n",
    "            'NIR': image.select('NIR'),\n",
    "            'SWIR1': image.select('SWIR1')\n",
    "        }).float().rename('BSI')\n",
    "    return image.addBands(bsi)"
   ]
  },
  {
   "cell_type": "code",
   "execution_count": null,
   "id": "30190002-0a37-4654-a01c-a6f77c57918c",
   "metadata": {},
   "outputs": [],
   "source": [
    "# 15. Calculate/addBands: IBI (index-based built-up index)\n",
    "# \n",
    "def addIBI(image):\n",
    "    ibiA = ee.Image(image).expression('2 * SWIR1 / (SWIR1 + NIR)',\n",
    "                                      {\n",
    "                                          'SWIR1': image.select('SWIR1'), # S2: 'B11'\n",
    "                                          'NIR': image.select('NIR'), # S2: 'B8'\n",
    "                                      }).rename('IBI_A')\n",
    "    ibiB = ee.Image(image).expression('(NIR / (NIR + RED)) + (GREEN / (GREEN + SWIR1))',\n",
    "                                      {\n",
    "                                          'NIR': image.select('NIR'),\n",
    "                                          'RED': image.select('RED'),\n",
    "                                          'GREEN': image.select('GREEN'),\n",
    "                                          'SWIR1': image.select('SWIR1')\n",
    "                                      }).rename('IBI_B')\n",
    "    ibiAB = ibiA.addBands(ibiB)\n",
    "    ibi = ibiAB.normalizedDifference(['IBI_A', 'IBI_B'])\n",
    "    return image.addBands(ibi.rename('IBI'))"
   ]
  },
  {
   "cell_type": "code",
   "execution_count": null,
   "id": "0b823911-71c8-424d-a774-68929a01d7bd",
   "metadata": {
    "tags": []
   },
   "outputs": [],
   "source": [
    " # 16. Calculate NDFI using endmembers from Souza et al., 2005\n",
    " # @param {ee.Image} Surface reflectance image with 6 bands (i.e. not thermal)\n",
    " # @returns {ee.Image} NDFI transform\n",
    " #\n",
    "def calcNDFI(image):\n",
    "  # Do spectral unmixing #\n",
    "    gv = [.0500, .0900, .0400, .6100, .3000, .1000]\n",
    "    shade = [0, 0, 0, 0, 0, 0]\n",
    "    npv = [.1400, .1700, .2200, .3000, .5500, .3000]\n",
    "    soil = [.2000, .3000, .3400, .5800, .6000, .5800]\n",
    "    cloud = [.9000, .9600, .8000, .7800, .7200, .6500]\n",
    "    cf = .1 # Not parameterized\n",
    "    cfThreshold = ee.Image.constant(cf)\n",
    "    unmixImage = (ee.Image(image).unmix([gv, shade, npv, soil, cloud], True,True)\n",
    "                  .rename(['band_0', 'band_1', 'band_2','band_3','band_4']))\n",
    "    newImage = ee.Image(image).addBands(unmixImage)\n",
    "    mask = unmixImage.select('band_4').lt(cfThreshold) # Check that this is the right 'image'; previously 'Image'\n",
    "    ndfi = ee.Image(unmixImage).expression(\n",
    "        '((GV / (1 - SHADE)) - (NPV + SOIL)) / ((GV / (1 - SHADE)) + NPV + SOIL)', \n",
    "        {\n",
    "            'GV': ee.Image(unmixImage).select('band_0'),\n",
    "            'SHADE': ee.Image(unmixImage).select('band_1'),\n",
    "            'NPV': ee.Image(unmixImage).select('band_2'),\n",
    "            'SOIL': ee.Image(unmixImage).select('band_3')\n",
    "    })\n",
    "    return ee.Image(newImage) \\\n",
    "        .addBands(ee.Image(ndfi).rename(['NDFI'])) \\\n",
    "        .select(['band_0','band_1','band_2','band_3','NDFI']) \\\n",
    "        .rename(['GV','Shade','NPV','Soil','NDFI']) \\\n",
    "        .updateMask(mask)"
   ]
  },
  {
   "cell_type": "code",
   "execution_count": null,
   "id": "fcfb7f38-bff6-406e-a525-35e1bf6816e7",
   "metadata": {
    "tags": []
   },
   "outputs": [],
   "source": [
    "# 17. Tassel Cap coefficients from Crist 1985\n",
    "# @param {ee.Image} image, Landsat image with BLUE, GREEN, RED, NIR, SWIR1, and SWIR2\n",
    "# @returns {ee.Image} 3-band image with Brightness, Greenness, and Wetness\n",
    "#\n",
    "def tcTrans(image):\n",
    "    # Calculate tasseled cap transformation\n",
    "    brightness = image.expression(\n",
    "        '(L1 * B1) + (L2 * B2) + (L3 * B3) + (L4 * B4) + (L5 * B5) + (L6 * B6)',\n",
    "        {\n",
    "            'L1': image.select('BLUE'),\n",
    "            'B1': 0.2043,\n",
    "            'L2': image.select('GREEN'),\n",
    "            'B2': 0.4158,\n",
    "            'L3': image.select('RED'),\n",
    "            'B3': 0.5524,\n",
    "            'L4': image.select('NIR'),\n",
    "            'B4': 0.5741,\n",
    "            'L5': image.select('SWIR1'),\n",
    "            'B5': 0.3124,\n",
    "            'L6': image.select('SWIR2'),\n",
    "            'B6': 0.2303\n",
    "        })\n",
    "    greenness = image.expression(\n",
    "        '(L1 * B1) + (L2 * B2) + (L3 * B3) + (L4 * B4) + (L5 * B5) + (L6 * B6)',\n",
    "        {\n",
    "            'L1': image.select('BLUE'),\n",
    "            'B1': -0.1603,\n",
    "            'L2': image.select('GREEN'),\n",
    "            'B2': -0.2819,\n",
    "            'L3': image.select('RED'),\n",
    "            'B3': -0.4934,\n",
    "            'L4': image.select('NIR'),\n",
    "            'B4': 0.7940,\n",
    "            'L5': image.select('SWIR1'),\n",
    "            'B5': -0.0002,\n",
    "            'L6': image.select('SWIR2'),\n",
    "            'B6': -0.1446\n",
    "        })\n",
    "    wetness = image.expression(\n",
    "        '(L1 * B1) + (L2 * B2) + (L3 * B3) + (L4 * B4) + (L5 * B5) + (L6 * B6)',\n",
    "        {\n",
    "            'L1': image.select('BLUE'),\n",
    "            'B1': 0.0315,\n",
    "            'L2': image.select('GREEN'),\n",
    "            'B2': 0.2021,\n",
    "            'L3': image.select('RED'),\n",
    "            'B3': 0.3102,\n",
    "            'L4': image.select('NIR'),\n",
    "            'B4': 0.1594,\n",
    "            'L5': image.select('SWIR1'),\n",
    "            'B5': -0.6806,\n",
    "            'L6': image.select('SWIR2'),\n",
    "            'B6': -0.6109\n",
    "        })\n",
    "\n",
    "    bright =  ee.Image(brightness).rename('BRIGHTNESS')\n",
    "    green = ee.Image(greenness).rename('GREENNESS')\n",
    "    wet = ee.Image(wetness).rename('WETNESS')\n",
    "\n",
    "    tasseledCap = ee.Image([bright, green, wet])\n",
    "    return tasseledCap"
   ]
  },
  {
   "cell_type": "markdown",
   "id": "ba93b162-92ce-478a-9323-6ab40b09dfd2",
   "metadata": {
    "tags": []
   },
   "source": [
    "### Do Indices"
   ]
  },
  {
   "cell_type": "code",
   "execution_count": null,
   "id": "b4421e4b-1acd-4b0f-80cc-b94aeddd3f1f",
   "metadata": {},
   "outputs": [],
   "source": []
  },
  {
   "cell_type": "code",
   "execution_count": null,
   "id": "e57523ef-f156-4e62-8318-c11857f2e26b",
   "metadata": {},
   "outputs": [],
   "source": [
    "from ipynb.fs.full.indices1 import *"
   ]
  },
  {
   "cell_type": "code",
   "execution_count": null,
   "id": "d9f8922b-c75d-4b49-be6b-e4da8d2f90fd",
   "metadata": {
    "tags": []
   },
   "outputs": [],
   "source": [
    "# Calculate spectral indices for all bands in collection\n",
    "# @param {ee.ImageCollection} collection Landsat image collection\n",
    "# @returns {ee.ImageCollection} Landsat image with spectral indices\n",
    "#\n",
    "def doIndices(image):\n",
    "    def func_gev(image):\n",
    "        NDVI = calcNDVI(image)\n",
    "        gNDVI = addGNDVI(image)\n",
    "        NBR = calcNBR(image)\n",
    "        EVI = calcEVI(image)\n",
    "        EVI2 = calcEVI2(image)\n",
    "        NDMI = addNDMI(image)\n",
    "        NDWI = addNDWI(image)\n",
    "        MNDWI = addMNDWI(image)\n",
    "        MVI = addMVI(image)\n",
    "        BSI = addBSI(image)\n",
    "        IBI = addIBI(image)\n",
    "        SAVI = addSAVI(image)\n",
    "        TC = tcTrans(image)\n",
    "      # NDFI function requires surface reflectance bands only\n",
    "        BANDS = ['BLUE','GREEN','RED','NIR','SWIR1','SWIR2']\n",
    "        NDFI = calcNDFI(image.select(BANDS))\n",
    "        return image.addBands([NDVI, gNDVI, NBR, EVI, EVI2, NDMI, NDWI, MNDWI, MVI, BSI, IBI, SAVI, TC, NDFI])\n",
    "    return image.map(func_gev)"
   ]
  },
  {
   "cell_type": "code",
   "execution_count": null,
   "id": "b0228d15-acf3-424e-8383-1c6b224d392b",
   "metadata": {
    "tags": []
   },
   "outputs": [],
   "source": [
    "targetBands = ['BLUE','GREEN','RED','NIR','SWIR1','SWIR2','NDVI','gNDVI','NBR','EVI','NDMI','NDWI','MNDWI',\n",
    "               'MVI','BSI','IBI','SAVI','BRIGHTNESS','GREENNESS','WETNESS']"
   ]
  },
  {
   "cell_type": "raw",
   "id": "143ef624-bb37-4fdd-9cbe-2a10e935df75",
   "metadata": {},
   "source": [
    "'targetBands': ['BLUE','GREEN','RED','NIR','SWIR1','SWIR2','NDVI','gNDVI','NBR','EVI','EVI2','NDMI','NDWI','MNDWI','SAVI','IBI','NDFI','BRIGHTNESS','GREENNESS','WETNESS']"
   ]
  },
  {
   "cell_type": "code",
   "execution_count": null,
   "id": "cfa6a1ef-3d08-49ad-a497-0b464e350fa2",
   "metadata": {},
   "outputs": [],
   "source": []
  },
  {
   "cell_type": "code",
   "execution_count": null,
   "id": "76b64800-7ee3-48c5-9a7d-4dbd725aac55",
   "metadata": {},
   "outputs": [],
   "source": [
    "image = lsColl.median()"
   ]
  },
  {
   "cell_type": "code",
   "execution_count": null,
   "id": "6f4c479c-da8c-4616-be39-f875b9788e29",
   "metadata": {},
   "outputs": [],
   "source": [
    "# doesn't work ?? What if I add '.median()' hmmm!!\n",
    "#\n",
    "ndviSD = lsColl.map(addNDVIsd)"
   ]
  },
  {
   "cell_type": "code",
   "execution_count": null,
   "id": "beca05ce-dbc5-4065-935e-18d156f552ac",
   "metadata": {},
   "outputs": [],
   "source": [
    "ndviSD = addNDVIsd(lsColl).select('ndviSD')"
   ]
  },
  {
   "cell_type": "code",
   "execution_count": null,
   "id": "1b5da03d-d657-4945-810a-c1380c9b5707",
   "metadata": {},
   "outputs": [],
   "source": [
    "## This method for running 'fun' over my Landsat Collection (lsColl) works *** remember to calculate median ***\n",
    "ndvi2 = lsColl.map(calcNDVI).median()"
   ]
  },
  {
   "cell_type": "code",
   "execution_count": null,
   "id": "125ff2e2-ac8a-4b59-bfe6-985ccc5c4385",
   "metadata": {},
   "outputs": [],
   "source": [
    "image = image.addBands(ndvi2)"
   ]
  },
  {
   "cell_type": "code",
   "execution_count": null,
   "id": "57269b04-341c-4cd4-aa16-2450c68986f6",
   "metadata": {},
   "outputs": [],
   "source": []
  },
  {
   "cell_type": "code",
   "execution_count": null,
   "id": "6c45eb16-33ae-4e3d-84ac-50081a44256f",
   "metadata": {},
   "outputs": [],
   "source": [
    "# xx. Direct outputs from JRC's GSW1_3 Global Surface Water:\n",
    "#\n",
    "jrcImage = ee.Image(\"JRC/GSW1_3/GlobalSurfaceWater\")"
   ]
  },
  {
   "cell_type": "code",
   "execution_count": null,
   "id": "2c033452-0b14-4324-aa21-935fa5d4bfaf",
   "metadata": {
    "tags": []
   },
   "outputs": [],
   "source": [
    "# Add the 6 standard JRC Bands to the image stack, or (see next):\n",
    "#\n",
    "image = image.addBands(jrcImage.unmask(0))"
   ]
  },
  {
   "cell_type": "code",
   "execution_count": null,
   "id": "d1b5d9e8-e915-48f2-9375-aba0065bcd6d",
   "metadata": {
    "tags": []
   },
   "outputs": [],
   "source": [
    "# xx. Retrieve JRC / addBands and rename (only affects 'seasonality' —> 'seasonalit', 10-char max.):  \n",
    "#\n",
    "def addJRC(image):\n",
    "    # Update the mask (??)\n",
    "    image = image.unmask(0)\n",
    "    image = image.addBands(jrcImage.select(['occurrence']).rename(['occurrence']))\n",
    "    image = image.addBands(jrcImage.select(['change_abs']).rename(['change_abs']))\n",
    "    image = image.addBands(jrcImage.select(['change_norm']).rename(['change_nor']))\n",
    "    image = image.addBands(jrcImage.select(['seasonality']).rename(['seasonalit']))\n",
    "    image = image.addBands(jrcImage.select(['transition']).rename(['transition']))\n",
    "    image = image.addBands(jrcImage.select(['max_extent']).rename(['max_extent']))\n",
    "    return image"
   ]
  },
  {
   "cell_type": "code",
   "execution_count": null,
   "id": "88ed072e-7c98-4cc0-a29a-f0e9a9f83ec2",
   "metadata": {},
   "outputs": [],
   "source": [
    "image = image.addBands(addJRC(jrcImage))"
   ]
  },
  {
   "cell_type": "code",
   "execution_count": null,
   "id": "d86e6af0-596b-4020-9a8b-81aa845f970c",
   "metadata": {},
   "outputs": [],
   "source": [
    "# Three DEM versions, NASADEM should be an improvement ... need to check the band contents, as it differs between versions ***\n",
    "#\n",
    "srtm = ee.Image(\"USGS/SRTMGL1_003\")\n",
    "srtm1 = ee.Image(\"NASA/NASADEM_HGT/001\")\n",
    "aDem = ee.Image(\"JAXA/ALOS/AW3D30/V3_2\").select('DSM')"
   ]
  },
  {
   "cell_type": "code",
   "execution_count": null,
   "id": "ab66dc30-764d-44f3-86b5-993b72f4ae93",
   "metadata": {},
   "outputs": [],
   "source": [
    "import math"
   ]
  },
  {
   "cell_type": "code",
   "execution_count": null,
   "id": "a43c97d1-366d-4881-a00c-4289aaba69a1",
   "metadata": {
    "tags": []
   },
   "outputs": [],
   "source": [
    "# xx. Calculate/addBands Topographic Indices: (i) slope and aspect; (ii) east- and northness\n",
    "#\n",
    "import math\n",
    "def addTopo(image):\n",
    "    topo = ee.Algorithms.Terrain(image)\n",
    "  # From aspect (a), calculate 'eastness (sin a), northness (cos a)\n",
    "    deg2rad = ee.Number(math.pi).divide(180)\n",
    "    aspect = topo.select('aspect')\n",
    "    aspect_rad = aspect.multiply(deg2rad)\n",
    "    eastness = aspect_rad.sin().rename('eastness').float()\n",
    "    northness = aspect_rad.cos().rename('northness').float()\n",
    "    \n",
    "    topo = topo.select(['slope', 'aspect']).addBands(eastness).addBands(northness)\n",
    "    image = image.addBands(topo)\n",
    "    return image"
   ]
  },
  {
   "cell_type": "code",
   "execution_count": null,
   "id": "d1892b94-a805-45dd-8f41-3a588a9d2ac8",
   "metadata": {},
   "outputs": [],
   "source": [
    "image = image.addBands(addTopo(srtm))"
   ]
  },
  {
   "cell_type": "code",
   "execution_count": null,
   "id": "95007210-d804-49b0-9331-86fbaf9424b0",
   "metadata": {},
   "outputs": [],
   "source": [
    "# Testing outpus from 'ee.Algorithms.Terrain':\n",
    "#\n",
    "topo = ee.Algorithms.Terrain(srtm)"
   ]
  },
  {
   "cell_type": "markdown",
   "id": "d990e383-394a-4408-bca5-055c897d6766",
   "metadata": {
    "jp-MarkdownHeadingCollapsed": true,
    "tags": []
   },
   "source": [
    "### Collect Landsat image by sensor"
   ]
  },
  {
   "cell_type": "code",
   "execution_count": null,
   "id": "e34d56b7-097e-49ad-9744-39356ae8e3f6",
   "metadata": {},
   "outputs": [],
   "source": [
    "collection8 = (ee.ImageCollection('LANDSAT/LC08/C01/T1_SR')\n",
    "    .filterDate(iDate, fDate)\n",
    "    .map(prepareL8))"
   ]
  },
  {
   "cell_type": "code",
   "execution_count": null,
   "id": "2b1a4d4b-90ad-4a27-ab74-f6214639fb27",
   "metadata": {},
   "outputs": [],
   "source": [
    "collection7 = (ee.ImageCollection('LANDSAT/LE07/C01/T1_SR')\n",
    "    .filterDate(iDate, fDate)\n",
    "    .map(prepareL7))"
   ]
  },
  {
   "cell_type": "code",
   "execution_count": null,
   "id": "3fa6358a-6368-48ac-b141-4e635c1f435d",
   "metadata": {},
   "outputs": [],
   "source": [
    "collection5 = (ee.ImageCollection(\"LANDSAT/LT05/C01/T1_SR\")\n",
    "    .filterDate(iDate, fDate)\n",
    "    .map(prepareL4L5))"
   ]
  },
  {
   "cell_type": "code",
   "execution_count": null,
   "id": "ee693493-e965-432e-ad4d-f67e8e584d7e",
   "metadata": {},
   "outputs": [],
   "source": [
    "collection4 = (ee.ImageCollection(\"LANDSAT/LT04/C01/T1_SR\")\n",
    "    .filterDate(iDate, fDate)\n",
    "    .map(prepareL4L5))"
   ]
  },
  {
   "cell_type": "code",
   "execution_count": null,
   "id": "70d1d9e8-87e5-4f72-8c5e-dfcf89eac32c",
   "metadata": {},
   "outputs": [],
   "source": []
  },
  {
   "cell_type": "markdown",
   "id": "6c59f448-d154-4028-91bb-7bc92489d776",
   "metadata": {
    "tags": []
   },
   "source": [
    "### Get Landsat Collection, various methods, (i) generateCollection; (ii) collMerge; (iii) getLandsat"
   ]
  },
  {
   "cell_type": "code",
   "execution_count": null,
   "id": "4ee979da-0235-42b8-9226-f519fbb2cc28",
   "metadata": {
    "tags": []
   },
   "outputs": [],
   "source": [
    "def getLandsat(iDate, fDate, geom, targetBands, collection):\n",
    "    # collection = (options)\n",
    "    # iDate = (options) \n",
    "    # fDate = (options)\n",
    "    # region = (options)\n",
    "    # targetBands = (options)\n",
    "    \n",
    "    if (collection == 1):\n",
    "        collection8 = (ee.ImageCollection('LANDSAT/LC08/C01/T1_SR') \n",
    "            .filterDate(iDate, fDate))\n",
    "        collection7 = (ee.ImageCollection('LANDSAT/LE07/C01/T1_SR') \n",
    "            .filterDate(iDate, fDate))\n",
    "        collection5 = (ee.ImageCollection('LANDSAT/LT05/C01/T1_SR') \n",
    "            .filterDate(iDate, fDate))\n",
    "        collection4 = (ee.ImageCollection('LANDSAT/LT04/C01/T1_SR') \n",
    "            .filterDate(iDate, fDate))\n",
    "        coll8 = collection8.map(prepareL8)\n",
    "        coll7 = collection7.map(prepareL7)\n",
    "        coll5 = collection5.map(prepareL4L5)\n",
    "        coll4 = collection4.map(prepareL4L5)\n",
    "        \n",
    "    elif (collection == 2):\n",
    "        collection8 = (ee.ImageCollection('LANDSAT/LC08/C02/T1_L2') \n",
    "            .filterDate(iDate, fDate))\n",
    "        collection7 = (ee.ImageCollection('LANDSAT/LE07/C02/T1_L2') \n",
    "            .filterDate(iDate, fDate))\n",
    "        collection5 = (ee.ImageCollection('LANDSAT/LT05/C02/T1_L2') \n",
    "            .filterDate(iDate, fDate))\n",
    "        collection4 = (ee.ImageCollection('LANDSAT/LT04/C02/T1_L2') \n",
    "            .filterDate(iDate, fDate))\n",
    "        coll8 = collection8.map(prepareL8Col2)\n",
    "        coll7 = collection7.map(prepareL4L5L7Col2)\n",
    "        coll5 = collection5.map(prepareL4L5L7Col2)\n",
    "        coll4 = collection4.map(prepareL4L5L7Col2)\n",
    "        \n",
    "    coll = coll4.merge(coll5).merge(coll7).merge(coll8)\n",
    "    if (geom):\n",
    "        coll = coll.filterBounds(geom)\n",
    "    indices = doIndices(coll).select(targetBands)\n",
    "    \n",
    "  ## If we want to exclude some of the sensor: but not sure how to, e.g., 'no sensors.l4' \n",
    "    # if (not sensors.l4):\n",
    "    #     indices = indices.filterMetadata('SATELLITE','not_equals','LANDSAT_4')\n",
    "    # if (not sensors.l5):\n",
    "    #     indices = indices.filterMetadata('SATELLITE','not_equals','LANDSAT_5')        \n",
    "    # if (not sensors.l7):\n",
    "    #     indices = indices.filterMetadata('SATELLITE','not_equals','LANDSAT_7')        \n",
    "    # if (not sensors.l8):\n",
    "    #     indices = indices.filterMetadata('SATELLITE','not_equals','LANDSAT_8')        \n",
    "        \n",
    "    return ee.ImageCollection(indices)"
   ]
  },
  {
   "cell_type": "code",
   "execution_count": null,
   "id": "de6ee41f-4b44-40d3-972d-a4914f8aa5d9",
   "metadata": {},
   "outputs": [],
   "source": [
    "lsColl = getLandsat(iDate, fDate, aoi, targetBands, 2)"
   ]
  },
  {
   "cell_type": "code",
   "execution_count": null,
   "id": "06244bde-6110-4fcb-aa88-dd88c17ab049",
   "metadata": {
    "tags": []
   },
   "outputs": [],
   "source": [
    "iDate, fDate, lsColl"
   ]
  },
  {
   "cell_type": "code",
   "execution_count": null,
   "id": "afef5e10-f317-4122-9f9e-958d34c586b0",
   "metadata": {},
   "outputs": [],
   "source": [
    "geom = nw1"
   ]
  },
  {
   "cell_type": "code",
   "execution_count": null,
   "id": "f729f3c7-86b6-45d7-ae19-172535641de5",
   "metadata": {},
   "outputs": [],
   "source": [
    "sensors = {'l4', 'l5', 'l7', 'l8'}"
   ]
  },
  {
   "cell_type": "code",
   "execution_count": null,
   "id": "2e8022ad-a0b0-469a-89f2-7108ff852046",
   "metadata": {},
   "outputs": [],
   "source": [
    "aoi"
   ]
  },
  {
   "cell_type": "code",
   "execution_count": null,
   "id": "00e9ed73-82cc-4c3b-ae1f-c970456b9e92",
   "metadata": {
    "tags": []
   },
   "outputs": [],
   "source": [
    "getLandsatParams = {\n",
    "    'collection': 1,\n",
    "    'start': iDate, \n",
    "    'end': fDate, \n",
    "    # 'startDoy': 1, 'endDoy': 366,\n",
    "    'region': geom,\n",
    "    'targetBands': ['BLUE','GREEN','RED','NIR','SWIR1','SWIR2', 'NDVI'],\n",
    "    'useMask': True,\n",
    "    'sensors': {'l4': True, 'l5': True, 'l7': True, 'l8': True},\n",
    "}\n",
    "getLandsatParams"
   ]
  },
  {
   "cell_type": "code",
   "execution_count": null,
   "id": "2b368377-e515-423d-b880-856637c30299",
   "metadata": {},
   "outputs": [],
   "source": []
  },
  {
   "cell_type": "code",
   "execution_count": 19,
   "id": "1c92174e-a5f2-4808-a53e-8546fbf51503",
   "metadata": {
    "tags": []
   },
   "outputs": [],
   "source": [
    "Map.addLayer(lsColl_noind.select(['SWIR1','NIR','GREEN']).median(), {'bands': ['SWIR1','NIR','GREEN'], 'min':0.020, 'max':0.400, 'gamma': 0.85}, 'Landsat Coll')"
   ]
  },
  {
   "cell_type": "code",
   "execution_count": null,
   "id": "bf4b5d66-48b1-4934-a080-e4755b4dde30",
   "metadata": {
    "tags": []
   },
   "outputs": [],
   "source": [
    "Map.addLayer(lsColl.select(['MVI']).median(), mvi_vis_params, 'Index Sel')"
   ]
  },
  {
   "cell_type": "code",
   "execution_count": 18,
   "id": "a778a4db-25b8-4c13-8e4b-6138d07b5637",
   "metadata": {},
   "outputs": [],
   "source": [
    "Map.addLayer(lsColl_noind, {}, 'Landsat all bands')"
   ]
  },
  {
   "cell_type": "code",
   "execution_count": 23,
   "id": "7c345f48-6231-4cbd-9831-0565548144ba",
   "metadata": {},
   "outputs": [],
   "source": [
    "Map.addLayer(ndvi, {}, 'Image in progress')"
   ]
  },
  {
   "cell_type": "code",
   "execution_count": null,
   "id": "66979d60-d4f0-4745-8246-3ce36601a4cc",
   "metadata": {},
   "outputs": [],
   "source": [
    "Map.addLayer(aDem, elv_vis_params, 'ALOS DEM')"
   ]
  },
  {
   "cell_type": "code",
   "execution_count": 22,
   "id": "578cf6f3-b8f0-4ebc-9771-8eafe75b41f9",
   "metadata": {
    "tags": []
   },
   "outputs": [
    {
     "data": {
      "application/vnd.jupyter.widget-view+json": {
       "model_id": "d0510f0c3e914a9a8ad8833ba5eb5884",
       "version_major": 2,
       "version_minor": 0
      },
      "text/plain": [
       "Map(center=[-13.5, 48.4], controls=(WidgetControl(options=['position', 'transparent_bg'], widget=HBox(children…"
      ]
     },
     "metadata": {},
     "output_type": "display_data"
    }
   ],
   "source": [
    "Map = geemap.Map(center=(-13.5, 48.4), zoom=8)\n",
    "Map"
   ]
  },
  {
   "cell_type": "code",
   "execution_count": null,
   "id": "9663b5b0-71d2-4358-91a0-7c05584ce8c8",
   "metadata": {},
   "outputs": [],
   "source": []
  },
  {
   "cell_type": "code",
   "execution_count": 10,
   "id": "d23f4d0c-1a7b-4aa4-be47-5f668c2c9094",
   "metadata": {
    "tags": []
   },
   "outputs": [],
   "source": [
    "# Get Landsat image collection (T1_SR), no indices\n",
    "#\n",
    "def generateCollection(geom, iDate, fDate, collection):\n",
    "    collection = 1\n",
    "    collection8 = (ee.ImageCollection('LANDSAT/LC08/C01/T1_SR')\n",
    "        .filter(\"WRS_ROW < 122\")\n",
    "        .filterBounds(geom)\n",
    "        .map(prepareL8))\n",
    "    collection7 = (ee.ImageCollection('LANDSAT/LE07/C01/T1_SR')\n",
    "        .filter(\"WRS_ROW < 122\")\n",
    "        .filterBounds(geom)\n",
    "        .map(prepareL7))\n",
    "    collection5 = (ee.ImageCollection('LANDSAT/LT05/C01/T1_SR')\n",
    "        .filter(\"WRS_ROW < 122\")\n",
    "        .filterBounds(geom)\n",
    "        .map(prepareL4L5))\n",
    "    collection4 = (ee.ImageCollection('LANDSAT/LT04/C01/T1_SR')\n",
    "        .filter(\"WRS_ROW < 122\")\n",
    "        .filterBounds(geom)    \n",
    "        .map(prepareL4L5))\n",
    "    \n",
    "    mergedColl = ee.ImageCollection(collection8).merge(collection7).merge(collection5).merge(collection4).filterDate(iDate, fDate)\n",
    "    return mergedColl\n",
    "    # return ee.ImageCollection(mergedColl)"
   ]
  },
  {
   "cell_type": "code",
   "execution_count": 14,
   "id": "8493f0ca-6c93-4dec-b31c-28312ac0cedc",
   "metadata": {
    "tags": []
   },
   "outputs": [],
   "source": [
    "lsColl_noind = generateCollection(geom, iDate, fDate, 1)"
   ]
  },
  {
   "cell_type": "code",
   "execution_count": 16,
   "id": "0b29f64e-5ade-43bc-8de2-437e1d805b3e",
   "metadata": {
    "tags": []
   },
   "outputs": [
    {
     "data": {
      "text/plain": [
       "('2021-01-01',\n",
       " '2022-01-01',\n",
       " <ee.imagecollection.ImageCollection at 0x1d522ee1550>)"
      ]
     },
     "execution_count": 16,
     "metadata": {},
     "output_type": "execute_result"
    }
   ],
   "source": [
    "iDate, fDate, lsColl_noind"
   ]
  },
  {
   "cell_type": "code",
   "execution_count": 20,
   "id": "cb07ef6a-86f4-4206-a180-16259e4a3aa7",
   "metadata": {},
   "outputs": [],
   "source": [
    "from ipynb.fs.full.indices1 import calcNDVI"
   ]
  },
  {
   "cell_type": "code",
   "execution_count": 21,
   "id": "b9a6cfc2-e4c6-4f76-ac9f-0667588fe28c",
   "metadata": {},
   "outputs": [],
   "source": [
    "ndvi = lsColl_noind.map(calcNDVI).median()"
   ]
  },
  {
   "cell_type": "code",
   "execution_count": null,
   "id": "1f1c7b64-11e0-4d48-bf2f-42cc168ac91d",
   "metadata": {
    "tags": []
   },
   "outputs": [],
   "source": [
    "# Get Landsat image collection, earlier version targetting 'T1_SR' only, and calc/addBands indices\n",
    "#\n",
    "def collMerge(iDate, fDate, region):\n",
    "    collection8 = (ee.ImageCollection('LANDSAT/LC08/C01/T1_SR')\n",
    "        .filterDate(iDate, fDate)\n",
    "        .map(prepareL8))\n",
    "    collection7 = (ee.ImageCollection('LANDSAT/LE07/C01/T1_SR')\n",
    "        .filterDate(iDate, fDate)\n",
    "        .map(prepareL7))\n",
    "    collection5 = (ee.ImageCollection('LANDSAT/LT05/C01/T1_SR')\n",
    "        .filterDate(iDate, fDate)\n",
    "        .map(prepareL4L5))\n",
    "    collection4 = (ee.ImageCollection('LANDSAT/LT04/C01/T1_SR')\n",
    "        .filterDate(iDate, fDate)\n",
    "        .map(prepareL4L5))\n",
    "    col = collection4.merge(collection5).merge(collection7).merge(collection8)\n",
    "    if (region):\n",
    "        col = col.filterBounds(region)\n",
    "    indices = doIndices(col).select(targetBands)\n",
    "    return ee.ImageCollection(indices)"
   ]
  },
  {
   "cell_type": "code",
   "execution_count": null,
   "id": "a78b1c2f-d58f-4cc1-8f0f-f0774c832d13",
   "metadata": {
    "tags": []
   },
   "outputs": [],
   "source": [
    "lsColl_t1SR = collMerge(iDate, fDate, geom)"
   ]
  },
  {
   "cell_type": "code",
   "execution_count": null,
   "id": "145c1d87-4c93-42d1-8ceb-7fca5d8e7eeb",
   "metadata": {},
   "outputs": [],
   "source": []
  },
  {
   "cell_type": "markdown",
   "id": "f709ae3b-7aec-4a80-880b-2c5dfb182b0e",
   "metadata": {},
   "source": [
    "### Next thing:"
   ]
  },
  {
   "cell_type": "code",
   "execution_count": null,
   "id": "a20ffe66-e40d-45fe-866d-b8195bd63eef",
   "metadata": {
    "tags": []
   },
   "outputs": [],
   "source": [
    "# tc = collection8.map(tcTrans)"
   ]
  },
  {
   "cell_type": "code",
   "execution_count": null,
   "id": "3653657b-5de6-406b-8c2a-f0e52d21f1c2",
   "metadata": {},
   "outputs": [],
   "source": [
    "# indices = doIndices(collection8)"
   ]
  },
  {
   "cell_type": "code",
   "execution_count": null,
   "id": "b971fbc4-2407-47dc-bbc2-d350c332cbe6",
   "metadata": {},
   "outputs": [],
   "source": []
  },
  {
   "cell_type": "raw",
   "id": "7c9e9e0f-7752-4e36-961a-3763ae691e97",
   "metadata": {
    "tags": []
   },
   "source": [
    "def getLandsat(options):\n",
    "    start = (options) | '1980-01-01'\n",
    "    end = (options & options.end) | '2022-01-01'\n",
    "    startDoy = (options & options.startDoy) | 1\n",
    "    endDoy = (options & options.endDoy) | 366\n",
    "    region = (options & options.region) | none\n",
    "    targetBands = (options & options.targetBands) | ['BLUE','GREEN','RED','NIR','SWIR1','SWIR2','TEMP','NDVI','NBR','NDFI','GV','NPV','Shade','Soil']\n",
    "    useMask = (options & options.useMask) | True\n",
    "    sensors = (options & options.sensor) | {'l4': True, 'l5': True, 'l7': True, 'l8': True}\n",
    "    \n",
    "    # Filter using new filtering functions\n",
    "    collection8 = (ee.ImageCollection('LANDSAT/LC08/C01/T1_SR') \n",
    "        .filterDate(start, end) \n",
    "        .map(prepareL8))\n",
    "    collection7 = (ee.ImageCollection('LANDSAT/LE07/C01/T1_SR') \n",
    "        .filterDate(start, end) \n",
    "        .map(prepareL7))\n",
    "    collection5 = (ee.ImageCollection('LANDSAT/LT05/CO1/T1_SR') \n",
    "        .filterDate(start, end) \n",
    "        .map(prepareL4L5))\n",
    "    collection4 = (ee.ImageCollection('LANDSAT/LT04/CO1/T1_SR') \n",
    "        .filterDate(start, end) \n",
    "        .map(prepareL4L5))\n",
    "    # if (useMask == 'No'): \n",
    "    #     useMask = False\n",
    "    # if (useMask): { \n",
    "    #     collection8.map(prepareL8)\n",
    "    #     collection7.map(prepareL7)\n",
    "    #     collection5.map(prepareL4L5)\n",
    "    #     collection4.map(prepareL4L5)\n",
    "    # }\n",
    "    col = collection4.merge(collection5).merge(collection7).merge(collection8)\n",
    "    if (region):\n",
    "        col = col.filterBounds(region)\n",
    "    \n",
    "    indices = doIndices(col).select(targetBands)\n",
    "    \n",
    "    return ee.ImageCollection(indices)"
   ]
  }
 ],
 "metadata": {
  "kernelspec": {
   "display_name": "Python 3 (ipykernel)",
   "language": "python",
   "name": "python3"
  },
  "language_info": {
   "codemirror_mode": {
    "name": "ipython",
    "version": 3
   },
   "file_extension": ".py",
   "mimetype": "text/x-python",
   "name": "python",
   "nbconvert_exporter": "python",
   "pygments_lexer": "ipython3",
   "version": "3.9.7"
  }
 },
 "nbformat": 4,
 "nbformat_minor": 5
}
